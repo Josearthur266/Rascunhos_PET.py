{
 "cells": [
  {
   "cell_type": "code",
   "execution_count": 1,
   "id": "aecdc990-46af-4468-9e40-f36004a41df5",
   "metadata": {},
   "outputs": [],
   "source": [
    "import numpy as np\n",
    "import matplotlib.pyplot as plt"
   ]
  },
  {
   "cell_type": "code",
   "execution_count": 4,
   "id": "ef093f36-2a07-4af3-bfba-7a25062ce6cf",
   "metadata": {},
   "outputs": [],
   "source": [
    "def fpsi(x, k_0):\n",
    "    x_c = -0.5\n",
    "    sigma = 0.05\n",
    "    \n",
    "    temp1 = np.sqrt(np.exp(-(x - x_c)**2/(2*sigma**2))/(sigma*np.sqrt(2)))\n",
    "    temp2 = np.exp(complex(0, 1)*k_0*x)\n",
    "    return temp1*temp2"
   ]
  },
  {
   "cell_type": "code",
   "execution_count": 5,
   "id": "9085f926-8be9-4c3c-94f0-c77a145e227b",
   "metadata": {},
   "outputs": [],
   "source": [
    "def fint(psi, x_l, a, b):\n",
    "    N = len(psi)\n",
    "    h = abs(b-a)/N\n",
    "    x = np.linspace(a, b, N)\n",
    "    s_p, s_i = 0, 0\n",
    "    s_0 = abs(psi[N-1])**2 + abs(psi[0])**2\n",
    "\n",
    "    for i in range(1, N-1):\n",
    "        if i%2 == 0:\n",
    "            s_p += abs(psi[i])**2\n",
    "        else:\n",
    "            s_i += abs(psi[i])**2\n",
    "    S_f = h*(s_0 + 2*s_p + 4*s_i)/3\n",
    "    return S_f"
   ]
  },
  {
   "cell_type": "code",
   "execution_count": 26,
   "id": "62982aec-954b-4986-801c-54ae3f3b807b",
   "metadata": {},
   "outputs": [
    {
     "name": "stdout",
     "output_type": "stream",
     "text": [
      "1.8766032173085903\n"
     ]
    }
   ],
   "source": [
    "x = np.linspace(-10, 10, 100)\n",
    "psi = fpsi(x, 10)\n",
    "x_T = np.linspace(0, 1, 100)\n",
    "T = fint(abs(psi), x, 0, 10)\n",
    "print(T)"
   ]
  },
  {
   "cell_type": "code",
   "execution_count": null,
   "id": "5f683221-f8fc-4b44-968b-e0b5bffabf10",
   "metadata": {},
   "outputs": [],
   "source": []
  },
  {
   "cell_type": "code",
   "execution_count": null,
   "id": "16d2c5de-576e-41a4-97e1-4946b5310dfb",
   "metadata": {},
   "outputs": [],
   "source": []
  }
 ],
 "metadata": {
  "kernelspec": {
   "display_name": "Python 3 (ipykernel)",
   "language": "python",
   "name": "python3"
  },
  "language_info": {
   "codemirror_mode": {
    "name": "ipython",
    "version": 3
   },
   "file_extension": ".py",
   "mimetype": "text/x-python",
   "name": "python",
   "nbconvert_exporter": "python",
   "pygments_lexer": "ipython3",
   "version": "3.11.9"
  }
 },
 "nbformat": 4,
 "nbformat_minor": 5
}
