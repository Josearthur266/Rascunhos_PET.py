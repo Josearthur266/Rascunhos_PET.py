{
 "cells": [
  {
   "cell_type": "markdown",
   "id": "acae0e37-9520-4148-ba32-c7787288acff",
   "metadata": {},
   "source": [
    "# Espalhamento e Tunelamento Quântico"
   ]
  },
  {
   "cell_type": "markdown",
   "id": "ccc23830-4fe8-4e39-8cd4-7794fa884fd2",
   "metadata": {},
   "source": [
    "* Matéria: Física Quântica\n",
    "* Aluno: José Arthur de Luna Oliveira\n",
    "* Professor: Bruno Ricardo de Carvalho\n",
    "* Data:"
   ]
  },
  {
   "cell_type": "markdown",
   "id": "ced03155-e106-4885-bed0-8b7f772d5569",
   "metadata": {},
   "source": [
    "$\\quad$ Neste trabalho discutiremos sobre o espalhamento e tunelamento quântico."
   ]
  },
  {
   "cell_type": "markdown",
   "id": "dc564367-fc56-4cce-8eba-da88e4fd0d9d",
   "metadata": {},
   "source": [
    "Neste `Notebook` haverá as seguintes seções:\n",
    "\n",
    "* Introdução;\n",
    "* Desenvolvimento do Problema;\n",
    "* Conclusão."
   ]
  },
  {
   "cell_type": "markdown",
   "id": "b1bd0d75-19b3-4564-a6bd-b14dd4ad7434",
   "metadata": {},
   "source": [
    "## Importando Bibliotecas"
   ]
  },
  {
   "cell_type": "code",
   "execution_count": 1,
   "id": "37163b77-bccc-479a-bc61-91c726014bed",
   "metadata": {},
   "outputs": [],
   "source": [
    "import matplotlib.pyplot as plt\n",
    "import numpy as np\n",
    "\n",
    "def plot_ticks(): #essa é uma função que mexe na aparência dos gráficos\n",
    "    plt.figure(figsize = (8,5))\n",
    "    plt.minorticks_on()\n",
    "    plt.tick_params(axis='x', which='both', top = True, right = True, direction = 'in', length=5, width=1)\n",
    "    plt.tick_params(axis='y', which='both', top = True, right = True, direction = 'in', length=5, width=1)"
   ]
  },
  {
   "cell_type": "markdown",
   "id": "7c63a317-d2c6-424e-b931-e79812aee3b4",
   "metadata": {},
   "source": [
    "## Detalhes da Biblioteca"
   ]
  },
  {
   "cell_type": "code",
   "execution_count": 2,
   "id": "95068537-294d-4b61-b481-7ea81c7ef9fc",
   "metadata": {},
   "outputs": [
    {
     "data": {
      "application/json": {
       "Software versions": [
        {
         "module": "Python",
         "version": "3.11.8 64bit [MSC v.1916 64 bit (AMD64)]"
        },
        {
         "module": "IPython",
         "version": "8.20.0"
        },
        {
         "module": "OS",
         "version": "Windows 10 10.0.22631 SP0"
        },
        {
         "module": "Matplotlib",
         "version": "3.8.0"
        },
        {
         "module": "Numpy",
         "version": "1.26.4"
        }
       ]
      },
      "text/html": [
       "<table><tr><th>Software</th><th>Version</th></tr><tr><td>Python</td><td>3.11.8 64bit [MSC v.1916 64 bit (AMD64)]</td></tr><tr><td>IPython</td><td>8.20.0</td></tr><tr><td>OS</td><td>Windows 10 10.0.22631 SP0</td></tr><tr><td>Matplotlib</td><td>3.8.0</td></tr><tr><td>Numpy</td><td>1.26.4</td></tr><tr><td colspan='2'>Mon May 06 23:52:33 2024 Hora Padrão de Buenos Aires</td></tr></table>"
      ],
      "text/latex": [
       "\\begin{tabular}{|l|l|}\\hline\n",
       "{\\bf Software} & {\\bf Version} \\\\ \\hline\\hline\n",
       "Python & 3.11.8 64bit [MSC v.1916 64 bit (AMD64)] \\\\ \\hline\n",
       "IPython & 8.20.0 \\\\ \\hline\n",
       "OS & Windows 10 10.0.22631 SP0 \\\\ \\hline\n",
       "Matplotlib & 3.8.0 \\\\ \\hline\n",
       "Numpy & 1.26.4 \\\\ \\hline\n",
       "\\hline \\multicolumn{2}{|l|}{Mon May 06 23:52:33 2024 Hora Padrão de Buenos Aires} \\\\ \\hline\n",
       "\\end{tabular}\n"
      ],
      "text/plain": [
       "Software versions\n",
       "Python 3.11.8 64bit [MSC v.1916 64 bit (AMD64)]\n",
       "IPython 8.20.0\n",
       "OS Windows 10 10.0.22631 SP0\n",
       "Matplotlib 3.8.0\n",
       "Numpy 1.26.4\n",
       "Mon May 06 23:52:33 2024 Hora Padrão de Buenos Aires"
      ]
     },
     "execution_count": 2,
     "metadata": {},
     "output_type": "execute_result"
    }
   ],
   "source": [
    "%load_ext version_information\n",
    "%version_information Matplotlib, Numpy"
   ]
  },
  {
   "cell_type": "markdown",
   "id": "95176043-ab32-4d30-aaf2-7fb0e0421333",
   "metadata": {},
   "source": [
    "## 1. Introdução"
   ]
  },
  {
   "cell_type": "markdown",
   "id": "376477a6-afc2-4122-9974-6e8ef2cd8c8b",
   "metadata": {},
   "source": [
    "$\\quad$ O espalhamento quântico é um fenômeno fundamental na Mecânica Quântica. Ele envolve o comportamento das partículas antes e após colidirem entre si. Durante o espalhamento, as propriedades das partículas, como sua posição, momento e energia, podem ser alteradas devido à interação. Entretanto, as leis da Mecânica Quântica determinam que essas mudanças não podem ser previstas de maneira determinística, apenas em termos de probabilidades. \n",
    "\n",
    "$\\quad$ O principal exemplo é o espalhamento de elétrons por núcleos atômicos. No qual, ocorre quando um elétron se aproxima de um núcleo atômico, ela pode ser desviada de sua trajetória original devido à interação eletromagnética entre as cargas elétricas do elétron e do núcleo. O resultado desse espalhamento pode variar de acordo com diversos fatores, incluindo a energia do elétron, a distância de aproximação e as propriedades específicas do núcleo. Em geral, o espalhamento quântico é o tipo de processos em que um estado inicial contínuo é transformado em um final contínuo através da ação de algum potencial **[2]**.\n",
    "\n",
    "$\\quad$ Para trabalharmos nesse problema, imaginemos uma partícula livre, viajando da direita para a esquerda, com energia $E$ em uma região I ($x \\leq 0$), em $x>0$ é a região II onde há ação de potencial $V = V_0$. Na Mecânica Clássica, as duas possibilidades de resultados, caso $E<V_0$ a partícula é refletida, ela não consegue ir para a região II, entretanto, se $E>V_0$ ela consegue passar para a outra região. Em contrapartida, na Mecânica Quântica, se $E<V_0$ existe probabilidade da partícula passar para a região II, esse fenômeno é chamado de Tunelamento."
   ]
  },
  {
   "cell_type": "markdown",
   "id": "bb95cec9-1ed3-4195-9846-898914fa3a84",
   "metadata": {},
   "source": [
    "### 1.1 Desenvolvimento do problema"
   ]
  },
  {
   "cell_type": "markdown",
   "id": "119096d1-0ed8-4aab-bdc9-199023a51f7a",
   "metadata": {},
   "source": [
    "$\\quad$ Dito isso, para conseguirmos desenvolver o problema trocaremos a partícula por um pacote de onda $\\psi_I(x)$, na qual quando atinge a barreira de potencial haverá uma onda refletida $\\psi_R(x)$ e outra transmitidas $\\psi_T(x)$. O problema em questão é encontrar a probabilidade de encontrar a partícula na região I ($R$) e a probabilidade de encontrar na região II ($T$), para encontrar esses dois valores basta determinar as seguintes integrais,"
   ]
  },
  {
   "cell_type": "markdown",
   "id": "71d3c4f4-58af-490c-9714-f82692c5d9e9",
   "metadata": {},
   "source": [
    "$$ R = \\int |\\psi_R|^2dx \\ , \\tag{1.1}$$"
   ]
  },
  {
   "cell_type": "markdown",
   "id": "6a63c52d-42df-41ab-9586-bedee880463c",
   "metadata": {},
   "source": [
    "$$T = \\int |\\psi_T|^2dx \\ ,\\tag{1.2}$$"
   ]
  },
  {
   "cell_type": "markdown",
   "id": "307b2bcd-b216-4d28-9f18-d7f6cd3ec4f1",
   "metadata": {},
   "source": [
    "devemos calcula-las considerando $t \\rightarrow \\infty$. \n",
    "\n",
    "$\\quad$ Em geral, $R$ e $T$ dependem diretamente do corpo da função de onda incidente. No entanto, mantendo o momento inicial bem definido, ou seja, $\\Delta p \\rightarrow 0$ e $\\Delta x \\rightarrow \\infty$. Assim, o resultado dependerá apenas do valor da energia inicial **[1]**."
   ]
  },
  {
   "cell_type": "markdown",
   "id": "438f42bc-beec-40e8-9c55-9651f6a94195",
   "metadata": {},
   "source": [
    "$\\quad$ Para este problema consideraremos um potencial degrau de forma que será definido da seguinte forma"
   ]
  },
  {
   "attachments": {
    "bd51a469-c691-422f-893e-7cc10f91d54b.png": {
     "image/png": "[encoded data removed]"
    }
   },
   "cell_type": "markdown",
   "id": "206a4628-11f4-4aa0-8ec8-cb3d20bccd4c",
   "metadata": {},
   "source": [
    "![potencial_degrau.png](attachment:bd51a469-c691-422f-893e-7cc10f91d54b.png)"
   ]
  },
  {
   "cell_type": "markdown",
   "id": "27313720-5a34-4cc4-b798-88eb8d7acd79",
   "metadata": {},
   "source": [
    "$$  {\\begin{cases}\n",
    "        V(x) = 0, \\ para \\ x<0\\\\\n",
    "        \\\\\n",
    "        V(x) = V_0, \\ para \\ 0<x<a \\\\\n",
    "        \\\\\n",
    "        V(x) = 0, \\ para \\ x>a \\\\\n",
    "        \\end{cases}\n",
    "        } \\ ,$$"
   ]
  },
  {
   "cell_type": "markdown",
   "id": "57308ccc-d2ab-4dbc-aa84-65d28db8a56b",
   "metadata": {},
   "source": [
    "de forma que em $x<0$ é a região I, em $0<x<a$ é a região II e em $x>a$ é a região III. Para resolver devemos começar com a equação de Schrödinger independente do tempo"
   ]
  },
  {
   "cell_type": "markdown",
   "id": "5d71fe53-30b1-4c55-b972-7dfc697935d9",
   "metadata": {},
   "source": [
    "$$ \\frac{d^2\\psi(x)}{dx^2} + \\frac{2m}{\\hbar^2}(E - V(x))\\psi(x) = 0 \\ . \\tag{1.3}$$"
   ]
  },
  {
   "cell_type": "markdown",
   "id": "3ae50a77-3b07-47ea-829b-acfdc5d6acd2",
   "metadata": {},
   "source": [
    "$\\quad$ A onda incidente se encontra na região I, onde $V(x) = 0$, assim a Equação **(1.3)** ficará da seguinte forma"
   ]
  },
  {
   "cell_type": "markdown",
   "id": "4f71d84c-6351-47f9-9d31-14df38cf811f",
   "metadata": {},
   "source": [
    "$$ \\frac{d^2\\psi(x)}{dx^2} + \\frac{2mE}{\\hbar^2}\\psi(x) = 0$$"
   ]
  },
  {
   "cell_type": "markdown",
   "id": "7c97d3f7-371d-4302-896a-d306facbc58d",
   "metadata": {},
   "source": [
    "$$ \\implies \\frac{d^2\\psi(x)}{dx^2} = - \\frac{2mE}{\\hbar^2}\\psi(x) \\ .$$"
   ]
  },
  {
   "cell_type": "markdown",
   "id": "4d39e383-7960-4d48-9f3d-db7952c91fe7",
   "metadata": {},
   "source": [
    "$\\quad$ A solução geral para esta EDO é $ \\psi(x) = Ae^{ik_1x}$, em que $k_1 = \\sqrt{\\frac{2mE}{\\hbar^2}}$. Com esse resultado podemos definir o a função de onda para o pacote de onda incidente e refletido. Dessa forma,"
   ]
  },
  {
   "cell_type": "markdown",
   "id": "6319cbdd-4e84-4b62-aa75-bc5dfccc0ba4",
   "metadata": {},
   "source": [
    "$$ \\psi_I(x) = Ae^{ik_1x} \\ , \\tag{1.4}$$"
   ]
  },
  {
   "cell_type": "markdown",
   "id": "1ec235b1-ebfa-4194-96a5-73b94710b9c1",
   "metadata": {},
   "source": [
    "$$ \\psi_R = Be^{-ik1x} \\ . \\tag{1.5}$$"
   ]
  },
  {
   "cell_type": "markdown",
   "id": "4860962f-8615-4875-83bb-33cd3e121a62",
   "metadata": {},
   "source": [
    "note que há um sinal de menos no expoente, porque a função de onda refletida será contrária à incidente.\n",
    "\n",
    "$\\quad$ Em seguida, na região II a Equação **(1.3)** ficará assim,"
   ]
  },
  {
   "cell_type": "markdown",
   "id": "953fc008-a45a-4877-842c-9c0d38ab9299",
   "metadata": {},
   "source": [
    "$$ \\frac{d^2\\psi(x)}{dx^2} + \\frac{2m}{\\hbar^2}(E - V_0)\\psi(x) = 0$$"
   ]
  },
  {
   "cell_type": "markdown",
   "id": "9bc811bd-d6d3-400c-b65f-7e640076f209",
   "metadata": {},
   "source": [
    "$$ \\implies \\frac{d^2\\psi(x)}{dx^2} = \\frac{2m}{\\hbar^2}(V_0 - E)\\psi(x) \\ ,$$"
   ]
  },
  {
   "cell_type": "markdown",
   "id": "bbd5a53f-d8fa-42ba-ae0e-28c576423137",
   "metadata": {},
   "source": [
    "a solução geral dessa EDO é $\\psi(x) = Ce^{k_2x} + De^{-k_2x}$, em que $k_2 = \\sqrt{\\frac{2m(V_0 - E)}{\\hbar^2}}$. Logo"
   ]
  },
  {
   "cell_type": "markdown",
   "id": "b779ccc5-7f16-4a91-927b-46c3b61cfba6",
   "metadata": {},
   "source": [
    "$$ \\psi_{II} = Ce^{k_2x} + De^{-k_2x} \\ . \\tag{1.6}$$"
   ]
  },
  {
   "cell_type": "markdown",
   "id": "04d7d1e8-580a-4e99-8b09-e21a7966afc4",
   "metadata": {},
   "source": [
    "$\\quad$ Por fim, para a região III a Equação **(1.1)** ficará da mesma forma que para o que foi feito para região I, ou seja, possuem a mesma solução. Com isso, agora temos o pacote de onda após o tunelamento, a onda transmitida"
   ]
  },
  {
   "cell_type": "markdown",
   "id": "3069374c-3f02-4476-8f64-72e49e881a6a",
   "metadata": {},
   "source": [
    "$$ \\psi_T(x) = Fe^{ik_1x} \\ . \\tag{1.7}$$"
   ]
  },
  {
   "cell_type": "markdown",
   "id": "233f43b6-ce4c-4ea2-93a3-ac0d3e065c84",
   "metadata": {},
   "source": [
    "$\\quad$ Agora aplicaremos as condições de contorno, em que em $x=0$ as funções de onda da região I e II devem ser iguais e suas derivadas em torno desse ponto também, dessa forma"
   ]
  },
  {
   "cell_type": "markdown",
   "id": "48097aaa-b87b-4ada-ba81-319a69a1ad26",
   "metadata": {},
   "source": [
    "$$  {\\begin{cases}\n",
    "        A + B = C + D\\\\\n",
    "        \\\\\n",
    "        ik_1(A - B) = k_2(C - D)\\\\\n",
    "        \\end{cases}\n",
    "        } \\ .$$"
   ]
  },
  {
   "cell_type": "markdown",
   "id": "3abfab9d-e322-4c82-beaa-f263d2e07d7c",
   "metadata": {},
   "source": [
    "$\\quad$ Outras condições de contorno são as mesma, mas em torno do ponto $x=a$. Em outras palavras, as funções de onda da região II e III devem ser iguais e suas derivadas em torno desse ponto também, logo"
   ]
  },
  {
   "cell_type": "markdown",
   "id": "7c5b96c2-729b-45c7-97ea-02b3c9379230",
   "metadata": {},
   "source": [
    "$$  {\\begin{cases}\n",
    "        Ce^{k_2a} + De^{-k_2a} = Fe^{-k_1a}\\\\\n",
    "        \\\\\n",
    "        k_2(Ce^{k_2a} - De^{-k_2a}) = ik_1 Fe^{-k_1a}\\\\\n",
    "        \\end{cases}\n",
    "        } \\ .$$"
   ]
  },
  {
   "cell_type": "markdown",
   "id": "e4560698-14fb-483b-bc1a-db5df2043f2f",
   "metadata": {},
   "source": [
    "$\\quad$ Com essas informações podemos criar um método computacional para encontrar essas soluções."
   ]
  },
  {
   "cell_type": "markdown",
   "id": "67b8f832-1fbe-4947-96f5-d734bd52b18d",
   "metadata": {},
   "source": [
    "## 2. Resolvendo Computacionalmente"
   ]
  },
  {
   "cell_type": "markdown",
   "id": "38741bbe-4739-4bce-95d8-afd4743a39bf",
   "metadata": {},
   "source": [
    "$\\quad$ Para solucionar computacionalmente, determinaremos as soluções da Equação **(1.1)** numericamente em cada região e para garantir que sejam são as soluções de onda que queremos. Para solucionar as EDOs, utilizaremos o método numérico de Numerov. Além disso, para facilitar nossos cálculos imaginemos que a partícula que está de movendo em direção ao potencial degrau tem massa igual 1 e a constante de planck igual a 1, ou seja, $m = 1 \\ kg$ e $\\hbar = 1 J.s$."
   ]
  },
  {
   "cell_type": "code",
   "execution_count": 27,
   "id": "ec3e10a3-392f-487d-aeaa-d67745d34e49",
   "metadata": {},
   "outputs": [],
   "source": [
    "def k(E, x):\n",
    "    h = 1 \n",
    "    m = 1\n",
    "    if x<0:\n",
    "        V = 0\n",
    "    elif x>0 and x<10:\n",
    "        V = 100\n",
    "    elif x>10:\n",
    "        V = 0\n",
    "    \n",
    "    return 2*m(E - V)/(h**2)\n",
    "\n",
    "def eq_rec(E, delta, x, psi, i):\n",
    "    \n",
    "    temp1 = 2*(1-(5*(delta**2)/12)*k(E, x[i-1]))*psi[i-1]\n",
    "    temp2 = (1+ (delta**2/12)*k(E, x[i-2])^2)*psi[i-2]\n",
    "    temp3 = 1  + (delta**2/12)*k(E, x[i-1]+delta)\n",
    "    return (temp1 - temp2)/temp3"
   ]
  },
  {
   "cell_type": "code",
   "execution_count": 9,
   "id": "356565df-8442-46ac-9428-afbc4c00e5a0",
   "metadata": {},
   "outputs": [],
   "source": [
    "def df(psi, x):\n",
    "    delta = abs(x[0]-x[1]) #determinando o delta\n",
    "    d_psi = abs(psi[len(psi) - 1] - psi[len(psi)-2])/delta #determinando a derivada\n",
    "    return d_psi"
   ]
  },
  {
   "cell_type": "code",
   "execution_count": 22,
   "id": "50f897ea-6150-4ca1-8702-528f6ad36f7e",
   "metadata": {},
   "outputs": [],
   "source": [
    "def fpsi_l(a, b, E):\n",
    "    x_0 = a #posição inicial\n",
    "    x_match = (a+b)/2 #o ponto de encontro das duas soluções\n",
    "    x = np.linspace(x_0, x_match, 1000) #nosso intervalo de integração para essa solução\n",
    "    delta = abs(x[1] - x[0]) #determinando o delta\n",
    "    \n",
    "    psi_l = np.zeros(len(x)) #criando um array para armazenar a solução\n",
    "    psi_l[0] = 0 #primeiro ponto da solução\n",
    "    psi_l[1] = delta #segundo ponto da solução\n",
    "\n",
    "    #determinando o resto dos pontos com a equação de recorrência\n",
    "    for i in range(2, len(x)):\n",
    "        psi_l[i] = eq_rec(E, delta, x, psi_l, i) \n",
    "        \n",
    "    return psi_l, x\n",
    "\n",
    "def fpsi_r(a, b, E):\n",
    "    x_0 = b #posição inicial\n",
    "    x_match = (a+b)/2\n",
    "    x = np.linspace(x_0, x_match, 1000)\n",
    "    delta = abs(x[1] - x[0])\n",
    "    psi_r = np.zeros(len(x))\n",
    "    psi_r[0] = 0\n",
    "    psi_r[1] = delta\n",
    "\n",
    "    for i in range(2, len(x)):\n",
    "        psi_r[i] = eq_rec(E, delta, x, psi_r, i)\n",
    "\n",
    "    return psi_r, x"
   ]
  },
  {
   "cell_type": "code",
   "execution_count": 14,
   "id": "3b9eede1-ba85-42cc-a53a-8e3e6e38e687",
   "metadata": {},
   "outputs": [],
   "source": [
    "def psi_norm(psi, a, b):\r\n",
    "    #calculando a integral\r\n",
    "    N = len(psi) #determinando N\r\n",
    "    h = abs(b-a)/N #determinando o passo de integração\r\n",
    "    x = np.linspace(a, b, N) #nosso intervalo d eintegração\r\n",
    "    s_p, s_i = 0, 0 #essas variáveis receberam os valores dos somatórios de números pares e ímpares, respectivamente\r\n",
    "    s_0 = abs(psi[0])**2 + abs(psi[N-1])**2 \r\n",
    "\r\n",
    "    #calculando a s_i e s_p\r\n",
    "    for i in range(1, N-1):\r\n",
    "        if i%2 == 0:\r\n",
    "            s_p += abs(psi[i])**2\r\n",
    "        else:\r\n",
    "            s_i += abs(psi[i])**2 \r\n",
    "    #resultado da integral\r\n",
    "    S_f = h*(s_0 + 2*s_p + 4*s_i)/3\r\n",
    "\r\n",
    "    #amplitude\r\n",
    "    A = np.sqrt(1/S_f)\r\n",
    "    psi_n = A*psi\r\n",
    "    return psi_n"
   ]
  },
  {
   "cell_type": "code",
   "execution_count": 23,
   "id": "01c994e0-f364-4983-9a22-81932f56be18",
   "metadata": {},
   "outputs": [],
   "source": [
    "#valor incial para a energia\n",
    "def numerov(E, a, b):\n",
    "    psi_r, x_r= fpsi_r(a, b, E) #determinando a solução pela direita\n",
    "    psi_l, x_l = fpsi_l(a, b, E) #determinando a solução pela esquerda\n",
    "    psi_l = psi_l*psi_r[len(psi_r)-1]/psi_l[len(psi_l)-1] #reidefinindo a solução pela a esquerda\n",
    "        \n",
    "    psi = np.zeros(2*len(psi_r))\n",
    "        \n",
    "    #armazenando a solução pela esquerda\n",
    "    for j in range(len(psi_l)):\n",
    "        psi[j] = psi_l[j]\n",
    "        x[j] = x_l[j]\n",
    "        \n",
    "    #armazenando a solução pela direita\n",
    "    for j in range(len(psi_r)):\n",
    "        psi[len(psi_r)+j] = psi_r[len(psi_r) - 1 - j]\n",
    "        x[len(psi_r)+j] = x_r[len(psi_r) - 1 - j]\n",
    "\n",
    "    return psi"
   ]
  },
  {
   "cell_type": "code",
   "execution_count": 28,
   "id": "a2458e47-d031-4ddc-821e-7205debeb2d6",
   "metadata": {},
   "outputs": [
    {
     "ename": "TypeError",
     "evalue": "'int' object is not callable",
     "output_type": "error",
     "traceback": [
      "\u001b[1;31m---------------------------------------------------------------------------\u001b[0m",
      "\u001b[1;31mTypeError\u001b[0m                                 Traceback (most recent call last)",
      "Cell \u001b[1;32mIn[28], line 1\u001b[0m\n\u001b[1;32m----> 1\u001b[0m psi \u001b[38;5;241m=\u001b[39m numerov(\u001b[38;5;241m1\u001b[39m, \u001b[38;5;241m-\u001b[39m\u001b[38;5;241m30\u001b[39m, \u001b[38;5;241m0\u001b[39m)\n",
      "Cell \u001b[1;32mIn[23], line 3\u001b[0m, in \u001b[0;36mnumerov\u001b[1;34m(E, a, b)\u001b[0m\n\u001b[0;32m      2\u001b[0m \u001b[38;5;28;01mdef\u001b[39;00m \u001b[38;5;21mnumerov\u001b[39m(E, a, b):\n\u001b[1;32m----> 3\u001b[0m     psi_r, x_r\u001b[38;5;241m=\u001b[39m fpsi_r(a, b, E) \u001b[38;5;66;03m#determinando a solução pela direita\u001b[39;00m\n\u001b[0;32m      4\u001b[0m     psi_l, x_l \u001b[38;5;241m=\u001b[39m fpsi_l(a, b, E) \u001b[38;5;66;03m#determinando a solução pela esquerda\u001b[39;00m\n\u001b[0;32m      5\u001b[0m     psi_l \u001b[38;5;241m=\u001b[39m psi_l\u001b[38;5;241m*\u001b[39mpsi_r[\u001b[38;5;28mlen\u001b[39m(psi_r)\u001b[38;5;241m-\u001b[39m\u001b[38;5;241m1\u001b[39m]\u001b[38;5;241m/\u001b[39mpsi_l[\u001b[38;5;28mlen\u001b[39m(psi_l)\u001b[38;5;241m-\u001b[39m\u001b[38;5;241m1\u001b[39m] \u001b[38;5;66;03m#reidefinindo a solução pela a esquerda\u001b[39;00m\n",
      "Cell \u001b[1;32mIn[22], line 27\u001b[0m, in \u001b[0;36mfpsi_r\u001b[1;34m(a, b, E)\u001b[0m\n\u001b[0;32m     24\u001b[0m psi_r[\u001b[38;5;241m1\u001b[39m] \u001b[38;5;241m=\u001b[39m delta\n\u001b[0;32m     26\u001b[0m \u001b[38;5;28;01mfor\u001b[39;00m i \u001b[38;5;129;01min\u001b[39;00m \u001b[38;5;28mrange\u001b[39m(\u001b[38;5;241m2\u001b[39m, \u001b[38;5;28mlen\u001b[39m(x)):\n\u001b[1;32m---> 27\u001b[0m     psi_r[i] \u001b[38;5;241m=\u001b[39m eq_rec(E, delta, x, psi_r, i)\n\u001b[0;32m     29\u001b[0m \u001b[38;5;28;01mreturn\u001b[39;00m psi_r, x\n",
      "Cell \u001b[1;32mIn[27], line 15\u001b[0m, in \u001b[0;36meq_rec\u001b[1;34m(E, delta, x, psi, i)\u001b[0m\n\u001b[0;32m     13\u001b[0m \u001b[38;5;28;01mdef\u001b[39;00m \u001b[38;5;21meq_rec\u001b[39m(E, delta, x, psi, i):\n\u001b[1;32m---> 15\u001b[0m     temp1 \u001b[38;5;241m=\u001b[39m \u001b[38;5;241m2\u001b[39m\u001b[38;5;241m*\u001b[39m(\u001b[38;5;241m1\u001b[39m\u001b[38;5;241m-\u001b[39m(\u001b[38;5;241m5\u001b[39m\u001b[38;5;241m*\u001b[39m(delta\u001b[38;5;241m*\u001b[39m\u001b[38;5;241m*\u001b[39m\u001b[38;5;241m2\u001b[39m)\u001b[38;5;241m/\u001b[39m\u001b[38;5;241m12\u001b[39m)\u001b[38;5;241m*\u001b[39mk(E, x[i\u001b[38;5;241m-\u001b[39m\u001b[38;5;241m1\u001b[39m]))\u001b[38;5;241m*\u001b[39mpsi[i\u001b[38;5;241m-\u001b[39m\u001b[38;5;241m1\u001b[39m]\n\u001b[0;32m     16\u001b[0m     temp2 \u001b[38;5;241m=\u001b[39m (\u001b[38;5;241m1\u001b[39m\u001b[38;5;241m+\u001b[39m (delta\u001b[38;5;241m*\u001b[39m\u001b[38;5;241m*\u001b[39m\u001b[38;5;241m2\u001b[39m\u001b[38;5;241m/\u001b[39m\u001b[38;5;241m12\u001b[39m)\u001b[38;5;241m*\u001b[39mk(E, x[i\u001b[38;5;241m-\u001b[39m\u001b[38;5;241m2\u001b[39m])\u001b[38;5;241m^\u001b[39m\u001b[38;5;241m2\u001b[39m)\u001b[38;5;241m*\u001b[39mpsi[i\u001b[38;5;241m-\u001b[39m\u001b[38;5;241m2\u001b[39m]\n\u001b[0;32m     17\u001b[0m     temp3 \u001b[38;5;241m=\u001b[39m \u001b[38;5;241m1\u001b[39m  \u001b[38;5;241m+\u001b[39m (delta\u001b[38;5;241m*\u001b[39m\u001b[38;5;241m*\u001b[39m\u001b[38;5;241m2\u001b[39m\u001b[38;5;241m/\u001b[39m\u001b[38;5;241m12\u001b[39m)\u001b[38;5;241m*\u001b[39mk(E, x[i\u001b[38;5;241m-\u001b[39m\u001b[38;5;241m1\u001b[39m]\u001b[38;5;241m+\u001b[39mdelta)\n",
      "Cell \u001b[1;32mIn[27], line 11\u001b[0m, in \u001b[0;36mk\u001b[1;34m(E, x)\u001b[0m\n\u001b[0;32m      8\u001b[0m \u001b[38;5;28;01melif\u001b[39;00m x\u001b[38;5;241m>\u001b[39m\u001b[38;5;241m10\u001b[39m:\n\u001b[0;32m      9\u001b[0m     V \u001b[38;5;241m=\u001b[39m \u001b[38;5;241m0\u001b[39m\n\u001b[1;32m---> 11\u001b[0m \u001b[38;5;28;01mreturn\u001b[39;00m \u001b[38;5;241m2\u001b[39m\u001b[38;5;241m*\u001b[39mm(E \u001b[38;5;241m-\u001b[39m V)\u001b[38;5;241m/\u001b[39m(h\u001b[38;5;241m*\u001b[39m\u001b[38;5;241m*\u001b[39m\u001b[38;5;241m2\u001b[39m)\n",
      "\u001b[1;31mTypeError\u001b[0m: 'int' object is not callable"
     ]
    }
   ],
   "source": [
    "psi = numerov(1, -30, 0)"
   ]
  },
  {
   "cell_type": "markdown",
   "id": "020655f7-cb07-41f1-9cea-ff4c20c892d3",
   "metadata": {},
   "source": []
  },
  {
   "cell_type": "markdown",
   "id": "e358ea6d-abf1-4681-aec2-ece0133fb918",
   "metadata": {},
   "source": []
  },
  {
   "cell_type": "markdown",
   "id": "ed6f710f-da6a-422b-8fba-60b0b59cba14",
   "metadata": {},
   "source": []
  },
  {
   "cell_type": "markdown",
   "id": "a7f14c48-d3a6-4c3f-8e2b-0b22a7dae6e7",
   "metadata": {},
   "source": [
    "---"
   ]
  },
  {
   "cell_type": "markdown",
   "id": "53d50a9b-a68b-44b5-811a-ed44ba7beb71",
   "metadata": {},
   "source": [
    "## Referências"
   ]
  },
  {
   "cell_type": "markdown",
   "id": "9851f0d9-55d6-4b45-96ef-93adb3450ae7",
   "metadata": {},
   "source": [
    "**[1]** SHANKAR, R. Principles of Quantum Mechanics. [s.l.]: Springer Science, 1994.\n",
    "\n",
    "**[2]** SAKURAI, J. J.; NAPOLITANO, J. MECâNICA QUÂNTICA MODERNA. [s.l.]: Pearson Education, 2013.\n",
    "\n",
    "**[3]** RIBEIRO, M. A. C. et al. Os problemas de espalhamento quântico em potenciais elementares. Revista Brasileira de Ensino de Física, [s.l.], no 1, 2004. DOI: https://doi.org/10.1590/s1806-11172004000100001.\n",
    "\n",
    "**[4]** SAFNE DE SOUZA SILVA, P.; PEREIRA DA SILVA, L. F. Uma Abordagem Didática Do Tunelamento quântico: a Partir Do Estudo Da Barreira Potencial Retangular Simples. Revista Física No Campus, [s.l.], no 2, 2023."
   ]
  }
 ],
 "metadata": {
  "kernelspec": {
   "display_name": "Python 3 (ipykernel)",
   "language": "python",
   "name": "python3"
  },
  "language_info": {
   "codemirror_mode": {
    "name": "ipython",
    "version": 3
   },
   "file_extension": ".py",
   "mimetype": "text/x-python",
   "name": "python",
   "nbconvert_exporter": "python",
   "pygments_lexer": "ipython3",
   "version": "3.11.8"
  }
 },
 "nbformat": 4,
 "nbformat_minor": 5
}
