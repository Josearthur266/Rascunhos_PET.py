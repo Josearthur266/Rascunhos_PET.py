{
 "cells": [
  {
   "cell_type": "markdown",
   "id": "acae0e37-9520-4148-ba32-c7787288acff",
   "metadata": {},
   "source": [
    "# Espalhamento e Tunelamento Quântico"
   ]
  },
  {
   "cell_type": "markdown",
   "id": "ccc23830-4fe8-4e39-8cd4-7794fa884fd2",
   "metadata": {},
   "source": [
    "* Matéria: Física Quântica\n",
    "* Aluno: José Arthur de Luna Oliveira\n",
    "* Professor: Bruno Ricardo de Carvalho\n",
    "* Data: 31/05/2024"
   ]
  },
  {
   "cell_type": "markdown",
   "id": "ced03155-e106-4885-bed0-8b7f772d5569",
   "metadata": {},
   "source": [
    "$\\quad$ Neste trabalho discutiremos sobre o espalhamento e tunelamento quântico."
   ]
  },
  {
   "cell_type": "markdown",
   "id": "dc564367-fc56-4cce-8eba-da88e4fd0d9d",
   "metadata": {},
   "source": [
    "Neste `Notebook` haverá as seguintes seções:\n",
    "\n",
    "* Introdução;\n",
    "* Desenvolvimento do Problema;\n",
    "* Conclusão."
   ]
  },
  {
   "cell_type": "markdown",
   "id": "b1bd0d75-19b3-4564-a6bd-b14dd4ad7434",
   "metadata": {},
   "source": [
    "## Importando Bibliotecas"
   ]
  },
  {
   "cell_type": "code",
   "execution_count": 1,
   "id": "37163b77-bccc-479a-bc61-91c726014bed",
   "metadata": {},
   "outputs": [],
   "source": [
    "import matplotlib.pyplot as plt\n",
    "import numpy as np\n",
    "from mpl_toolkits.axes_grid1.inset_locator import inset_axes\n",
    "\n",
    "def plot_ticks(x, y, step): #essa é uma função que mexe na aparência dos gráficos\n",
    "    fig, ax = plt.subplots(figsize = (6,3))\n",
    "    plt.minorticks_on()\n",
    "    plt.tick_params(axis='both', which='both', top = True, right = True, direction = 'in', length=4, width=1)\n",
    "    plt.xticks(np.arange(x[0], x[len(x)-1], step), minor = True)\n",
    "    plt.yticks(np.arange(y[0], y[len(y)-1], step), minor = True)"
   ]
  },
  {
   "cell_type": "markdown",
   "id": "7c63a317-d2c6-424e-b931-e79812aee3b4",
   "metadata": {},
   "source": [
    "## Detalhes da Biblioteca"
   ]
  },
  {
   "cell_type": "code",
   "execution_count": 2,
   "id": "95068537-294d-4b61-b481-7ea81c7ef9fc",
   "metadata": {},
   "outputs": [
    {
     "data": {
      "application/json": {
       "Software versions": [
        {
         "module": "Python",
         "version": "3.11.9 64bit [MSC v.1916 64 bit (AMD64)]"
        },
        {
         "module": "IPython",
         "version": "8.20.0"
        },
        {
         "module": "OS",
         "version": "Windows 10 10.0.22631 SP0"
        },
        {
         "module": "Matplotlib",
         "version": "3.8.4"
        },
        {
         "module": "Numpy",
         "version": "1.26.4"
        }
       ]
      },
      "text/html": [
       "<table><tr><th>Software</th><th>Version</th></tr><tr><td>Python</td><td>3.11.9 64bit [MSC v.1916 64 bit (AMD64)]</td></tr><tr><td>IPython</td><td>8.20.0</td></tr><tr><td>OS</td><td>Windows 10 10.0.22631 SP0</td></tr><tr><td>Matplotlib</td><td>3.8.4</td></tr><tr><td>Numpy</td><td>1.26.4</td></tr><tr><td colspan='2'>Sun May 26 16:51:09 2024 Hora Padrão de Buenos Aires</td></tr></table>"
      ],
      "text/latex": [
       "\\begin{tabular}{|l|l|}\\hline\n",
       "{\\bf Software} & {\\bf Version} \\\\ \\hline\\hline\n",
       "Python & 3.11.9 64bit [MSC v.1916 64 bit (AMD64)] \\\\ \\hline\n",
       "IPython & 8.20.0 \\\\ \\hline\n",
       "OS & Windows 10 10.0.22631 SP0 \\\\ \\hline\n",
       "Matplotlib & 3.8.4 \\\\ \\hline\n",
       "Numpy & 1.26.4 \\\\ \\hline\n",
       "\\hline \\multicolumn{2}{|l|}{Sun May 26 16:51:09 2024 Hora Padrão de Buenos Aires} \\\\ \\hline\n",
       "\\end{tabular}\n"
      ],
      "text/plain": [
       "Software versions\n",
       "Python 3.11.9 64bit [MSC v.1916 64 bit (AMD64)]\n",
       "IPython 8.20.0\n",
       "OS Windows 10 10.0.22631 SP0\n",
       "Matplotlib 3.8.4\n",
       "Numpy 1.26.4\n",
       "Sun May 26 16:51:09 2024 Hora Padrão de Buenos Aires"
      ]
     },
     "execution_count": 2,
     "metadata": {},
     "output_type": "execute_result"
    }
   ],
   "source": [
    "%load_ext version_information\n",
    "%version_information Matplotlib, Numpy"
   ]
  },
  {
   "cell_type": "markdown",
   "id": "95176043-ab32-4d30-aaf2-7fb0e0421333",
   "metadata": {},
   "source": [
    "## 1. Introdução"
   ]
  },
  {
   "cell_type": "markdown",
   "id": "376477a6-afc2-4122-9974-6e8ef2cd8c8b",
   "metadata": {},
   "source": [
    "$\\quad$ O espalhamento quântico é um fenômeno fundamental na Mecânica Quântica. Ele envolve o comportamento das partículas antes e após colidirem entre si. Durante o espalhamento, as propriedades das partículas, como sua posição, momento e energia, podem ser alteradas devido à interação das partículas. Entretanto, as leis da Mecânica Quântica determinam que essas mudanças não podem ser previstas de maneira determinística, apenas em termos de probabilidades.\n",
    "\n",
    "$\\quad$ O principal exemplo é o espalhamento de elétrons por núcleos atômicos. No qual, ocorre quando um elétron aproxima-se de um núcleo atômico, ele pode ser desviado de sua trajetória original, devido à interação eletromagnética entre as cargas elétricas do elétron e do núcleo. O resultado desse espalhamento pode variar de acordo com diversos fatores, incluindo a energia do elétron, a distância de aproximação e as propriedades específicas do núcleo. Em geral, o espalhamento quântico é o tipo de processos em que um estado inicial contínuo é transformado em um final contínuo através da ação de algum potencial **[1]**.\n",
    "\n",
    "$\\quad$ Nesse trabalho, exploraremos dois casos de espalhamento: o primeiro será uma partícula atingindo um potencial degrau e depois um potencial barreira. O objetivo é encontrar a taxa de transmissão da partícula nesses casos e mostrar a variação dessa taxa em função da energia inicial da partícula.\n",
    "\n",
    "$\\quad$ Dito isso, para conseguirmos desenvolver o problema trocaremos a partícula por um pacote de onda $\\psi_I(x)$, na qual quando atinge a barreira de potencial haverá uma onda refletida $\\psi_R(x)$ e outra transmitidas $\\psi_T(x)$. O problema em questão é encontrar a probabilidade de encontrar a partícula na região I ($R$) e a probabilidade de encontrar na região II ($T$), para encontrar esses dois valores basta determinar as seguintes integrais,\n",
    "\n",
    "devemos calcula-las considerando $t \\rightarrow \\infty$. \n",
    "\n",
    "$\\quad$ Em geral, $R$ e $T$ dependem diretamente do corpo da função de onda incidente. No entanto, mantendo o momento inicial bem definido, ou seja, $\\Delta p \\rightarrow 0$ e $\\Delta x \\rightarrow \\infty$. Assim, o resultado dependerá apenas do valor da energia inicial **[1]**."
   ]
  },
  {
   "cell_type": "markdown",
   "id": "526d8100-2f8e-4731-bd11-cdab266b26ce",
   "metadata": {},
   "source": [
    "## 2. Potencial Degrau"
   ]
  },
  {
   "cell_type": "markdown",
   "id": "efd648c7-bfb7-4620-8dd4-1005e031df33",
   "metadata": {},
   "source": [
    "$\\quad$ Nesse caso, imaginemos uma partícula livre, viajando da direita para a esquerda, com energia $E$ em uma região I ($x \\leq 0$), em $x>0$ é a região II, onde há ação de potencial $V = V_0$. Na Mecânica Clássica, as duas possibilidades de resultados, caso $E<V_0$ a partícula é refletida, ela não consegue ir para a região II, entretanto, se $E>V_0$ ela consegue passar para a outra região. Em contrapartida, na Mecânica Quântica, se $E<V_0$ existe probabilidade da partícula passar para a região II, esse fenômeno é chamado de Tunelamento.\n",
    "\n",
    "$\\quad$ Nosso objetivo nesse caso é determinar a probabilidade de transmissão da partícula em diferentes energias."
   ]
  },
  {
   "cell_type": "markdown",
   "id": "dec2ae64-9c33-4bbf-af92-a1c9c66e6e49",
   "metadata": {},
   "source": [
    "### 2.1 Desenvolvimento Teórico"
   ]
  },
  {
   "cell_type": "markdown",
   "id": "aa569abe-f26f-45f7-af3c-25d53222cc21",
   "metadata": {},
   "source": [
    "$\\quad$ Para podermos visualizar melhor o potencial desse caso, plotaremos o gráfico do potencial. Para esse exemplo consideraremos $V_0 = 100$. Assim,"
   ]
  },
  {
   "cell_type": "code",
   "execution_count": 86,
   "id": "aab29768-95ab-477c-a784-f51e000187ef",
   "metadata": {},
   "outputs": [
    {
     "data": {
      "text/plain": [
       "Text(0, 0.5, 'V(x)')"
      ]
     },
     "execution_count": 86,
     "metadata": {},
     "output_type": "execute_result"
    },
    {
     "data": {
      "image/png": "[encoded data removed]",
      "text/plain": [
       "<Figure size 600x300 with 1 Axes>"
      ]
     },
     "metadata": {},
     "output_type": "display_data"
    }
   ],
   "source": [
    "x = np.linspace(-50, 50, 1000)\n",
    "V = np.zeros(len(x))\n",
    "\n",
    "for i in range(len(x)):\n",
    "    if x[i]<0:\n",
    "        V[i] = 0\n",
    "    else:\n",
    "        V[i] = 100\n",
    "        \n",
    "plot_ticks(x, V, 10)\n",
    "plt.plot(x, V, color = \"black\")\n",
    "\n",
    "plt.text(-40, 50, \"Região I\", fontsize = 14)\n",
    "plt.text(15, 50, \"Região II\", fontsize = 14)\n",
    "\n",
    "plt.title(\"Gráfico do Potencial Degrau\")\n",
    "plt.xlabel(\"x(m)\")\n",
    "plt.ylabel(\"V(x)\")"
   ]
  },
  {
   "cell_type": "markdown",
   "id": "d2d93451-2743-43f6-ab2b-dd5d6bc37c55",
   "metadata": {},
   "source": [
    "em o nosso potencial é definido da seguinte forma"
   ]
  },
  {
   "cell_type": "markdown",
   "id": "d44af1e2-31cf-474d-82ea-c3420dad7256",
   "metadata": {},
   "source": [
    "$$  {\\begin{cases}\n",
    "        V(x) = 0, \\ para \\ x<0\\\\\n",
    "        \\\\\n",
    "        V(x) = V_0, \\ para \\ x > 0 \\\\\n",
    "        \\end{cases}\n",
    "        } \\ .$$"
   ]
  },
  {
   "cell_type": "markdown",
   "id": "d3602d54-b7d3-4eb5-a24a-482d6102d796",
   "metadata": {},
   "source": [
    "$\\quad$ Com isso, começaremos pela equação de Schrödinger independente do tempo"
   ]
  },
  {
   "cell_type": "markdown",
   "id": "8ff2c291-a946-4990-bc39-e6350e93099c",
   "metadata": {},
   "source": [
    "$$ \\frac{d^2\\psi(x)}{dx^2} + \\frac{2m}{\\hbar^2}(E - V(x))\\psi(x) = 0 \\ . \\tag{2.1}$$"
   ]
  },
  {
   "cell_type": "markdown",
   "id": "06856c0b-968c-445c-b5fc-167e6ea5e5c0",
   "metadata": {},
   "source": [
    "$\\quad$ Na região I, onde $V(x) = 0$, a Equação **(2.1)** ficará assim"
   ]
  },
  {
   "cell_type": "markdown",
   "id": "b1985c84-9a92-449f-9382-75fd5dabcc1c",
   "metadata": {},
   "source": [
    "$$ \\frac{d^2\\psi(x)}{dx^2} + \\frac{2m}{\\hbar^2}E\\psi(x) = 0$$"
   ]
  },
  {
   "cell_type": "markdown",
   "id": "6a65384e-4781-4917-ba09-b482c6cbe973",
   "metadata": {},
   "source": [
    "$$\\implies \\frac{d^2\\psi(x)}{dx^2} = -\\frac{2mE}{\\hbar^2}\\psi(x)$$"
   ]
  },
  {
   "cell_type": "markdown",
   "id": "b1ec353e-17f4-4d30-b921-51af84d1ae7d",
   "metadata": {},
   "source": [
    "a solução geral dessa equação é $\\psi(x) = Ae^{ik_1x} + Be^{-ik_1x} $, em que  $k_1 = \\sqrt{\\frac{2mE}{\\hbar^2}}$. Note que o termo a esquerda pertence ao pacote de onda incidente e o termo da direita ao pacote de onda refletido, pois o primeiro viaja no sentido positivo de $x$ e o outro no sentido negativo. Assim,"
   ]
  },
  {
   "cell_type": "markdown",
   "id": "f4836686-f2bb-436c-a8c9-71e8e37a1920",
   "metadata": {},
   "source": [
    "$$\\psi_i(x) = Ae^{ik_1x} \\tag{2.2} \\ , \\$$"
   ]
  },
  {
   "cell_type": "markdown",
   "id": "897c2170-2e1f-4772-bbe0-1bb610ba612f",
   "metadata": {},
   "source": [
    "$$\\psi_R(x) = Be^{-ik_1x} \\tag{2.3} \\ .$$"
   ]
  },
  {
   "cell_type": "markdown",
   "id": "de001438-58cc-46b7-a05e-76f3113fda50",
   "metadata": {},
   "source": [
    "$\\quad$ Em seguida, na região II a Equação **(2.1)** terá a seguinte forma,"
   ]
  },
  {
   "cell_type": "markdown",
   "id": "c02d5c73-aba1-4924-b08a-9347f6d6e973",
   "metadata": {},
   "source": [
    "$$ \\frac{d^2\\psi(x)}{dx^2} + \\frac{2m}{\\hbar^2}(E - V_0)\\psi(x) = 0$$"
   ]
  },
  {
   "cell_type": "markdown",
   "id": "ac3ceb08-de03-4b00-bfba-53fd1394c84d",
   "metadata": {},
   "source": [
    "$$ \\frac{d^2\\psi(x)}{dx^2} = - \\frac{2m}{\\hbar^2}(E - V_0)\\psi(x)$$"
   ]
  },
  {
   "cell_type": "markdown",
   "id": "02853bb4-4e67-4f16-88cf-d483d6e1f165",
   "metadata": {},
   "source": [
    "a solução geral dessa equação é possui a mesma forma que a da anterior,"
   ]
  },
  {
   "cell_type": "markdown",
   "id": "361ca89d-69e8-495b-a35f-c0e0a84f3486",
   "metadata": {},
   "source": [
    "$$\\psi(x) = Ce^{ik_2x} + De^{-ik_2x} \\ , \\tag{2.4}$$"
   ]
  },
  {
   "cell_type": "markdown",
   "id": "8cb03649-fff2-4d86-aa7a-4010bd378331",
   "metadata": {},
   "source": [
    "na qual, $k_2 = \\sqrt{\\frac{2m}{\\hbar^2}(E - V_0)}$. Perceba que podemos definir $D = 0$, porque nesse problema na região II não deve ter uma onda indo no sentido negativo de $x$, apenas haverá o pacote de onda transmitido. Logo,"
   ]
  },
  {
   "cell_type": "markdown",
   "id": "be94c3e8-c489-4372-8926-2d00ef77e96e",
   "metadata": {},
   "source": [
    "$$\\psi_T(x) = Ce^{ik_2x} \\tag{2.5} \\ ,$$"
   ]
  },
  {
   "cell_type": "markdown",
   "id": "87fd8055-47e3-4d5a-a7ed-b73624f99ea7",
   "metadata": {},
   "source": [
    "$\\quad$ Para que essas soluções sejam desse caso, elas devem obedecer as seguintes condições de contorno (condições de continuidade):\n",
    "$$  {\\begin{cases}\n",
    "        \\psi_i(0) + \\psi_R(0) = \\psi_T(0)\\\\\n",
    "        \\\\\n",
    "        \\frac{d\\psi_i}{dx}|_{x=0} + \\frac{d\\psi_R}{dx}|_{x=0} = \\frac{d\\psi_T}{dx}|_{x=0} \\\\\n",
    "        \\end{cases}\n",
    "        } \\ .$$"
   ]
  },
  {
   "cell_type": "markdown",
   "id": "4545d46b-cfab-4a5f-a021-70ffd448b1b8",
   "metadata": {},
   "source": [
    "$\\quad$ Expandindo as condições de contorno temos,\n",
    "$$  {\\begin{cases}\n",
    "        A + B = C \\\\\n",
    "        \\\\\n",
    "        k_1A - k_1B = k_2C \\implies A - B = \\frac{k_2}{k_1}C \\\\\n",
    "        \\end{cases}\n",
    "        } \\ .$$"
   ]
  },
  {
   "cell_type": "markdown",
   "id": "82a27c6c-289c-4368-9258-9f3910ffc117",
   "metadata": {},
   "source": [
    "$\\quad$ Faremos a seguir algumas manipulações algébricas para por a amplitude $C$ em função da amplitude $A$. Assim, somando essas duas equações, logo"
   ]
  },
  {
   "cell_type": "markdown",
   "id": "d687618d-62dc-4258-913b-c2cabd75292a",
   "metadata": {},
   "source": [
    "$$ 2A = C + \\frac{k_2}{k_1}C $$"
   ]
  },
  {
   "cell_type": "markdown",
   "id": "203fc2bf-1819-4590-aee3-02fb47369ef3",
   "metadata": {},
   "source": [
    "$$ \\implies 2A = ( 1 + \\frac{k_2}{k_1})C \\implies 2A = \\frac{k_1 + k_2}{k_1}C $$"
   ]
  },
  {
   "cell_type": "markdown",
   "id": "86624f48-9761-4e43-8146-7844a95de271",
   "metadata": {},
   "source": [
    "$$ \\therefore \\boxed{ C = \\frac{2k_1}{k_1 + k_2}A} \\ . \\tag{2.6}$$"
   ]
  },
  {
   "cell_type": "markdown",
   "id": "c62a5fd3-6805-4abe-97a5-4a75e19b4b8b",
   "metadata": {},
   "source": [
    "$\\quad$ Este resultado será importante para determinarmos a probabilidade da onda ser transmitida, pois para determinar esse valor usaremos a seguinte relação,"
   ]
  },
  {
   "cell_type": "markdown",
   "id": "b2300ca7-fd25-4a4b-92c6-9126fae9660d",
   "metadata": {},
   "source": [
    "$$ T = \\frac{k_2}{k_1}\\frac{|C|^2}{|A|^2} \\ . \\tag{2.7}$$"
   ]
  },
  {
   "cell_type": "markdown",
   "id": "35ef5d72-26ac-4b8a-864f-912148464bd3",
   "metadata": {},
   "source": [
    "$\\quad$ Substituindo as Equação **(2.5)** na **(2.6)**, teremos"
   ]
  },
  {
   "cell_type": "markdown",
   "id": "8c79d9e2-4f05-4512-b2ae-8eab4e6dff30",
   "metadata": {},
   "source": [
    "$$ T =  \\frac{k_2}{k_1}|\\frac{2k_1}{k_1 + k_2}A|^2\\frac{1}{|A|^2}$$"
   ]
  },
  {
   "cell_type": "markdown",
   "id": "0cd10f56-fd1f-4364-9798-785841ec4491",
   "metadata": {},
   "source": [
    "$$ \\implies T =  \\frac{k_2}{k_1}\\frac{4(k_1)^2}{(k_1 + k_2)^2}\\frac{|A|^2}{|A|^2}$$"
   ]
  },
  {
   "cell_type": "markdown",
   "id": "84a4a078-2a05-40a2-ae7a-b61d1ceea080",
   "metadata": {},
   "source": [
    "$$ \\implies T = \\frac{4k_1k_2}{(k_1 + k_2)^2} \\ ,$$"
   ]
  },
  {
   "cell_type": "markdown",
   "id": "4e83b4ea-3074-47e1-998f-ed71c6f44536",
   "metadata": {},
   "source": [
    "trocando $k_1 = \\sqrt{\\frac{2mE}{\\hbar^2}}$ e $k_2 = \\sqrt{\\frac{2m}{\\hbar^2}(E - V_0)}$, na equação acima, teremos"
   ]
  },
  {
   "cell_type": "markdown",
   "id": "27139ca6-c161-49a8-85f1-ed04c827a31e",
   "metadata": {},
   "source": [
    "$$ T = \\frac{4\\sqrt{\\frac{2mE}{\\hbar^2}}\\sqrt{\\frac{2m}{\\hbar^2}(E - V_0)}}{\\left(\\sqrt{\\frac{2mE}{\\hbar^2}} + \\sqrt{\\frac{2m}{\\hbar^2}(E - V_0)}\\right)^2} $$"
   ]
  },
  {
   "cell_type": "markdown",
   "id": "a7a3c229-bb40-459a-82db-2e8e0d305cb2",
   "metadata": {},
   "source": [
    "$$ \\implies T = \\frac{4\\frac{2m}{\\hbar^2}\\sqrt{E}\\sqrt{E - V_0}}{\\frac{2m}{\\hbar^2}\\left(\\sqrt{E} + \\sqrt{E - V_0}\\right)^2} $$"
   ]
  },
  {
   "cell_type": "markdown",
   "id": "186197b4-e47b-44cb-a15b-75fcacf7838c",
   "metadata": {},
   "source": [
    "$$ \\therefore \\boxed{ T = \\frac{4\\sqrt{E}\\sqrt{E - V_0}}{\\left(\\sqrt{E} + \\sqrt{E - V_0}\\right)^2}} \\ . \\tag{2.8}$$"
   ]
  },
  {
   "cell_type": "markdown",
   "id": "41b1666b-aa25-4c83-88ff-e9f5fa6db966",
   "metadata": {},
   "source": [
    "$\\quad$ Para determinar o coeficiente de reflexão é simples, basta lembrar que $R + T = 1$, logo"
   ]
  },
  {
   "cell_type": "markdown",
   "id": "0a6c4579-950f-433f-a82b-633b7838c150",
   "metadata": {},
   "source": [
    "$$R = 1 - T \\ . \\tag{2.9}$$"
   ]
  },
  {
   "cell_type": "markdown",
   "id": "8f56bbab-8b66-44dc-ad37-8754be439647",
   "metadata": {},
   "source": [
    "$\\quad$ Com essas equações podemos determinar a solução do problema, apenas com a informação da energia $E$ e da altura do potencial degrau $V_0$."
   ]
  },
  {
   "cell_type": "markdown",
   "id": "c4a0d86a-cc7a-45eb-8667-4a6feb5c2821",
   "metadata": {},
   "source": [
    "### 2.2 Aplicação Numérica"
   ]
  },
  {
   "cell_type": "markdown",
   "id": "e5d47f6a-a8ef-499e-87d7-bd8fd1ed487e",
   "metadata": {},
   "source": [
    "$\\quad$ Encontraremos agora as soluções para o nosso problema. O algoritmo a ser montado é de certa forma simples. Basta aplicar a Equação **(2.7)** que encontraremos as soluções. Definiremos $V_0 = 50$ e veremos a variação de $T$ com $0 \\leq E \\leq 200$."
   ]
  },
  {
   "cell_type": "code",
   "execution_count": 87,
   "id": "c4bb24b3-cce2-421f-bccd-a65759bbe492",
   "metadata": {},
   "outputs": [
    {
     "name": "stderr",
     "output_type": "stream",
     "text": [
      "C:\\Users\\olive\\AppData\\Local\\Temp\\ipykernel_23284\\1908001230.py:11: ComplexWarning: Casting complex values to real discards the imaginary part\n",
      "  T[i] = temp1/temp2\n"
     ]
    }
   ],
   "source": [
    "E = np.linspace(0, 200, 10000) #valores das energias\n",
    "T = np.zeros(len(E))\n",
    "V = 50\n",
    "for i in range(len(E)):\n",
    "    if E[i] < V:\n",
    "        temp1 = 4*np.sqrt(E[i])*complex(0,1)*np.sqrt(V - E[i])\n",
    "        temp2 = abs(np.sqrt(E[i]) + complex(0,1)*np.sqrt(V - E[i]))**2\n",
    "    else:\n",
    "        temp1 = 4*np.sqrt(E[i])*np.sqrt(E[i] - V)\n",
    "        temp2 = abs(np.sqrt(E[i]) + np.sqrt(E[i] - V))**2\n",
    "    T[i] = temp1/temp2"
   ]
  },
  {
   "cell_type": "markdown",
   "id": "9c204806-42bc-496a-9ba0-9eb73fd5f684",
   "metadata": {},
   "source": [
    "$\\quad$ Plotaremos agora o gráfico dos coeficientes $T$ e $R$ em função da energia."
   ]
  },
  {
   "cell_type": "code",
   "execution_count": 89,
   "id": "5aa0298d-f54e-4c93-a08b-1469199d5e59",
   "metadata": {},
   "outputs": [
    {
     "data": {
      "text/plain": [
       "<matplotlib.legend.Legend at 0x1b4ab56d710>"
      ]
     },
     "execution_count": 89,
     "metadata": {},
     "output_type": "execute_result"
    },
    {
     "data": {
      "image/png": "[encoded data removed]",
      "text/plain": [
       "<Figure size 800x400 with 2 Axes>"
      ]
     },
     "metadata": {},
     "output_type": "display_data"
    }
   ],
   "source": [
    "fig, ax = plt.subplots(figsize=(8, 4))\n",
    "plt.minorticks_on()\n",
    "plt.tick_params(axis='both', which='both', top = True, right = True, direction = 'in', length=4, width=1)\n",
    "plt.xticks(np.arange(0, 200, 50), minor = True)\n",
    "plt.yticks(np.arange(0, 1, 0.2), minor = True)\n",
    "\n",
    "ax.plot(E, T, label = \"T(E)\", color = \"blue\")\n",
    "ax.plot(E, 1 - T, label = \"R(E)\", color = \"red\")\n",
    "\n",
    "plt.title(\"Figura 1 - Gráfico dos coeficientes\", fontsize = 12)\n",
    "plt.xlabel(\"E\", fontsize = 12)\n",
    "ax.legend(loc='center left')\n",
    "\n",
    "ax_inset = inset_axes(ax, width=\"30%\", height=\"30%\", loc='center right')\n",
    "\n",
    "plt.minorticks_on()\n",
    "plt.tick_params(axis='both', which='both', top = True, right = True, direction = 'in', length=4, width=1)\n",
    "plt.xticks(np.arange(0, 200, 50), minor = True)\n",
    "plt.yticks(np.arange(0, 1, 0.2), minor = True)\n",
    "\n",
    "ax_inset.plot(E, T, label='T(E)', color='blue')\n",
    "ax_inset.axvline(x = 50, color = 'black', linestyle = '--')\n",
    "\n",
    "plt.ylim(0, 0.02)\n",
    "plt.xlim(49.97, 50.03)\n",
    "\n",
    "ax_inset.set_xlabel('E(J)', fontsize = 12)\n",
    "ax_inset.legend()"
   ]
  },
  {
   "cell_type": "markdown",
   "id": "5ab2fc41-f892-4cb2-861b-b84459f2e5e3",
   "metadata": {},
   "source": [
    "$\\quad$ Observando o gráfico, veremos que em energias menores que a altura do degrau possui uma probabilidade de ser transmitida igual a zero, mas note que quando o $E$ aproxima-se do valor de $V_0$, como pode ser visto no subplot, a probabilidade do pacote de onda ser transmitida não mais nulo. Em outras palavras, a uma pequena chance da onda ir para região II, mesmo que $E<V_0$. Isso corroborando com o falado na Introdução, obedecendo as leis da mecânica quântica.\n",
    "\n",
    "$\\quad$ A seguir, plotaremos o gráfico dos pacotes de onda. Para isso, solucionaremos numericamente a equação de Schrödinger na região I, normalizaremos a função de onda encontrada e nesse processo encontraremos a amplitude do pacote de onda incidente $A$. Feito isso, conseguimos determinar a amplitude da onda transmitida, conseguinte, definiremos o pacote de onda transmitido.\n",
    "\n",
    "$\\quad$ Para solucionar a equação de Schrödinger na região I usaremos o método numérico de Numerov **[5]**. Tal método foi criado justamente para resolver equações diferenciais de segunda ordem sem a informação da primeira derivada (caso o leitor queira se aprofundar sobre esse método, aconselho a leitura da referência **[5]**). No nosso caso apenas precisamos aplicar a equação de recorrência do método, definido abaixo"
   ]
  },
  {
   "cell_type": "markdown",
   "id": "b385f26e-4461-47a7-9f68-405ba6dd3734",
   "metadata": {},
   "source": [
    "$$ \\psi(x + \\delta) = \\frac{2\\left[ 1 - \\frac{5\\delta^2}{12}k^2(x)\\right]\\psi(x) - \\left[ 1 + \\frac{\\delta^2}{12}k^2(x - \\delta) \\right]\\psi(x-\\delta)}{ 1 + \\frac{\\delta^2}{12}k^2(x+\\delta)} \\ , \\tag{2.10}$$"
   ]
  },
  {
   "cell_type": "markdown",
   "id": "3d05d65b-3edd-4107-b3e7-374956e60cb6",
   "metadata": {},
   "source": [
    "no qual, $\\delta$ é o passo de integração, este é um valor muito pequeno, e como só aplicaremos na região I, então $k(x) = \\sqrt{\\frac{2mE}{\\hbar^2}}$, a fim de simplificar consideraremos $\\hbar = 1 \\ m^2.Kg/s$ e $m = 1 \\ Kg$. A Equação **(2.10)** está definida como uma função na célula abaixo."
   ]
  },
  {
   "cell_type": "code",
   "execution_count": 13,
   "id": "37b0d81b-bf26-4028-b447-59d28e181fb8",
   "metadata": {},
   "outputs": [],
   "source": [
    "def eq_rec(E, delta, x, psi, i):\n",
    "    m, h = 1, 1 # definindo o vlaor da massa e da constante de Planck, estão em Kg e m².kg/s, respectivamente\n",
    "    k = np.sqrt(2*m*E/h**2) # definindo o ko\n",
    "    temp1 = 2*(1-(5*(delta**2)/12)*(k**2))*psi[i-1]\n",
    "    temp2 = (1+ (delta**2/12)*(k**2))*psi[i-2]\n",
    "    temp3 = 1 + (delta**2/12)*(k**2)\n",
    "    return (temp1 - temp2)/temp3 #resultado da equação de recorrência"
   ]
  },
  {
   "cell_type": "markdown",
   "id": "4f945c52-65c7-4718-ab3e-6289fb261a46",
   "metadata": {},
   "source": [
    "$\\quad$ O método consiste em aplicar a Equação **(2.9)** no intervalo $[a, \\ b]$, de forma que precisamos apenas conhecer dois pontos consecutivos iniciais e com eles determinar o resto da função. Assim, devemos definir $\\psi(a) = 0$ e $\\psi(a + \\delta) = \\delta$, em que, $\\delta$ é um valor muito pequeno. Sabendo disso, podemos criar a função para determinar função de onda."
   ]
  },
  {
   "cell_type": "code",
   "execution_count": 14,
   "id": "71e0949c-365d-4621-8851-f3e0664bbb7d",
   "metadata": {},
   "outputs": [],
   "source": [
    "def fpsi(E, a, b):\n",
    "    x = np.linspace(a, b, 1000) #definindo o intervalo de integração\n",
    "    delta = abs(x[1] - x[0]) #passo integração\n",
    "    psi = np.zeros(len(x)) #definindo um array para armazenar os valores da solução\n",
    "\n",
    "    #os dois primeiros pontos consecutivos da solução\n",
    "    psi[0] = 0 \n",
    "    psi[1] = delta\n",
    "    \n",
    "    for i in range(2, len(x)):\n",
    "        psi[i] = eq_rec(E, delta, x, psi, i) #aplicando a equação de recorrência\n",
    "    return psi, x"
   ]
  },
  {
   "cell_type": "markdown",
   "id": "2366196e-e03f-41ee-b997-fff5b623dfc1",
   "metadata": {},
   "source": [
    "$\\quad$ Feito isso, criaremos uma função para normalizar a solução encontrada e determinar a amplitude do pacote de onda. Para isso, lembre-se que uma autofunção normalizada deve atender a propriedade que $\\int_{ - \\infty}^{\\infty} |\\Psi(x, \\ t)|^2dx = 1$, assim podemos fazer"
   ]
  },
  {
   "cell_type": "markdown",
   "id": "ed20e1fe-c8e8-4acc-9db6-48d1af2785eb",
   "metadata": {},
   "source": [
    "$$\\int_{ - \\infty}^{\\infty} |\\Psi(x, \\ t)|^2dx = 1 \\implies \\int_{ - \\infty}^{\\infty} A^2|f(x, \\ t)|^2dx = 1$$"
   ]
  },
  {
   "cell_type": "markdown",
   "id": "c0fe4913-411f-4253-b832-15605c1efb24",
   "metadata": {},
   "source": [
    "$$\\therefore \\boxed{A = \\frac{1}{\\sqrt{\\int_{ - \\infty}^{\\infty} |f(x, \\ t)|^2dx}}} \\ ,$$"
   ]
  },
  {
   "cell_type": "markdown",
   "id": "d5f9e305-7e6b-4840-95fe-40c03742381b",
   "metadata": {},
   "source": [
    "no qual, $A$ é amplitude da autofunção normalizada, em que $\\Psi(x, \\ t) = Af(x, \\ t)$. Dessa forma, após solucionar a equação Schrödinger obteremos $\\psi(x)$, multiplicando essa solução por $e^{-iEt/\\hbar}$ obteremos $f(x, \\ t)$ e com esse dado podemos encontrar a amplitude $A$. Para calcular a integral utilizaremos o método de Simpsons **[6, 7]**. Abaixo está a função definida para normalizar a função de onda e obter a amplitude do pacote de onda normalizado."
   ]
  },
  {
   "cell_type": "code",
   "execution_count": 15,
   "id": "5720e875-1ced-49a3-a3cf-44d64355147f",
   "metadata": {},
   "outputs": [],
   "source": [
    "def psi_norm(psi, E, t, a, b):\n",
    "    N = len(psi)\n",
    "    h = abs(b-a)/N\n",
    "    x = np.linspace(a, b, N) #intervalo de integração\n",
    "    psi = psi*np.exp(-complex(0, 1)*E*t/1) #multiplicando a função de onda pelo termo de dependência do tempo\n",
    "\n",
    "    #aplicando o método de Simpison para determinar o resultaod da integral\n",
    "    s_p, s_i = 0, 0\n",
    "    s_0 = abs(psi[0])**2 + abs(psi[N-1])**2\n",
    "    for i in range(1, N-1):\n",
    "        if i%2 == 0:\n",
    "            s_p += abs(psi[i])**2\n",
    "        else:\n",
    "            s_i += abs(psi[i])**2\n",
    "    S_f = h*(s_0 + 2*s_p + 4*s_i)/3\n",
    "\n",
    "    A = np.sqrt(1/S_f) #encontrando a amplitude da função de onda \n",
    "    psi = A*psi #normalizando a função de onda\n",
    "    return psi, A"
   ]
  },
  {
   "cell_type": "markdown",
   "id": "3824ec66-2679-498d-a8dd-cfe474fde0cf",
   "metadata": {},
   "source": [
    "$\\quad$ Definindo todas essas funções, agora podemos determinar os pacotes de ondas incidentes e transmitidos, e finalmente plotar o gráfico deles, para podermos ver o comportamento desses pacotes.\n",
    "\n",
    "$\\quad$ Com isso, iremos por $E = 40 \\ J$ e $V = 50 \\ J$. Após isso, calcularemos a solução da Equação Schrödinger na região I chamando a função `fpsi`. Encontrando essa solução, usaremos a função `psi_norm` para normalizar a solução e determinar a amplitude do pacote de onda incidente. Em seguida, após encontrar a amplitude, calcularemos a amplitude da onda transmitida $C$ e com a Equação **(2.4)** encontraremos a onda transmitida. Feito isso, plotaremos o gráfico delas. Vale salientar, que região I e região II serão os intervalos $[-5, \\ 0]$ e $[0, \\ 5]$, respectivamente, e também o estaremos fazendo isso em $t = 10^{6} \\ s$, esse valor será necessário para usar a função `psi_norm`."
   ]
  },
  {
   "cell_type": "code",
   "execution_count": 71,
   "id": "88d2ce55-a067-495a-b24b-8d54fdbd473e",
   "metadata": {},
   "outputs": [],
   "source": [
    "E = 40 #valor das energias\n",
    "V = 50 #tamanho do potencial degrau\n",
    "\n",
    "psi_i, x_i = fpsi(E, -5, 0) #determinando a solução da equação Schrödinger\n",
    "psi_i, A = psi_norm(psi_i, E, 1e6, -5, 0) #normalizando \n",
    "\n",
    "x_T = np.linspace(0, 5, 1000) # região II\n",
    "\n",
    "#Determinando a amplitude C\n",
    "if E < V:\n",
    "    temp1 = 2*np.sqrt(E)\n",
    "    temp2 = abs(np.sqrt(E) + complex(0,1)*np.sqrt(V - E))**2\n",
    "    psi_T = np.exp(-np.sqrt(2*1*(V-E)/1**2)*x_T)\n",
    "else:\n",
    "    temp1 = 2*np.sqrt(E)\n",
    "    temp2 = abs(np.sqrt(E) + np.sqrt(E - V))**2\n",
    "    psi_T = np.exp(complex(0,1)*np.sqrt(2*1*(E - V)/1**2)*x_T)\n",
    "C = A*temp1/temp2\n",
    "\n",
    "psi_T = C*psi_T #onda transmitida\n",
    "psi_i = psi_i - (psi_i[len(psi_i)-1] - psi_T[0]) #isso é importante para que a onda transmitida comece de onde a onda incidente termina"
   ]
  },
  {
   "cell_type": "markdown",
   "id": "6b6f0a31-aca4-4db0-854e-8bd4adbed856",
   "metadata": {},
   "source": [
    "$\\quad$ Finalmente, poderemos plotaremos o gráfico."
   ]
  },
  {
   "cell_type": "code",
   "execution_count": 72,
   "id": "b4f1a858-4a4b-4b93-9b8e-7f6c4557f938",
   "metadata": {},
   "outputs": [
    {
     "data": {
      "text/plain": [
       "Text(0, 0.5, '$\\\\psi(x, t)$')"
      ]
     },
     "execution_count": 72,
     "metadata": {},
     "output_type": "execute_result"
    },
    {
     "data": {
      "image/png": "[encoded data removed]",
      "text/plain": [
       "<Figure size 800x400 with 1 Axes>"
      ]
     },
     "metadata": {},
     "output_type": "display_data"
    }
   ],
   "source": [
    "x = np.linspace(-5, 5, 100)\n",
    "V = np.zeros(100)\n",
    "\n",
    "for i in range(100):\n",
    "    if x[i]<0:\n",
    "        V[i] = 0\n",
    "    else:\n",
    "        V[i] = 50\n",
    "        \n",
    "fig, ax = plt.subplots(figsize=(8, 4))\n",
    "plt.minorticks_on()\n",
    "plt.tick_params(axis='both', which='both', top = True, right = True, direction = 'in', length=4, width=1)\n",
    "plt.xticks(np.arange(-5, 5, 1), minor = True)\n",
    "plt.yticks(np.arange(0, 1.6, 0.2), minor = True)\n",
    "\n",
    "plt.plot(x_i, psi_i)\n",
    "plt.plot(x_T, psi_T)\n",
    "\n",
    "plt.axvline(x = 0, color = 'black', linestyle = '--')\n",
    "plt.title(\"Figura 2 - Gráfico do do espalhamento\", fontsize = 12)\n",
    "plt.xlabel(\"x(m)\", fontsize = 12)\n",
    "plt.ylabel(r\"$\\psi(x, t)$\", fontsize = 12)"
   ]
  },
  {
   "cell_type": "markdown",
   "id": "f4da3308-8501-42ee-930e-4f1ab9fed129",
   "metadata": {},
   "source": [
    "$\\quad$ Observando esse gráfico, vemos que na região II o pacote de onda decai rapidamente numa exponencial, isso é devido à diferença da energia da partícula com o potencial degrau, lembre-se que a energia $E = 40 \\ J$ possui um coeficiente de transmissão muito próxima de zero, como pode ser visto na Figura **1** dos coeficientes. Em seguida, plotaremos esse mesmo gráfico, porém para $E = 49.99 \\ J$, esta energia já possui uma probabilidade de passar pela barreira diferente de zero, como pode ser visto na Figura **1**."
   ]
  },
  {
   "cell_type": "code",
   "execution_count": 69,
   "id": "9fb6b07f-9b79-4599-9702-d711e3cf0a53",
   "metadata": {},
   "outputs": [],
   "source": [
    "E = 49.99\n",
    "V = 50\n",
    "psi_i, x_i = fpsi(E, -5, 0)\n",
    "psi_i, A = psi_norm(psi_i, E, 1e6, -5, 0) \n",
    "x_T = np.linspace(0, 5, 1000)\n",
    "\n",
    "if E < V:\n",
    "    temp1 = 2*np.sqrt(E)\n",
    "    temp2 = abs(np.sqrt(E) + complex(0,1)*np.sqrt(V - E))**2\n",
    "    psi_T = np.exp(-np.sqrt(2*1*(V-E)/1**2)*x_T)\n",
    "else:\n",
    "    temp1 = 2*np.sqrt(E)\n",
    "    temp2 = abs(np.sqrt(E) + np.sqrt(E - V))**2\n",
    "    psi_T = np.exp(complex(0,1)*np.sqrt(2*1*(E - V)/1**2)*x_T)\n",
    "    \n",
    "C = A*temp1/temp2\n",
    "psi_T = C*psi_T\n",
    "psi_i = psi_i - (psi_i[len(psi_i)-1] - psi_T[0])"
   ]
  },
  {
   "cell_type": "code",
   "execution_count": 70,
   "id": "48b873fa-9b43-412c-9c95-e33c987bd53e",
   "metadata": {},
   "outputs": [
    {
     "data": {
      "text/plain": [
       "Text(0, 0.5, '$\\\\psi(x, t)$')"
      ]
     },
     "execution_count": 70,
     "metadata": {},
     "output_type": "execute_result"
    },
    {
     "data": {
      "image/png": "[encoded data removed]",
      "text/plain": [
       "<Figure size 800x400 with 1 Axes>"
      ]
     },
     "metadata": {},
     "output_type": "display_data"
    }
   ],
   "source": [
    "x = np.linspace(-5, 5, 100)\n",
    "V = np.zeros(100)\n",
    "\n",
    "for i in range(100):\n",
    "    if x[i]<0:\n",
    "        V[i] = 0\n",
    "    else:\n",
    "        V[i] = 50\n",
    "        \n",
    "fig, ax = plt.subplots(figsize=(8, 4))\n",
    "plt.minorticks_on()\n",
    "plt.tick_params(axis='both', which='both', top = True, right = True, direction = 'in', length=4, width=1)\n",
    "plt.xticks(np.arange(-5, 5, 1), minor = True)\n",
    "plt.yticks(np.arange(0, 1.6, 0.2), minor = True)\n",
    "\n",
    "plt.plot(x_i, psi_i)\n",
    "plt.plot(x_T, psi_T)\n",
    "\n",
    "plt.axvline(x = 0, color = 'black', linestyle = '--')\n",
    "plt.title(\"Figura 3 - Gráfico do do espalhamento\", fontsize = 12)\n",
    "plt.xlabel(\"x(m)\", fontsize = 12)\n",
    "plt.ylabel(r\"$\\psi(x, t)$\", fontsize = 12)"
   ]
  },
  {
   "cell_type": "markdown",
   "id": "6330bbf5-9409-4578-bcc5-1fe7063a177b",
   "metadata": {},
   "source": [
    "$\\quad$ Observe, que diferente da Figura **2** nesse caso a partícula decai muito mais devagar, quase que numa linha reta. Plotaremos agora o mesmo tipo de gráfico, no entanto, com $E = 60 \\ J$."
   ]
  },
  {
   "cell_type": "code",
   "execution_count": 64,
   "id": "d93ef978-3686-433f-a9c8-7a1f57e508f5",
   "metadata": {},
   "outputs": [],
   "source": [
    "E = 60\n",
    "V = 50\n",
    "psi_i, x_i = fpsi(E, -5, 0)\n",
    "psi_i, A = psi_norm(psi_i, E, 1e6, -5, 0) \n",
    "x_T = np.linspace(0, 5, 1000)\n",
    "\n",
    "if E < V:\n",
    "    temp1 = 2*np.sqrt(E)\n",
    "    temp2 = abs(np.sqrt(E) + complex(0,1)*np.sqrt(V - E))**2\n",
    "    psi_T = np.exp(-np.sqrt(2*1*(V-E)/1**2)*x_T)\n",
    "else:\n",
    "    temp1 = 2*np.sqrt(E)\n",
    "    temp2 = abs(np.sqrt(E) + np.sqrt(E - V))**2\n",
    "    psi_T = np.exp(complex(0,1)*np.sqrt(2*1*(E - V)/1**2)*x_T)\n",
    "    \n",
    "C = A*temp1/temp2\n",
    "psi_T = C*psi_T\n",
    "psi_i = psi_i - (psi_i[len(psi_i)-1] - psi_T[0])"
   ]
  },
  {
   "cell_type": "code",
   "execution_count": 68,
   "id": "25f8c647-b658-48bc-b824-baaf332ee1ce",
   "metadata": {},
   "outputs": [
    {
     "data": {
      "text/plain": [
       "Text(0, 0.5, '$\\\\psi(x, t)$')"
      ]
     },
     "execution_count": 68,
     "metadata": {},
     "output_type": "execute_result"
    },
    {
     "data": {
      "image/png": "[encoded data removed]",
      "text/plain": [
       "<Figure size 800x400 with 1 Axes>"
      ]
     },
     "metadata": {},
     "output_type": "display_data"
    }
   ],
   "source": [
    "x = np.linspace(-5, 5, 100)\n",
    "V = np.zeros(100)\n",
    "\n",
    "for i in range(100):\n",
    "    if x[i]<0:\n",
    "        V[i] = 0\n",
    "    else:\n",
    "        V[i] = 50\n",
    "        \n",
    "fig, ax = plt.subplots(figsize=(8, 4))\n",
    "plt.minorticks_on()\n",
    "plt.tick_params(axis='both', which='both', top = True, right = True, direction = 'in', length=4, width=1)\n",
    "plt.xticks(np.arange(-5, 5, 1), minor = True)\n",
    "plt.yticks(np.arange(0, 1.6, 0.2), minor = True)\n",
    "\n",
    "plt.plot(x_i, psi_i)\n",
    "plt.plot(x_T, psi_T)\n",
    "\n",
    "plt.axvline(x = 0, color = 'black', linestyle = '--')\n",
    "plt.title(\"Figura 4 - Gráfico do do espalhamento\", fontsize = 12)\n",
    "plt.xlabel(\"x(m)\", fontsize = 12)\n",
    "plt.ylabel(r\"$\\psi(x, t)$\", fontsize = 12)"
   ]
  },
  {
   "cell_type": "markdown",
   "id": "7d0a79a4-c913-4fea-ac03-77f8c4cbdc58",
   "metadata": {},
   "source": [
    "$\\quad$ Já nesse caso, percebe-se que na região II a partícula mantém um movimento oscilatório, diferente do que acontece na Figura **2** e **3**. Justamente, porque a partícula possui energia para passar o pelo potencial degrau. Note também que, a frequência do do pacote de onda na região II é menor que na região I, pois querendo ou não a partícula ainda o movimento da partícula ainda é afetada pelo potencial nessa região."
   ]
  },
  {
   "cell_type": "markdown",
   "id": "bb95cec9-1ed3-4195-9846-898914fa3a84",
   "metadata": {},
   "source": [
    "## 3. Potencial Barreira"
   ]
  },
  {
   "cell_type": "markdown",
   "id": "f360e3fa-3c89-4d35-9b5e-a9a7219732a4",
   "metadata": {},
   "source": [
    "$\\quad$ Agora veremos o fenômeno do tunelamento em uma barreira potencial. Esse caso é bem semelhante com o anterior, no entanto, o potencial está entre $0 < x < a$. No qual, é chamado de região II e em $x>a$ é denominada de região III.\n",
    "\n",
    "$\\quad$ Dito isso, faremos praticamente o mesmo do caso anterior, encontraremos os coeficientes de transmissão e reflexão em função de $E$."
   ]
  },
  {
   "cell_type": "markdown",
   "id": "6e958e24-4746-4ffb-a135-f90f11b3e94b",
   "metadata": {},
   "source": [
    "### 3.1 Desenvolvimento Teórico"
   ]
  },
  {
   "cell_type": "markdown",
   "id": "438f42bc-beec-40e8-9c55-9651f6a94195",
   "metadata": {},
   "source": [
    "$\\quad$ Para este problema consideraremos um potencial degrau de forma que será definido da seguinte forma"
   ]
  },
  {
   "cell_type": "markdown",
   "id": "27313720-5a34-4cc4-b798-88eb8d7acd79",
   "metadata": {},
   "source": [
    "$$  {\\begin{cases}\n",
    "        V(x) = 0, \\ para \\ x<0\\\\\n",
    "        \\\\\n",
    "        V(x) = V_0, \\ para \\ 0<x<a \\\\\n",
    "        \\\\\n",
    "        V(x) = 0, \\ para \\ x>a \\\\\n",
    "        \\end{cases}\n",
    "        } \\ ,$$"
   ]
  },
  {
   "cell_type": "markdown",
   "id": "ad7d477e-cec5-476f-b5f8-b75e1bca4f59",
   "metadata": {},
   "source": [
    "assim, primeiramente plotaremos um gráfico para o potencial e nesse exemplo também iremos considerar $V_0 = 100 \\ J$ e $a = 10 \\ m$, isso apenas para visualizar melhor."
   ]
  },
  {
   "cell_type": "code",
   "execution_count": 85,
   "id": "48ac0a5c-ad69-4e20-8e8a-720b72da1cba",
   "metadata": {},
   "outputs": [
    {
     "data": {
      "text/plain": [
       "Text(0, 0.5, 'V(x)')"
      ]
     },
     "execution_count": 85,
     "metadata": {},
     "output_type": "execute_result"
    },
    {
     "data": {
      "image/png": "[encoded data removed]",
      "text/plain": [
       "<Figure size 600x300 with 1 Axes>"
      ]
     },
     "metadata": {},
     "output_type": "display_data"
    }
   ],
   "source": [
    "x = np.linspace(-10, 20, 1000)\n",
    "V = np.zeros(len(x))\n",
    "a = 10\n",
    "for i in range(len(x)):\n",
    "    if x[i]<0 or x[i]>a:\n",
    "        V[i] = 0\n",
    "    else:\n",
    "        V[i] = 100\n",
    "        \n",
    "plot_ticks(x, V, 10)\n",
    "plt.plot(x, V, color = \"black\")\n",
    "\n",
    "plt.text(-7, 50, \"Região I\", fontsize = 14)\n",
    "plt.text(2, 50, \"Região II\", fontsize = 14)\n",
    "plt.text(12, 50, \"Região III\", fontsize = 14)\n",
    "\n",
    "plt.title(\"Gráfico do Potencial Degrau\")\n",
    "plt.xlabel(\"x(m)\")\n",
    "plt.ylabel(\"V(x)\")"
   ]
  },
  {
   "cell_type": "markdown",
   "id": "57308ccc-d2ab-4dbc-aa84-65d28db8a56b",
   "metadata": {},
   "source": [
    "$\\quad$ Da mesma maneira do problema anterior, devemos começar com a equação de Schrödinger independente do tempo, Equação **(2.1)**. A solução dessa equação na região I e II será igual a mesma forma que o problema anterior. Em outras palavras, o pacote de onda incidente é definida como a Equação **(2.2)**, a refletida como a Equação **(2.3)** e na região II a Equação **(2.4)**. No entanto, como só estamos interessados na onda transmitida, a que se propaga para a direita, então podemos considerar o $D=0$ **[1]**. Assim,"
   ]
  },
  {
   "cell_type": "markdown",
   "id": "2ef3380f-ac8b-4cdf-8ba9-51d4473dcda5",
   "metadata": {},
   "source": [
    "$$ \\psi_{II} = Ce^{ik_2x}\\ . \\tag{3.1}$$"
   ]
  },
  {
   "cell_type": "markdown",
   "id": "b7b8c764-fc22-42a6-852d-78e720b26806",
   "metadata": {},
   "source": [
    "$\\quad$ Por fim, para a região III a Equação **(2.3)** terá a mesma forma que na região I, ou seja, possuem a mesma solução. Com isso, agora temos o pacote de onda após o tunelamento, a onda transmitida"
   ]
  },
  {
   "cell_type": "markdown",
   "id": "3069374c-3f02-4476-8f64-72e49e881a6a",
   "metadata": {},
   "source": [
    "$$ \\psi(x) = Fe^{ik_1x} + Ge^{-ik_1x} \\ .$$"
   ]
  },
  {
   "cell_type": "markdown",
   "id": "233f43b6-ce4c-4ea2-93a3-ac0d3e065c84",
   "metadata": {},
   "source": [
    "$\\quad$ No entanto, perceba que na região III, só haverá uma onda transmitida, que se propaga na direção positiva de $x$, assim $G = 0$. Logo,"
   ]
  },
  {
   "cell_type": "markdown",
   "id": "7f3586f2-4707-4cea-80ba-1e0d496b260e",
   "metadata": {},
   "source": [
    "$$\\psi(x) = Fe^{ik_1x}\\ . \\tag{3.2}$$"
   ]
  },
  {
   "cell_type": "markdown",
   "id": "7546385e-9a93-476e-b605-87ced97a755c",
   "metadata": {},
   "source": [
    "$\\quad$ A seguir, aplicaremos as condições de contorno e faremos o mesmo procedimento feito na seção anterior. Em $x=0$ as funções de onda da região I e II devem ser iguais e suas derivadas em torno desse ponto também, dessa forma"
   ]
  },
  {
   "cell_type": "markdown",
   "id": "48097aaa-b87b-4ada-ba81-319a69a1ad26",
   "metadata": {},
   "source": [
    "$$  {\\begin{cases}\n",
    "        A + B = C \\\\\n",
    "        \\\\\n",
    "        ik_1(A - B) = ik_2C \\\\\n",
    "        \\end{cases}\n",
    "        }$$"
   ]
  },
  {
   "cell_type": "markdown",
   "id": "115ffdbb-a8d2-41d8-98f8-cfbf3837c3fe",
   "metadata": {},
   "source": [
    "$\\quad$ A simplificação desse sistemas se equações já conhecemos,"
   ]
  },
  {
   "cell_type": "markdown",
   "id": "92f2dcde-d409-4c8c-b1d6-80c2bd957143",
   "metadata": {},
   "source": [
    "$$C= A\\frac{2k_1}{k_1+k_2} \\ . \\tag{3.3}$$"
   ]
  },
  {
   "cell_type": "markdown",
   "id": "ef5eab48-0c4f-4dd5-b791-4b6cce57b208",
   "metadata": {},
   "source": [
    "$\\quad$ Substituindo $k_1 = \\sqrt{\\frac{2mE}{\\hbar^2}}$ e $k_2 = \\sqrt{\\frac{2m(E - V_0)}{\\hbar^2}}$ na Equação **(3.3)** assim, logo"
   ]
  },
  {
   "cell_type": "markdown",
   "id": "2f4b4869-d542-47aa-bb64-184f7622defa",
   "metadata": {},
   "source": [
    "$$\\therefore C= A\\frac{2\\sqrt{E}}{\\sqrt{E}+\\sqrt{E - V_0}} \\ . \\tag{3.4}$$"
   ]
  },
  {
   "cell_type": "markdown",
   "id": "3abfab9d-e322-4c82-beaa-f263d2e07d7c",
   "metadata": {},
   "source": [
    "$\\quad$ Outras condições de contorno são as mesma, mas em torno do ponto $x=a$. Em outras palavras, as funções de onda da região II e III devem ser iguais e suas derivadas em torno desse ponto também, logo"
   ]
  },
  {
   "cell_type": "markdown",
   "id": "7c5b96c2-729b-45c7-97ea-02b3c9379230",
   "metadata": {},
   "source": [
    "$$  {\\begin{cases}\n",
    "        Ce^{ik_2a} = Fe^{ik_1a}\\\\\n",
    "        \\\\\n",
    "        ik_2Ce^{ik_2a} = ik_1 Fe^{ik_1a} \\implies Ce^{ik_2a} = \\frac{k_1}{k_2} Fe^{ik_1a}\\\\\n",
    "        \\end{cases}\n",
    "        } \\ .$$"
   ]
  },
  {
   "cell_type": "markdown",
   "id": "20f0ea0b-fe2b-40f1-806c-2d7568724890",
   "metadata": {},
   "source": [
    "$\\quad$ Faremos algumas manipulações algébricas para por $F$ em função de $A$. Somando as duas equações, obtemos"
   ]
  },
  {
   "cell_type": "markdown",
   "id": "cb30f70b-59af-46b5-8ea2-bce4ca321dff",
   "metadata": {},
   "source": [
    "$$ 2Ce^{ik_2a} = Fe^{ik_1a} + \\frac{k_1}{k_2} Fe^{ik_1a} \\implies  2Ce^{ik_2a} = Fe^{ik_1a}( 1 + \\frac{k_1}{k_2})$$"
   ]
  },
  {
   "cell_type": "markdown",
   "id": "0728b09c-0c76-40e7-aa2c-b8b06d19f83e",
   "metadata": {},
   "source": [
    "$$ \\implies  Fe^{ik_1a}\\frac{k_2 + k_1}{k_2} = 2Ce^{ik_2a}$$"
   ]
  },
  {
   "cell_type": "markdown",
   "id": "062127a8-a678-49c3-8e44-fd69d82e1277",
   "metadata": {},
   "source": [
    "$$\\implies  F = 2Ce^{i(k_2 - k_1)a} \\frac{k_2}{k_1 + k_2} \\ ,$$"
   ]
  },
  {
   "cell_type": "markdown",
   "id": "71896fd2-c0b0-4762-b6aa-67b1c96bdc88",
   "metadata": {},
   "source": [
    "substituindo a Equação **(3.3)** no resultado acima teremos"
   ]
  },
  {
   "cell_type": "markdown",
   "id": "3cde493e-5e5d-4515-95fe-afa564c374dc",
   "metadata": {},
   "source": [
    "$$ F = 2A\\frac{2k_1}{k_1+k_2}e^{i(k_2 - k_1)a} \\frac{k_2}{k_1 + k_2}$$"
   ]
  },
  {
   "cell_type": "markdown",
   "id": "af931a8a-5afa-4187-81fd-0a7522f3f7c9",
   "metadata": {},
   "source": [
    "$$ \\implies F = Ae^{i(k_2 - k_1)a} \\frac{4k_1k_2}{(k_1 + k_2)^2}$$"
   ]
  },
  {
   "cell_type": "markdown",
   "id": "c8a6e985-4ca4-4a41-abc6-c41154ed8865",
   "metadata": {},
   "source": [
    "$$\\therefore \\boxed{F = Ae^{i(\\sqrt{E-V_0} - \\sqrt{E})a} \\frac{4\\sqrt{E}\\sqrt{E-V_0}}{(\\sqrt{E} + \\sqrt{E - V_0})^2}} \\ . \\tag{3.5}$$"
   ]
  },
  {
   "cell_type": "markdown",
   "id": "0baed258-df7f-42ab-92af-439497c7e26b",
   "metadata": {},
   "source": []
  },
  {
   "cell_type": "markdown",
   "id": "a6e19b87-ace8-42fa-81e3-d6bbf5ddf480",
   "metadata": {},
   "source": []
  },
  {
   "cell_type": "markdown",
   "id": "9ca032e2-eef6-4236-b18c-17bb1b9ec72a",
   "metadata": {},
   "source": []
  },
  {
   "cell_type": "markdown",
   "id": "04950ae1-76db-4ea2-b88b-9c8fc6f8d66f",
   "metadata": {},
   "source": []
  },
  {
   "cell_type": "markdown",
   "id": "ea2ab1c7-96d8-4df3-9160-44432c86506a",
   "metadata": {},
   "source": []
  },
  {
   "cell_type": "markdown",
   "id": "fec0bd3a-7ef4-4808-bb3d-ef5f3260e082",
   "metadata": {},
   "source": []
  },
  {
   "cell_type": "markdown",
   "id": "67b8f832-1fbe-4947-96f5-d734bd52b18d",
   "metadata": {},
   "source": [
    "## 3.2 Aplicação Numérica"
   ]
  },
  {
   "cell_type": "markdown",
   "id": "38741bbe-4739-4bce-95d8-afd4743a39bf",
   "metadata": {},
   "source": [
    "$\\quad$ Para solucionar computacionalmente, determinaremos as soluções da Equação **(1.1)** numericamente em cada região e para garantir que sejam são as soluções de onda que queremos. Para solucionar as EDOs, utilizaremos o método numérico de Numerov. Além disso, para facilitar nossos cálculos imaginemos que a partícula que está de movendo em direção ao potencial degrau tem massa igual 1 e a constante de planck igual a 1, ou seja, $m = 1 \\ kg$ e $\\hbar = 1 \\ J.s$."
   ]
  },
  {
   "cell_type": "code",
   "execution_count": 175,
   "id": "dd370bf3-6e1d-45b2-a731-84f7e3d33150",
   "metadata": {},
   "outputs": [],
   "source": [
    "T = []\n",
    "R = []\n",
    "temp = np.linspace(0, 200, 1000)\n",
    "for i in range(len(temp)):\n",
    "    E = temp[i]\n",
    "    psi_i, x_i = fpsi_i(E, -1, 0)\n",
    "    psi_i, A = psi_norm(psi_i, -1, 0)\n",
    "    if E<V:\n",
    "        temp1 = A*np.exp(complex(0, 1)*(np.sqrt(V - E)*complex(0,1) - np.sqrt(E))*a)\n",
    "        temp2 = 4*np.sqrt(E)*np.sqrt(V - E)*complex(0,1)/((np.sqrt(V - E)*complex(0,1) + np.sqrt(E))**2)\n",
    "        F = temp1*temp2\n",
    "    else:\n",
    "        temp1 = A*np.exp(complex(0, 1)*(np.sqrt(E - V) - np.sqrt(E))*a)\n",
    "        temp2 = 4*np.sqrt(E)*np.sqrt(E - V)/((np.sqrt(E - V) + np.sqrt(E))**2)\n",
    "        F = temp1*temp2\n",
    "    T.append(abs(F)**2/abs(A)**2)\n",
    "    R.append(1-abs(F)**2/abs(A)**2)"
   ]
  },
  {
   "cell_type": "code",
   "execution_count": 176,
   "id": "b807f9cf-7daa-4dd1-869d-2b57ae03fe7b",
   "metadata": {},
   "outputs": [
    {
     "data": {
      "text/plain": [
       "[<matplotlib.lines.Line2D at 0x256f8f34590>]"
      ]
     },
     "execution_count": 176,
     "metadata": {},
     "output_type": "execute_result"
    },
    {
     "data": {
      "image/png": "[encoded data removed]",
      "text/plain": [
       "<Figure size 500x300 with 1 Axes>"
      ]
     },
     "metadata": {},
     "output_type": "display_data"
    }
   ],
   "source": [
    "plt.figure(figsize=(5,3))\n",
    "plt.plot(temp,T)\n",
    "#plt.plot(temp,R)"
   ]
  },
  {
   "cell_type": "markdown",
   "id": "c4d10e1d-c6fd-4637-af6f-a19825687063",
   "metadata": {},
   "source": [
    "## Acoplando a variação no tempo"
   ]
  },
  {
   "cell_type": "markdown",
   "id": "f2d1009b-158d-4dc0-8f74-342a7d162c84",
   "metadata": {},
   "source": [
    "$$ \\phi(t) = e^{-iEt/\\hbar}$$"
   ]
  },
  {
   "cell_type": "code",
   "execution_count": 149,
   "id": "f441910b-fc55-4113-b923-1e01270208fc",
   "metadata": {},
   "outputs": [],
   "source": [
    "T = []\n",
    "R = []\n",
    "\n",
    "E = 230\n",
    "t = np.linspace(0, 1, 100)\n",
    "for i in range(len(t)):\n",
    "    psi_i, x_i = fpsi_i(E, -1, 0)\n",
    "    psi_i, A = psi_norm(psi_i, -1, 0)\n",
    "    psi_i = psi_i*np.exp(-complex(0, 1)*E*t[i])\n",
    "    if E<V:\n",
    "        temp1 = A*np.exp(complex(0, 1)*(np.sqrt(V - E)*complex(0,1) - np.sqrt(E))*a)\n",
    "        temp2 = 4*np.sqrt(E)*np.sqrt(V - E)*complex(0,1)/((np.sqrt(V - E)*complex(0,1) + np.sqrt(E))**2)\n",
    "        F = temp1*temp2\n",
    "    else:\n",
    "        temp1 = A*np.exp(complex(0, 1)*(np.sqrt(E - V) - np.sqrt(E))*a)\n",
    "        temp2 = 4*np.sqrt(E)*np.sqrt(E - V)/((np.sqrt(E - V) + np.sqrt(E))**2)\n",
    "        F = temp1*temp2\n",
    "    x_T = np.linspace(a, 2, 1000)\n",
    "    psi_T = F*np.exp(-complex(0, 1)*E*t[i])*np.exp(complex(0, 1)*np.sqrt(2*E)*x_T)\n",
    "    \n",
    "    T.append(fint(psi_T, x_T, a, 2))\n",
    "    R.append(1-fint(psi_T, x_T, a, 2))\n",
    "    "
   ]
  },
  {
   "cell_type": "code",
   "execution_count": 150,
   "id": "3f1e300d-1f3d-433d-a882-c936bf4a1b64",
   "metadata": {},
   "outputs": [
    {
     "data": {
      "text/plain": [
       "[<matplotlib.lines.Line2D at 0x256f8ba26d0>]"
      ]
     },
     "execution_count": 150,
     "metadata": {},
     "output_type": "execute_result"
    },
    {
     "data": {
      "image/png": "[encoded data removed]",
      "text/plain": [
       "<Figure size 500x300 with 1 Axes>"
      ]
     },
     "metadata": {},
     "output_type": "display_data"
    }
   ],
   "source": [
    "plt.figure(figsize=(5,3))\n",
    "plt.plot(t,T, \"r\")"
   ]
  },
  {
   "cell_type": "markdown",
   "id": "a7f14c48-d3a6-4c3f-8e2b-0b22a7dae6e7",
   "metadata": {},
   "source": [
    "---"
   ]
  },
  {
   "cell_type": "markdown",
   "id": "53d50a9b-a68b-44b5-811a-ed44ba7beb71",
   "metadata": {},
   "source": [
    "## Referências"
   ]
  },
  {
   "cell_type": "markdown",
   "id": "9851f0d9-55d6-4b45-96ef-93adb3450ae7",
   "metadata": {},
   "source": [
    "**[1]** SAKURAI, J. J.; NAPOLITANO, J. MECâNICA QUÂNTICA MODERNA. [s.l.]: Pearson Education, 2013.\n",
    "\n",
    "**[2]** SHANKAR, R. Principles of Quantum Mechanics. [s.l.]: Springer Science, 1994.\n",
    "\n",
    "**[3]** RIBEIRO, M. A. C. et al. Os problemas de espalhamento quântico em potenciais elementares. Revista Brasileira de Ensino de Física, [s.l.], no 1, 2004. DOI: https://doi.org/10.1590/s1806-11172004000100001.\n",
    "\n",
    "**[4]** SAFNE DE SOUZA SILVA, P.; PEREIRA DA SILVA, L. F. Uma Abordagem Didática Do Tunelamento quântico: a Partir Do Estudo Da Barreira Potencial Retangular Simples. Revista Física No Campus, [s.l.], no 2, 2023.\n",
    "\n",
    "**[5]** _Método Numérico de Numerov_: https://github.com/PETfisicaUFRN/PET.py/blob/main/Notebooks/Metodo_de_Numerov.ipynb\n",
    "\n",
    "**[6]** Newman, Mark. Computacional Physics. 2012. University of Michigan, 2013.\n",
    "\n",
    "**[7]** Giordano, N. J., & Nakanishi, H. (2006). Computational physics."
   ]
  }
 ],
 "metadata": {
  "kernelspec": {
   "display_name": "Python 3 (ipykernel)",
   "language": "python",
   "name": "python3"
  },
  "language_info": {
   "codemirror_mode": {
    "name": "ipython",
    "version": 3
   },
   "file_extension": ".py",
   "mimetype": "text/x-python",
   "name": "python",
   "nbconvert_exporter": "python",
   "pygments_lexer": "ipython3",
   "version": "3.11.9"
  }
 },
 "nbformat": 4,
 "nbformat_minor": 5
}
