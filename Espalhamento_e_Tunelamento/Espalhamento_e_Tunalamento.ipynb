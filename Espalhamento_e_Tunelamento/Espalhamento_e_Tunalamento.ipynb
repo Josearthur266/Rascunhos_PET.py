{
 "cells": [
  {
   "cell_type": "code",
   "execution_count": null,
   "id": "be918c88-8ff6-4928-b8f6-e59bae55d70f",
   "metadata": {},
   "outputs": [],
   "source": []
  },
  {
   "cell_type": "code",
   "execution_count": null,
   "id": "aca53465-3fbc-49c2-bb88-ccfeede972b9",
   "metadata": {},
   "outputs": [],
   "source": []
  },
  {
   "cell_type": "code",
   "execution_count": null,
   "id": "caea920f-b830-4b03-a2b1-80e1de64c893",
   "metadata": {},
   "outputs": [],
   "source": []
  },
  {
   "cell_type": "markdown",
   "id": "a7f14c48-d3a6-4c3f-8e2b-0b22a7dae6e7",
   "metadata": {},
   "source": [
    "---"
   ]
  },
  {
   "cell_type": "markdown",
   "id": "53d50a9b-a68b-44b5-811a-ed44ba7beb71",
   "metadata": {},
   "source": [
    "## Referências"
   ]
  },
  {
   "cell_type": "markdown",
   "id": "9851f0d9-55d6-4b45-96ef-93adb3450ae7",
   "metadata": {},
   "source": [
    "**[1]** SHANKAR, R. Principles of Quantum Mechanics. [s.l.]: Springer Science, 1994.\n",
    "\n",
    "**[2]** SAKURAI, J. J.; NAPOLITANO, J. MECâNICA QUÂNTICA MODERNA. [s.l.]: Pearson Education, 2013.\n",
    "\n",
    "**[3]** RIBEIRO, M. A. C. et al. Os problemas de espalhamento quântico em potenciais elementares. Revista Brasileira de Ensino de Física, [s.l.], no 1, 2004. DOI: https://doi.org/10.1590/s1806-11172004000100001.\n",
    "\n",
    "**[4]** SAFNE DE SOUZA SILVA, P.; PEREIRA DA SILVA, L. F. Uma Abordagem Didática Do Tunelamento quântico: a Partir Do Estudo Da Barreira Potencial Retangular Simples. Revista Física No Campus, [s.l.], no 2, 2023."
   ]
  },
  {
   "cell_type": "code",
   "execution_count": null,
   "id": "c398854a-b46e-413c-9db6-c16266699a83",
   "metadata": {},
   "outputs": [],
   "source": []
  }
 ],
 "metadata": {
  "kernelspec": {
   "display_name": "Python 3 (ipykernel)",
   "language": "python",
   "name": "python3"
  },
  "language_info": {
   "codemirror_mode": {
    "name": "ipython",
    "version": 3
   },
   "file_extension": ".py",
   "mimetype": "text/x-python",
   "name": "python",
   "nbconvert_exporter": "python",
   "pygments_lexer": "ipython3",
   "version": "3.11.8"
  }
 },
 "nbformat": 4,
 "nbformat_minor": 5
}
