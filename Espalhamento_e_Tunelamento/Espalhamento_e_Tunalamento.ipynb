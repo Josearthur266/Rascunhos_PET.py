{
 "cells": [
  {
   "cell_type": "markdown",
   "id": "acae0e37-9520-4148-ba32-c7787288acff",
   "metadata": {},
   "source": [
    "# Espalhamento e Tunelamento Quântico"
   ]
  },
  {
   "cell_type": "markdown",
   "id": "ccc23830-4fe8-4e39-8cd4-7794fa884fd2",
   "metadata": {},
   "source": [
    "* Matéria: Física Quântica\n",
    "* Aluno: José Arthur de Luna Oliveira\n",
    "* Professor: Bruno Ricardo de Carvalho\n",
    "* Data:"
   ]
  },
  {
   "cell_type": "markdown",
   "id": "ced03155-e106-4885-bed0-8b7f772d5569",
   "metadata": {},
   "source": [
    "$\\quad$ Neste trabalho discutiremos sobre o espalhamento e tunelamento quântico."
   ]
  },
  {
   "cell_type": "markdown",
   "id": "dc564367-fc56-4cce-8eba-da88e4fd0d9d",
   "metadata": {},
   "source": [
    "Neste `Notebook` haverá as seguintes seções:\n",
    "\n",
    "* Introdução;\n",
    "* Desenvolvimento do Problema;\n",
    "* Conclusão."
   ]
  },
  {
   "cell_type": "markdown",
   "id": "b1bd0d75-19b3-4564-a6bd-b14dd4ad7434",
   "metadata": {},
   "source": [
    "## Importando Bibliotecas"
   ]
  },
  {
   "cell_type": "code",
   "execution_count": 1,
   "id": "37163b77-bccc-479a-bc61-91c726014bed",
   "metadata": {},
   "outputs": [],
   "source": [
    "import matplotlib.pyplot as plt\n",
    "import numpy as np\n",
    "\n",
    "def plot_ticks(): #essa é uma função que mexe na aparência dos gráficos\n",
    "    plt.figure(figsize = (8,5))\n",
    "    plt.minorticks_on()\n",
    "    plt.tick_params(axis='x', which='both', top = True, right = True, direction = 'in', length=5, width=1)\n",
    "    plt.tick_params(axis='y', which='both', top = True, right = True, direction = 'in', length=5, width=1)"
   ]
  },
  {
   "cell_type": "markdown",
   "id": "7c63a317-d2c6-424e-b931-e79812aee3b4",
   "metadata": {},
   "source": [
    "## Detalhes da Biblioteca"
   ]
  },
  {
   "cell_type": "code",
   "execution_count": 2,
   "id": "95068537-294d-4b61-b481-7ea81c7ef9fc",
   "metadata": {},
   "outputs": [
    {
     "data": {
      "application/json": {
       "Software versions": [
        {
         "module": "Python",
         "version": "3.11.8 64bit [MSC v.1916 64 bit (AMD64)]"
        },
        {
         "module": "IPython",
         "version": "8.20.0"
        },
        {
         "module": "OS",
         "version": "Windows 10 10.0.22631 SP0"
        },
        {
         "module": "Matplotlib",
         "version": "3.8.0"
        },
        {
         "module": "Numpy",
         "version": "1.26.4"
        }
       ]
      },
      "text/html": [
       "<table><tr><th>Software</th><th>Version</th></tr><tr><td>Python</td><td>3.11.8 64bit [MSC v.1916 64 bit (AMD64)]</td></tr><tr><td>IPython</td><td>8.20.0</td></tr><tr><td>OS</td><td>Windows 10 10.0.22631 SP0</td></tr><tr><td>Matplotlib</td><td>3.8.0</td></tr><tr><td>Numpy</td><td>1.26.4</td></tr><tr><td colspan='2'>Sun May 05 19:40:37 2024 Hora Padrão de Buenos Aires</td></tr></table>"
      ],
      "text/latex": [
       "\\begin{tabular}{|l|l|}\\hline\n",
       "{\\bf Software} & {\\bf Version} \\\\ \\hline\\hline\n",
       "Python & 3.11.8 64bit [MSC v.1916 64 bit (AMD64)] \\\\ \\hline\n",
       "IPython & 8.20.0 \\\\ \\hline\n",
       "OS & Windows 10 10.0.22631 SP0 \\\\ \\hline\n",
       "Matplotlib & 3.8.0 \\\\ \\hline\n",
       "Numpy & 1.26.4 \\\\ \\hline\n",
       "\\hline \\multicolumn{2}{|l|}{Sun May 05 19:40:37 2024 Hora Padrão de Buenos Aires} \\\\ \\hline\n",
       "\\end{tabular}\n"
      ],
      "text/plain": [
       "Software versions\n",
       "Python 3.11.8 64bit [MSC v.1916 64 bit (AMD64)]\n",
       "IPython 8.20.0\n",
       "OS Windows 10 10.0.22631 SP0\n",
       "Matplotlib 3.8.0\n",
       "Numpy 1.26.4\n",
       "Sun May 05 19:40:37 2024 Hora Padrão de Buenos Aires"
      ]
     },
     "execution_count": 2,
     "metadata": {},
     "output_type": "execute_result"
    }
   ],
   "source": [
    "%load_ext version_information\n",
    "%version_information Matplotlib, Numpy"
   ]
  },
  {
   "cell_type": "markdown",
   "id": "95176043-ab32-4d30-aaf2-7fb0e0421333",
   "metadata": {},
   "source": [
    "## 1. Introdução"
   ]
  },
  {
   "cell_type": "markdown",
   "id": "376477a6-afc2-4122-9974-6e8ef2cd8c8b",
   "metadata": {},
   "source": [
    "$\\quad$ O espalhamento quântico é um fenômeno fundamental na Mecânica Quântica. Ele envolve o comportamento das partículas antes e após colidirem entre si. Durante o espalhamento, as propriedades das partículas, como sua posição, momento e energia, podem ser alteradas devido à interação. Entretanto, as leis da Mecânica Quântica determinam que essas mudanças não podem ser previstas de maneira determinística, apenas em termos de probabilidades. \n",
    "\n",
    "$\\quad$ O principal exemplo é o espalhamento de elétrons por núcleos atômicos. No qual, ocorre quando um elétron se aproxima de um núcleo atômico, ela pode ser desviada de sua trajetória original devido à interação eletromagnética entre as cargas elétricas do elétron e do núcleo. O resultado desse espalhamento pode variar de acordo com diversos fatores, incluindo a energia do elétron, a distância de aproximação e as propriedades específicas do núcleo. Em geral, o espalhamento quântico é o tipo de processos em que um estado inicial contínuo é transformado em um final contínuo através da ação de algum potencial **[2]**.\n",
    "\n",
    "$\\quad$ Para trabalharmos nesse problema, imaginemos uma partícula livre, viajando da direita para a esquerda, com energia $E$ em uma região I ($x \\leq 0$), em $x>0$ é a região II onde há ação de potencial $V = V_0$. Na Mecânica Clássica, as duas possibilidades de resultados, caso $E<V_0$ a partícula é refletida, ela não consegue ir para a região II, entretanto, se $E>V_0$ ela consegue passar para a outra região. Em contrapartida, na Mecânica Quântica, se $E<V_0$ existe probabilidade da partícula passar para a região II, esse fenômeno é chamado de Tunelamento."
   ]
  },
  {
   "cell_type": "markdown",
   "id": "bb95cec9-1ed3-4195-9846-898914fa3a84",
   "metadata": {},
   "source": [
    "### 1.1 Desenvolvimento do problema"
   ]
  },
  {
   "cell_type": "markdown",
   "id": "119096d1-0ed8-4aab-bdc9-199023a51f7a",
   "metadata": {},
   "source": [
    "$\\quad$ Dito isso, para conseguirmos desenvolver o problema trocaremos a partícula por um pacote de onda $\\psi_I(x)$, na qual quando atinge a barreira de potencial haverá uma onda refletida $\\psi_R(x)$ e outra transmitidas $\\psi_T(x)$. O problema em questão é encontrar a probabilidade de encontrar a partícula na região I ($R$) e a probabilidade de encontrar na região II ($T$), para encontrar esses dois valores basta determinar as seguintes integrais,"
   ]
  },
  {
   "cell_type": "markdown",
   "id": "71d3c4f4-58af-490c-9714-f82692c5d9e9",
   "metadata": {},
   "source": [
    "$$ R = \\int |\\psi_R|^2dx \\ , \\tag{1.1}$$"
   ]
  },
  {
   "cell_type": "markdown",
   "id": "6a63c52d-42df-41ab-9586-bedee880463c",
   "metadata": {},
   "source": [
    "$$T = \\int |\\psi_T|^2dx \\ ,\\tag{1.2}$$"
   ]
  },
  {
   "cell_type": "markdown",
   "id": "307b2bcd-b216-4d28-9f18-d7f6cd3ec4f1",
   "metadata": {},
   "source": [
    "devemos calcula-las considerando $t \\rightarrow \\infty$. \n",
    "\n",
    "$\\quad$ Em geral, $R$ e $T$ dependem diretamente do corpo da função de onda incidente. No entanto, mantendo o momento inicial bem definido, ou seja, $\\Delta p \\rightarrow 0$ e $\\Delta x \\rightarrow \\infty$. Assim, o resultado dependerá apenas do valor da energia inicial **[1]**.\n",
    "\n",
    "$\\quad$  Diante do exposto, para a solução ser encontrada deve seguir os seguintes passo:\n",
    "\n",
    "* Passo 1: Resolver a autofunção normalizada do Hamiltoniano da barreira de potencial $\\psi_E(x)$.\n",
    "* Passo 2: Encontrar a projeção $a(E) = \\langle \\psi_E \\vert \\psi_I \\rangle$.\n",
    "* Passo 3: Anexar a cada coeficiente $a(E)$ uma dependência no tempo $e^{-iEt/\\hbar}$ e obter $\\Psi(x, \\ t)$ para qualquer tempo futuro.\n",
    "* Passo 4: Identificar $\\psi_R$ e $\\psi_T$ em $\\Psi(x, \\ t \\rightarrow \\infty)$ e determinar $R$ e $T$ usando as Equações **(1.1)** e **(1.2)**.\n",
    "\n",
    "**OBS:** esse procedimento está descrito melhor na referência **[1]**."
   ]
  },
  {
   "cell_type": "markdown",
   "id": "18ef1fe9-362a-40d0-94cb-2f14fe67b367",
   "metadata": {},
   "source": [
    "## 2. Aplicando Computacionalmente"
   ]
  },
  {
   "cell_type": "markdown",
   "id": "438f42bc-beec-40e8-9c55-9651f6a94195",
   "metadata": {},
   "source": [
    "$\\quad$ Para resolver devemos começar com a equação de  Schrödinger,"
   ]
  },
  {
   "cell_type": "markdown",
   "id": "5d71fe53-30b1-4c55-b972-7dfc697935d9",
   "metadata": {},
   "source": []
  },
  {
   "cell_type": "markdown",
   "id": "3ae50a77-3b07-47ea-829b-acfdc5d6acd2",
   "metadata": {},
   "source": [
    "$\\quad$ Para resolver isso deve definir o pacote de onda incidente $\\psi_I(x)$ da seguinte maneira "
   ]
  },
  {
   "cell_type": "markdown",
   "id": "6319cbdd-4e84-4b62-aa75-bc5dfccc0ba4",
   "metadata": {},
   "source": [
    "$$ \\psi_I(x) = (\\pi \\Delta ^2)^{-1/4} e^{ik_0(x+a)} e^{-(x+a)^2/2\\Delta ^2} \\ , \\tag{2.1}$$"
   ]
  },
  {
   "cell_type": "markdown",
   "id": "2a843a1c-14fb-4039-bc6e-3031bf676aa4",
   "metadata": {},
   "source": [
    "note que essa função de onda é uma gaussiana, "
   ]
  },
  {
   "cell_type": "code",
   "execution_count": null,
   "id": "ec241342-41a8-4179-bf64-97daba847bc2",
   "metadata": {},
   "outputs": [],
   "source": []
  },
  {
   "cell_type": "code",
   "execution_count": null,
   "id": "ee410f44-610f-4e00-b15e-9483d1160ac6",
   "metadata": {},
   "outputs": [],
   "source": []
  },
  {
   "cell_type": "code",
   "execution_count": null,
   "id": "fec20240-6148-4cdd-a942-e1b24988926e",
   "metadata": {},
   "outputs": [],
   "source": []
  },
  {
   "cell_type": "code",
   "execution_count": null,
   "id": "ae34b3ef-34c0-4593-84e7-2a95dcef0f6a",
   "metadata": {},
   "outputs": [],
   "source": []
  },
  {
   "cell_type": "code",
   "execution_count": null,
   "id": "af89af59-4622-46a1-b0d9-6ac12f1a9aa0",
   "metadata": {},
   "outputs": [],
   "source": []
  },
  {
   "cell_type": "markdown",
   "id": "a7f14c48-d3a6-4c3f-8e2b-0b22a7dae6e7",
   "metadata": {},
   "source": [
    "---"
   ]
  },
  {
   "cell_type": "markdown",
   "id": "53d50a9b-a68b-44b5-811a-ed44ba7beb71",
   "metadata": {},
   "source": [
    "## Referências"
   ]
  },
  {
   "cell_type": "markdown",
   "id": "9851f0d9-55d6-4b45-96ef-93adb3450ae7",
   "metadata": {},
   "source": [
    "**[1]** SHANKAR, R. Principles of Quantum Mechanics. [s.l.]: Springer Science, 1994.\n",
    "\n",
    "**[2]** SAKURAI, J. J.; NAPOLITANO, J. MECâNICA QUÂNTICA MODERNA. [s.l.]: Pearson Education, 2013.\n",
    "\n",
    "**[3]** RIBEIRO, M. A. C. et al. Os problemas de espalhamento quântico em potenciais elementares. Revista Brasileira de Ensino de Física, [s.l.], no 1, 2004. DOI: https://doi.org/10.1590/s1806-11172004000100001.\n",
    "\n",
    "**[4]** SAFNE DE SOUZA SILVA, P.; PEREIRA DA SILVA, L. F. Uma Abordagem Didática Do Tunelamento quântico: a Partir Do Estudo Da Barreira Potencial Retangular Simples. Revista Física No Campus, [s.l.], no 2, 2023."
   ]
  }
 ],
 "metadata": {
  "kernelspec": {
   "display_name": "Python 3 (ipykernel)",
   "language": "python",
   "name": "python3"
  },
  "language_info": {
   "codemirror_mode": {
    "name": "ipython",
    "version": 3
   },
   "file_extension": ".py",
   "mimetype": "text/x-python",
   "name": "python",
   "nbconvert_exporter": "python",
   "pygments_lexer": "ipython3",
   "version": "3.11.8"
  }
 },
 "nbformat": 4,
 "nbformat_minor": 5
}
