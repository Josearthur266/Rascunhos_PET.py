{
 "cells": [
  {
   "cell_type": "markdown",
   "id": "acae0e37-9520-4148-ba32-c7787288acff",
   "metadata": {},
   "source": [
    "# Espalhamento e Tunelamento Quântico"
   ]
  },
  {
   "cell_type": "markdown",
   "id": "ccc23830-4fe8-4e39-8cd4-7794fa884fd2",
   "metadata": {},
   "source": [
    "* Matéria: Física Quântica\n",
    "* Aluno: José Arthur de Luna Oliveira\n",
    "* Professor: Bruno Ricardo de Carvalho\n",
    "* Data:"
   ]
  },
  {
   "cell_type": "markdown",
   "id": "ced03155-e106-4885-bed0-8b7f772d5569",
   "metadata": {},
   "source": [
    "$\\quad$ Neste trabalho discutiremos sobre o espalhamento e tunelamento quântico."
   ]
  },
  {
   "cell_type": "markdown",
   "id": "dc564367-fc56-4cce-8eba-da88e4fd0d9d",
   "metadata": {},
   "source": [
    "Neste `Notebook` haverá as seguintes seções:\n",
    "\n",
    "* Introdução;\n",
    "* Desenvolvimento do Problema;\n",
    "* Conclusão."
   ]
  },
  {
   "cell_type": "markdown",
   "id": "b1bd0d75-19b3-4564-a6bd-b14dd4ad7434",
   "metadata": {},
   "source": [
    "## Importando Bibliotecas"
   ]
  },
  {
   "cell_type": "code",
   "execution_count": 1,
   "id": "37163b77-bccc-479a-bc61-91c726014bed",
   "metadata": {},
   "outputs": [],
   "source": [
    "import matplotlib.pyplot as plt\n",
    "import numpy as np\n",
    "from scipy.interpolate import interp1d\n",
    "\n",
    "def plot_ticks(x, y, step): #essa é uma função que mexe na aparência dos gráficos\n",
    "    fig, ax = plt.subplots(figsize = (5,3))\n",
    "    plt.minorticks_on()\n",
    "    plt.tick_params(axis='both', which='both', top = True, right = True, direction = 'in', length=4, width=1)\n",
    "    plt.xticks(np.arange(x[0], x[len(x)-1], step), minor = True)\n",
    "    plt.yticks(np.arange(y[0], y[len(y)-1], step), minor = True)"
   ]
  },
  {
   "cell_type": "markdown",
   "id": "7c63a317-d2c6-424e-b931-e79812aee3b4",
   "metadata": {},
   "source": [
    "## Detalhes da Biblioteca"
   ]
  },
  {
   "cell_type": "code",
   "execution_count": 2,
   "id": "95068537-294d-4b61-b481-7ea81c7ef9fc",
   "metadata": {},
   "outputs": [
    {
     "data": {
      "application/json": {
       "Software versions": [
        {
         "module": "Python",
         "version": "3.11.9 64bit [MSC v.1916 64 bit (AMD64)]"
        },
        {
         "module": "IPython",
         "version": "8.20.0"
        },
        {
         "module": "OS",
         "version": "Windows 10 10.0.22631 SP0"
        },
        {
         "module": "Matplotlib",
         "version": "3.8.4"
        },
        {
         "module": "Numpy",
         "version": "1.26.4"
        }
       ]
      },
      "text/html": [
       "<table><tr><th>Software</th><th>Version</th></tr><tr><td>Python</td><td>3.11.9 64bit [MSC v.1916 64 bit (AMD64)]</td></tr><tr><td>IPython</td><td>8.20.0</td></tr><tr><td>OS</td><td>Windows 10 10.0.22631 SP0</td></tr><tr><td>Matplotlib</td><td>3.8.4</td></tr><tr><td>Numpy</td><td>1.26.4</td></tr><tr><td colspan='2'>Wed May 22 11:00:42 2024 Hora Padrão de Buenos Aires</td></tr></table>"
      ],
      "text/latex": [
       "\\begin{tabular}{|l|l|}\\hline\n",
       "{\\bf Software} & {\\bf Version} \\\\ \\hline\\hline\n",
       "Python & 3.11.9 64bit [MSC v.1916 64 bit (AMD64)] \\\\ \\hline\n",
       "IPython & 8.20.0 \\\\ \\hline\n",
       "OS & Windows 10 10.0.22631 SP0 \\\\ \\hline\n",
       "Matplotlib & 3.8.4 \\\\ \\hline\n",
       "Numpy & 1.26.4 \\\\ \\hline\n",
       "\\hline \\multicolumn{2}{|l|}{Wed May 22 11:00:42 2024 Hora Padrão de Buenos Aires} \\\\ \\hline\n",
       "\\end{tabular}\n"
      ],
      "text/plain": [
       "Software versions\n",
       "Python 3.11.9 64bit [MSC v.1916 64 bit (AMD64)]\n",
       "IPython 8.20.0\n",
       "OS Windows 10 10.0.22631 SP0\n",
       "Matplotlib 3.8.4\n",
       "Numpy 1.26.4\n",
       "Wed May 22 11:00:42 2024 Hora Padrão de Buenos Aires"
      ]
     },
     "execution_count": 2,
     "metadata": {},
     "output_type": "execute_result"
    }
   ],
   "source": [
    "%load_ext version_information\n",
    "%version_information Matplotlib, Numpy"
   ]
  },
  {
   "cell_type": "markdown",
   "id": "95176043-ab32-4d30-aaf2-7fb0e0421333",
   "metadata": {},
   "source": [
    "## 1. Introdução"
   ]
  },
  {
   "cell_type": "markdown",
   "id": "376477a6-afc2-4122-9974-6e8ef2cd8c8b",
   "metadata": {},
   "source": [
    "$\\quad$ O espalhamento quântico é um fenômeno fundamental na Mecânica Quântica. Ele envolve o comportamento das partículas antes e após colidirem entre si. Durante o espalhamento, as propriedades das partículas, como sua posição, momento e energia, podem ser alteradas devido à interação. Entretanto, as leis da Mecânica Quântica determinam que essas mudanças não podem ser previstas de maneira determinística, apenas em termos de probabilidades. \n",
    "\n",
    "$\\quad$ O principal exemplo é o espalhamento de elétrons por núcleos atômicos. No qual, ocorre quando um elétron se aproxima de um núcleo atômico, ela pode ser desviada de sua trajetória original devido à interação eletromagnética entre as cargas elétricas do elétron e do núcleo. O resultado desse espalhamento pode variar de acordo com diversos fatores, incluindo a energia do elétron, a distância de aproximação e as propriedades específicas do núcleo. Em geral, o espalhamento quântico é o tipo de processos em que um estado inicial contínuo é transformado em um final contínuo através da ação de algum potencial **[2]**.\n",
    "\n",
    "$\\quad$ Para trabalharmos nesse problema, imaginemos uma partícula livre, viajando da direita para a esquerda, com energia $E$ em uma região I ($x \\leq 0$), em $x>0$ é a região II onde há ação de potencial $V = V_0$. Na Mecânica Clássica, as duas possibilidades de resultados, caso $E<V_0$ a partícula é refletida, ela não consegue ir para a região II, entretanto, se $E>V_0$ ela consegue passar para a outra região. Em contrapartida, na Mecânica Quântica, se $E<V_0$ existe probabilidade da partícula passar para a região II, esse fenômeno é chamado de Tunelamento."
   ]
  },
  {
   "cell_type": "markdown",
   "id": "bb95cec9-1ed3-4195-9846-898914fa3a84",
   "metadata": {},
   "source": [
    "### 1.1 Desenvolvimento do problema"
   ]
  },
  {
   "cell_type": "markdown",
   "id": "119096d1-0ed8-4aab-bdc9-199023a51f7a",
   "metadata": {},
   "source": [
    "$\\quad$ Dito isso, para conseguirmos desenvolver o problema trocaremos a partícula por um pacote de onda $\\psi_I(x)$, na qual quando atinge a barreira de potencial haverá uma onda refletida $\\psi_R(x)$ e outra transmitidas $\\psi_T(x)$. O problema em questão é encontrar a probabilidade de encontrar a partícula na região I ($R$) e a probabilidade de encontrar na região II ($T$), para encontrar esses dois valores basta determinar as seguintes integrais,"
   ]
  },
  {
   "cell_type": "markdown",
   "id": "71d3c4f4-58af-490c-9714-f82692c5d9e9",
   "metadata": {},
   "source": [
    "$$ R = \\int |\\psi_R|^2dx \\ , \\tag{1.1}$$"
   ]
  },
  {
   "cell_type": "markdown",
   "id": "6a63c52d-42df-41ab-9586-bedee880463c",
   "metadata": {},
   "source": [
    "$$T = \\int |\\psi_T|^2dx \\ ,\\tag{1.2}$$"
   ]
  },
  {
   "cell_type": "markdown",
   "id": "307b2bcd-b216-4d28-9f18-d7f6cd3ec4f1",
   "metadata": {},
   "source": [
    "devemos calcula-las considerando $t \\rightarrow \\infty$. \n",
    "\n",
    "$\\quad$ Em geral, $R$ e $T$ dependem diretamente do corpo da função de onda incidente. No entanto, mantendo o momento inicial bem definido, ou seja, $\\Delta p \\rightarrow 0$ e $\\Delta x \\rightarrow \\infty$. Assim, o resultado dependerá apenas do valor da energia inicial **[1]**."
   ]
  },
  {
   "cell_type": "markdown",
   "id": "438f42bc-beec-40e8-9c55-9651f6a94195",
   "metadata": {},
   "source": [
    "$\\quad$ Para este problema consideraremos um potencial degrau de forma que será definido da seguinte forma"
   ]
  },
  {
   "attachments": {
    "bd51a469-c691-422f-893e-7cc10f91d54b.png": {
     "image/png": "[encoded data removed]"
    }
   },
   "cell_type": "markdown",
   "id": "206a4628-11f4-4aa0-8ec8-cb3d20bccd4c",
   "metadata": {},
   "source": [
    "![potencial_degrau.png](attachment:bd51a469-c691-422f-893e-7cc10f91d54b.png)"
   ]
  },
  {
   "cell_type": "markdown",
   "id": "27313720-5a34-4cc4-b798-88eb8d7acd79",
   "metadata": {},
   "source": [
    "$$  {\\begin{cases}\n",
    "        V(x) = 0, \\ para \\ x<0\\\\\n",
    "        \\\\\n",
    "        V(x) = V_0, \\ para \\ 0<x<a \\\\\n",
    "        \\\\\n",
    "        V(x) = 0, \\ para \\ x>a \\\\\n",
    "        \\end{cases}\n",
    "        } \\ ,$$"
   ]
  },
  {
   "cell_type": "markdown",
   "id": "57308ccc-d2ab-4dbc-aa84-65d28db8a56b",
   "metadata": {},
   "source": [
    "de forma que em $x<0$ é a região I, em $0<x<a$ é a região II e em $x>a$ é a região III. Para resolver devemos começar com a equação de Schrödinger independente do tempo"
   ]
  },
  {
   "cell_type": "markdown",
   "id": "5d71fe53-30b1-4c55-b972-7dfc697935d9",
   "metadata": {},
   "source": [
    "$$ \\frac{d^2\\psi(x)}{dx^2} + \\frac{2m}{\\hbar^2}(E - V(x))\\psi(x) = 0 \\ . \\tag{1.3}$$"
   ]
  },
  {
   "cell_type": "markdown",
   "id": "3ae50a77-3b07-47ea-829b-acfdc5d6acd2",
   "metadata": {},
   "source": [
    "$\\quad$ A onda incidente se encontra na região I, onde $V(x) = 0$, assim a Equação **(1.3)** ficará da seguinte forma"
   ]
  },
  {
   "cell_type": "markdown",
   "id": "4f71d84c-6351-47f9-9d31-14df38cf811f",
   "metadata": {},
   "source": [
    "$$ \\frac{d^2\\psi(x)}{dx^2} + \\frac{2mE}{\\hbar^2}\\psi(x) = 0$$"
   ]
  },
  {
   "cell_type": "markdown",
   "id": "7c97d3f7-371d-4302-896a-d306facbc58d",
   "metadata": {},
   "source": [
    "$$ \\implies \\frac{d^2\\psi(x)}{dx^2} = - \\frac{2mE}{\\hbar^2}\\psi(x) \\ .$$"
   ]
  },
  {
   "cell_type": "markdown",
   "id": "4d39e383-7960-4d48-9f3d-db7952c91fe7",
   "metadata": {},
   "source": [
    "$\\quad$ A solução geral para esta EDO é $ \\psi(x) = Ae^{ik_1x}$, em que $k_1 = \\sqrt{\\frac{2mE}{\\hbar^2}}$. Com esse resultado podemos definir o a função de onda para o pacote de onda incidente e refletido. Dessa forma,"
   ]
  },
  {
   "cell_type": "markdown",
   "id": "6319cbdd-4e84-4b62-aa75-bc5dfccc0ba4",
   "metadata": {},
   "source": [
    "$$ \\psi_I(x) = Ae^{ik_1x} \\ , \\tag{1.4}$$"
   ]
  },
  {
   "cell_type": "markdown",
   "id": "1ec235b1-ebfa-4194-96a5-73b94710b9c1",
   "metadata": {},
   "source": [
    "$$ \\psi_R = Be^{-ik1x} \\ . \\tag{1.5}$$"
   ]
  },
  {
   "cell_type": "markdown",
   "id": "4860962f-8615-4875-83bb-33cd3e121a62",
   "metadata": {},
   "source": [
    "note que há um sinal de menos no expoente, porque a função de onda refletida será contrária à incidente.\n",
    "\n",
    "$\\quad$ Em seguida, na região II a Equação **(1.3)** ficará assim,"
   ]
  },
  {
   "cell_type": "markdown",
   "id": "953fc008-a45a-4877-842c-9c0d38ab9299",
   "metadata": {},
   "source": [
    "$$ \\frac{d^2\\psi(x)}{dx^2} + \\frac{2m}{\\hbar^2}(E - V_0)\\psi(x) = 0$$"
   ]
  },
  {
   "cell_type": "markdown",
   "id": "9bc811bd-d6d3-400c-b65f-7e640076f209",
   "metadata": {},
   "source": [
    "$$ \\implies \\frac{d^2\\psi(x)}{dx^2} = -\\frac{2m}{\\hbar^2}(E - V_0)\\psi(x) \\ ,$$"
   ]
  },
  {
   "cell_type": "markdown",
   "id": "bbd5a53f-d8fa-42ba-ae0e-28c576423137",
   "metadata": {},
   "source": [
    "a solução geral dessa EDO é $\\psi(x) = Ce^{k_2x} + De^{-k_2x}$, em que $k_2 = \\sqrt{\\frac{2m(E - V_0)}{\\hbar^2}}$. Logo"
   ]
  },
  {
   "cell_type": "markdown",
   "id": "b779ccc5-7f16-4a91-927b-46c3b61cfba6",
   "metadata": {},
   "source": [
    "$$ \\psi_{II} = Ce^{ik_2x} + De^{-ik_2x}$$"
   ]
  },
  {
   "cell_type": "markdown",
   "id": "04d7d1e8-580a-4e99-8b09-e21a7966afc4",
   "metadata": {},
   "source": [
    "$\\quad$ Como só estamos interessados na onda transmitida , a que se propaga para a direita, então podemos considerar o $D=0$ **[1]**. Assim,"
   ]
  },
  {
   "cell_type": "markdown",
   "id": "2ef3380f-ac8b-4cdf-8ba9-51d4473dcda5",
   "metadata": {},
   "source": [
    "$$ \\psi_{II} = Ce^{ik_2x}\\ . \\tag{1.6}$$"
   ]
  },
  {
   "cell_type": "markdown",
   "id": "b7b8c764-fc22-42a6-852d-78e720b26806",
   "metadata": {},
   "source": [
    "$\\quad$ Por fim, para a região III a Equação **(1.1)** ficará da mesma forma que para o que foi feito para região I, ou seja, possuem a mesma solução. Com isso, agora temos o pacote de onda após o tunelamento, a onda transmitida"
   ]
  },
  {
   "cell_type": "markdown",
   "id": "3069374c-3f02-4476-8f64-72e49e881a6a",
   "metadata": {},
   "source": [
    "$$ \\psi_T(x) = Fe^{ik_1x} \\ . \\tag{1.7}$$"
   ]
  },
  {
   "cell_type": "markdown",
   "id": "233f43b6-ce4c-4ea2-93a3-ac0d3e065c84",
   "metadata": {},
   "source": [
    "$\\quad$ Agora aplicaremos as condições de contorno, em que em $x=0$ as funções de onda da região I e II devem ser iguais e suas derivadas em torno desse ponto também, dessa forma"
   ]
  },
  {
   "cell_type": "markdown",
   "id": "48097aaa-b87b-4ada-ba81-319a69a1ad26",
   "metadata": {},
   "source": [
    "$$  {\\begin{cases}\n",
    "        A + B = C \\\\\n",
    "        \\\\\n",
    "        ik_1(A - B) = ik_2C \\\\\n",
    "        \\end{cases}\n",
    "        }$$"
   ]
  },
  {
   "cell_type": "markdown",
   "id": "897f64a0-51aa-4ec7-9e8d-2e72611feecc",
   "metadata": {},
   "source": [
    "$$ \\implies 2A = C + \\frac{k_2}{k_1}C$$"
   ]
  },
  {
   "cell_type": "markdown",
   "id": "92f2dcde-d409-4c8c-b1d6-80c2bd957143",
   "metadata": {},
   "source": [
    "$$\\implies C= A\\frac{2k_1}{k_1+k_2} \\ . \\tag{1.8}$$"
   ]
  },
  {
   "cell_type": "markdown",
   "id": "ef5eab48-0c4f-4dd5-b791-4b6cce57b208",
   "metadata": {},
   "source": [
    "$\\quad$ Substituindo $k_1 = \\sqrt{\\frac{2mE}{\\hbar^2}}$ e $k_2 = \\sqrt{\\frac{2m(E - V_0)}{\\hbar^2}}$ na Equação **(1.8)** assim, logo"
   ]
  },
  {
   "cell_type": "markdown",
   "id": "2f4b4869-d542-47aa-bb64-184f7622defa",
   "metadata": {},
   "source": [
    "$$\\therefore C= A\\frac{2\\sqrt{E}}{\\sqrt{E}+\\sqrt{E - V_0}} \\ . \\tag{1.9}$$"
   ]
  },
  {
   "cell_type": "markdown",
   "id": "3abfab9d-e322-4c82-beaa-f263d2e07d7c",
   "metadata": {},
   "source": [
    "$\\quad$ Outras condições de contorno são as mesma, mas em torno do ponto $x=a$. Em outras palavras, as funções de onda da região II e III devem ser iguais e suas derivadas em torno desse ponto também, logo"
   ]
  },
  {
   "cell_type": "markdown",
   "id": "7c5b96c2-729b-45c7-97ea-02b3c9379230",
   "metadata": {},
   "source": [
    "$$  {\\begin{cases}\n",
    "        Ce^{ik_2a} = Fe^{ik_1a}\\\\\n",
    "        \\\\\n",
    "        ik_2Ce^{ik_2a} = ik_1 Fe^{ik_1a} \\implies Ce^{ik_2a} = \\frac{k_1}{k_2} Fe^{ik_1a}\\\\\n",
    "        \\end{cases}\n",
    "        } \\ .$$"
   ]
  },
  {
   "cell_type": "markdown",
   "id": "cb30f70b-59af-46b5-8ea2-bce4ca321dff",
   "metadata": {},
   "source": [
    "$$\\implies  2Ce^{ik_2a} = Fe^{ik_1a} + \\frac{k_1}{k_2} Fe^{ik_1a} \\implies  2Ce^{ik_2a} = Fe^{ik_1a}( 1 + \\frac{k_1}{k_2})$$"
   ]
  },
  {
   "cell_type": "markdown",
   "id": "0728b09c-0c76-40e7-aa2c-b8b06d19f83e",
   "metadata": {},
   "source": [
    "$$ \\implies  Fe^{ik_1a}\\frac{k_2 + k_1}{k_2} = 2Ce^{ik_2a}$$"
   ]
  },
  {
   "cell_type": "markdown",
   "id": "062127a8-a678-49c3-8e44-fd69d82e1277",
   "metadata": {},
   "source": [
    "$$\\implies  F = 2Ce^{i(k_2 - k_1)a} \\frac{k_2}{k_1 + k_2} \\ ,$$"
   ]
  },
  {
   "cell_type": "markdown",
   "id": "71896fd2-c0b0-4762-b6aa-67b1c96bdc88",
   "metadata": {},
   "source": [
    "substituindo a Equação **(1.8)** no resultado acima teremos"
   ]
  },
  {
   "cell_type": "markdown",
   "id": "3cde493e-5e5d-4515-95fe-afa564c374dc",
   "metadata": {},
   "source": [
    "$$ F = 2A\\frac{2k_1}{k_1+k_2}e^{i(k_2 - k_1)a} \\frac{k_2}{k_1 + k_2}$$"
   ]
  },
  {
   "cell_type": "markdown",
   "id": "af931a8a-5afa-4187-81fd-0a7522f3f7c9",
   "metadata": {},
   "source": [
    "$$ \\implies F = Ae^{i(k_2 - k_1)a} \\frac{4k_1k_2}{(k_1 + k_2)^2}$$"
   ]
  },
  {
   "cell_type": "markdown",
   "id": "c8a6e985-4ca4-4a41-abc6-c41154ed8865",
   "metadata": {},
   "source": [
    "$$\\therefore \\boxed{F = Ae^{i(\\sqrt{E-V_0} - \\sqrt{E})a} \\frac{4\\sqrt{E}\\sqrt{E-V_0}}{(\\sqrt{E} + \\sqrt{E - V_0})^2}} \\ . \\tag{1.10}$$"
   ]
  },
  {
   "cell_type": "markdown",
   "id": "67b8f832-1fbe-4947-96f5-d734bd52b18d",
   "metadata": {},
   "source": [
    "## 2. Resolvendo Computacionalmente"
   ]
  },
  {
   "cell_type": "markdown",
   "id": "38741bbe-4739-4bce-95d8-afd4743a39bf",
   "metadata": {},
   "source": [
    "$\\quad$ Para solucionar computacionalmente, determinaremos as soluções da Equação **(1.1)** numericamente em cada região e para garantir que sejam são as soluções de onda que queremos. Para solucionar as EDOs, utilizaremos o método numérico de Numerov. Além disso, para facilitar nossos cálculos imaginemos que a partícula que está de movendo em direção ao potencial degrau tem massa igual 1 e a constante de planck igual a 1, ou seja, $m = 1 \\ kg$ e $\\hbar = 1 \\ J.s$."
   ]
  },
  {
   "cell_type": "code",
   "execution_count": 27,
   "id": "ec3e10a3-392f-487d-aeaa-d67745d34e49",
   "metadata": {},
   "outputs": [],
   "source": [
    "def k(E, x):\n",
    "    h = 1\n",
    "    m = 1\n",
    "    V = 0\n",
    "    if x>0 and x<1:\n",
    "        V = 100\n",
    "    return 2*m*(E - V)/(h**2)\n",
    "\n",
    "def eq_rec(E, delta, x, psi, i):\n",
    "    temp1 = 2*(1-(5*(delta**2)/12)*k(E, x[i-1]))*psi[i-1]\n",
    "    temp2 = (1+ (delta**2/12)*k(E, x[i-2]))*psi[i-2]\n",
    "    temp3 = 1 + (delta**2/12)*k(E, x[i-1]+delta)\n",
    "    return (temp1 - temp2)/temp3"
   ]
  },
  {
   "cell_type": "code",
   "execution_count": 4,
   "id": "356565df-8442-46ac-9428-afbc4c00e5a0",
   "metadata": {},
   "outputs": [],
   "source": [
    "def df_f(psi, x):\n",
    "    delta = abs(x[0]-x[1])\n",
    "    d_psi = abs(psi[len(psi) - 1] - psi[len(psi)-2])/delta\n",
    "    return d_psi\n",
    "def df_i(psi,x):\n",
    "    delta = abs(x[0]-x[1])\n",
    "    d_psi = abs(psi[1] - psi[0])/delta\n",
    "    return d_psi"
   ]
  },
  {
   "cell_type": "code",
   "execution_count": 5,
   "id": "5a839731-9239-4ffe-ba76-3181b67260d1",
   "metadata": {},
   "outputs": [],
   "source": [
    "def psi_norm(psi, a, b):\n",
    "    N = len(psi)\n",
    "    h = abs(b-a)/N\n",
    "    x = np.linspace(a, b, N)\n",
    "    s_p, s_i = 0, 0\n",
    "    s_0 = abs(psi[0])**2 + abs(psi[N-1])**2\n",
    "    for i in range(1, N-1):\n",
    "        if i%2 == 0:\n",
    "            s_p += abs(psi[i])**2\n",
    "        else:\n",
    "            s_i += abs(psi[i])**2\n",
    "    S_f = h*(s_0 + 2*s_p + 4*s_i)/3\n",
    "\n",
    "    A = np.sqrt(1/S_f)\n",
    "    psi_n = A*psi\n",
    "    return psi_n, A"
   ]
  },
  {
   "cell_type": "code",
   "execution_count": 6,
   "id": "659d3d9f-f24d-4f17-8ccb-9db6fc3a05bb",
   "metadata": {},
   "outputs": [],
   "source": [
    "def fpsi_i(E, a, b):\n",
    "    x = np.linspace(a, b, 1000)\n",
    "    delta = abs(x[1] - x[0])\n",
    "    \n",
    "    psi_i = np.zeros(len(x))\n",
    "    psi_i[0] = 0\n",
    "    psi_i[1] = delta\n",
    "    \n",
    "    for i in range(2, len(x)):\n",
    "        psi_i[i] = eq_rec(E, delta, x, psi_i, i)\n",
    "    return psi_i, x\n",
    "\n",
    "def fpsi_II(E, a, b, psi_i):\n",
    "    x = np.linspace(a, b, 1000)\n",
    "    delta = abs(x[1] - x[0])\n",
    "    \n",
    "    psi_II = np.zeros(len(x))\n",
    "    if E < 10:\n",
    "        psi_II[0] = 0\n",
    "        psi_II[1] = -delta\n",
    "    else:\n",
    "        psi_II[0] = 0\n",
    "        psi_II[1] = delta\n",
    "    for i in range(2, len(x)):\n",
    "        psi_II[i] = eq_rec(E, delta, x, psi_II, i)\n",
    "    psi_II = psi_II + psi_i[len(psi_i)-1]\n",
    "    return psi_II, x\n",
    "\n",
    "def fpsi_T(E, a, b, psi_II):\n",
    "    x = np.linspace(a, b, 1000)\n",
    "    delta = abs(x[1] - x[0])\n",
    "    psi_T = np.zeros(len(x))\n",
    "    if psi_II[len(psi_II)-1] > psi_II[len(psi_II)-2]:\n",
    "        psi_T[0] = 0\n",
    "        psi_T[1] = delta \n",
    "    else:\n",
    "        psi_T[0] = 0\n",
    "        psi_T[1] = -delta \n",
    "    for i in range(2, len(x)):\n",
    "        psi_T[i] = eq_rec(E, delta, x, psi_T, i)\n",
    "    psi_T = psi_T + psi_II[len(psi_II)-1]\n",
    "    return psi_T, x"
   ]
  },
  {
   "cell_type": "code",
   "execution_count": 7,
   "id": "b6b956dc-ce09-42d5-8d97-738f14fb9ec6",
   "metadata": {},
   "outputs": [],
   "source": [
    "def fint(psi, x_l, a, b):\n",
    "    N = len(psi)\n",
    "    h = abs(b-a)/N\n",
    "    x = np.linspace(a, b, N)\n",
    "    s_p, s_i = 0, 0\n",
    "    s_0 = abs(psi[N-1])**2 + abs(psi[0])**2\n",
    "\n",
    "    for i in range(1, N-1):\n",
    "        if i%2 == 0:\n",
    "            s_p += abs(psi[i])**2\n",
    "        else:\n",
    "            s_i += abs(psi[i])**2\n",
    "    S_f = h*(s_0 + 2*s_p + 4*s_i)/3\n",
    "    return S_f"
   ]
  },
  {
   "cell_type": "code",
   "execution_count": 174,
   "id": "e07ba9dd-d252-459e-87c5-46b4e4ccc6bb",
   "metadata": {},
   "outputs": [],
   "source": [
    "a = 0.5\n",
    "V = 100"
   ]
  },
  {
   "cell_type": "code",
   "execution_count": 175,
   "id": "dd370bf3-6e1d-45b2-a731-84f7e3d33150",
   "metadata": {},
   "outputs": [],
   "source": [
    "T = []\n",
    "R = []\n",
    "temp = np.linspace(0, 200, 1000)\n",
    "for i in range(len(temp)):\n",
    "    E = temp[i]\n",
    "    psi_i, x_i = fpsi_i(E, -1, 0)\n",
    "    psi_i, A = psi_norm(psi_i, -1, 0)\n",
    "    if E<V:\n",
    "        temp1 = A*np.exp(complex(0, 1)*(np.sqrt(V - E)*complex(0,1) - np.sqrt(E))*a)\n",
    "        temp2 = 4*np.sqrt(E)*np.sqrt(V - E)*complex(0,1)/((np.sqrt(V - E)*complex(0,1) + np.sqrt(E))**2)\n",
    "        F = temp1*temp2\n",
    "    else:\n",
    "        temp1 = A*np.exp(complex(0, 1)*(np.sqrt(E - V) - np.sqrt(E))*a)\n",
    "        temp2 = 4*np.sqrt(E)*np.sqrt(E - V)/((np.sqrt(E - V) + np.sqrt(E))**2)\n",
    "        F = temp1*temp2\n",
    "    T.append(abs(F)**2/abs(A)**2)\n",
    "    R.append(1-abs(F)**2/abs(A)**2)"
   ]
  },
  {
   "cell_type": "code",
   "execution_count": 176,
   "id": "b807f9cf-7daa-4dd1-869d-2b57ae03fe7b",
   "metadata": {},
   "outputs": [
    {
     "data": {
      "text/plain": [
       "[<matplotlib.lines.Line2D at 0x256f8f34590>]"
      ]
     },
     "execution_count": 176,
     "metadata": {},
     "output_type": "execute_result"
    },
    {
     "data": {
      "image/png": "[encoded data removed]",
      "text/plain": [
       "<Figure size 500x300 with 1 Axes>"
      ]
     },
     "metadata": {},
     "output_type": "display_data"
    }
   ],
   "source": [
    "plt.figure(figsize=(5,3))\n",
    "plt.plot(temp,T)\n",
    "#plt.plot(temp,R)"
   ]
  },
  {
   "cell_type": "markdown",
   "id": "c4d10e1d-c6fd-4637-af6f-a19825687063",
   "metadata": {},
   "source": [
    "## Acoplando a variação no tempo"
   ]
  },
  {
   "cell_type": "markdown",
   "id": "f2d1009b-158d-4dc0-8f74-342a7d162c84",
   "metadata": {},
   "source": [
    "$$ \\phi(t) = e^{-iEt/\\hbar}$$"
   ]
  },
  {
   "cell_type": "code",
   "execution_count": 149,
   "id": "f441910b-fc55-4113-b923-1e01270208fc",
   "metadata": {},
   "outputs": [],
   "source": [
    "T = []\n",
    "R = []\n",
    "\n",
    "E = 230\n",
    "t = np.linspace(0, 1, 100)\n",
    "for i in range(len(t)):\n",
    "    psi_i, x_i = fpsi_i(E, -1, 0)\n",
    "    psi_i, A = psi_norm(psi_i, -1, 0)\n",
    "    psi_i = psi_i*np.exp(-complex(0, 1)*E*t[i])\n",
    "    if E<V:\n",
    "        temp1 = A*np.exp(complex(0, 1)*(np.sqrt(V - E)*complex(0,1) - np.sqrt(E))*a)\n",
    "        temp2 = 4*np.sqrt(E)*np.sqrt(V - E)*complex(0,1)/((np.sqrt(V - E)*complex(0,1) + np.sqrt(E))**2)\n",
    "        F = temp1*temp2\n",
    "    else:\n",
    "        temp1 = A*np.exp(complex(0, 1)*(np.sqrt(E - V) - np.sqrt(E))*a)\n",
    "        temp2 = 4*np.sqrt(E)*np.sqrt(E - V)/((np.sqrt(E - V) + np.sqrt(E))**2)\n",
    "        F = temp1*temp2\n",
    "    x_T = np.linspace(a, 2, 1000)\n",
    "    psi_T = F*np.exp(-complex(0, 1)*E*t[i])*np.exp(complex(0, 1)*np.sqrt(2*E)*x_T)\n",
    "    \n",
    "    T.append(fint(psi_T, x_T, a, 2))\n",
    "    R.append(1-fint(psi_T, x_T, a, 2))\n",
    "    "
   ]
  },
  {
   "cell_type": "code",
   "execution_count": 150,
   "id": "3f1e300d-1f3d-433d-a882-c936bf4a1b64",
   "metadata": {},
   "outputs": [
    {
     "data": {
      "text/plain": [
       "[<matplotlib.lines.Line2D at 0x256f8ba26d0>]"
      ]
     },
     "execution_count": 150,
     "metadata": {},
     "output_type": "execute_result"
    },
    {
     "data": {
      "image/png": "[encoded data removed]",
      "text/plain": [
       "<Figure size 500x300 with 1 Axes>"
      ]
     },
     "metadata": {},
     "output_type": "display_data"
    }
   ],
   "source": [
    "plt.figure(figsize=(5,3))\n",
    "plt.plot(t,T, \"r\")"
   ]
  },
  {
   "cell_type": "markdown",
   "id": "a7f14c48-d3a6-4c3f-8e2b-0b22a7dae6e7",
   "metadata": {},
   "source": [
    "---"
   ]
  },
  {
   "cell_type": "markdown",
   "id": "53d50a9b-a68b-44b5-811a-ed44ba7beb71",
   "metadata": {},
   "source": [
    "## Referências"
   ]
  },
  {
   "cell_type": "markdown",
   "id": "9851f0d9-55d6-4b45-96ef-93adb3450ae7",
   "metadata": {},
   "source": [
    "**[1]** SHANKAR, R. Principles of Quantum Mechanics. [s.l.]: Springer Science, 1994.\n",
    "\n",
    "**[2]** SAKURAI, J. J.; NAPOLITANO, J. MECâNICA QUÂNTICA MODERNA. [s.l.]: Pearson Education, 2013.\n",
    "\n",
    "**[3]** RIBEIRO, M. A. C. et al. Os problemas de espalhamento quântico em potenciais elementares. Revista Brasileira de Ensino de Física, [s.l.], no 1, 2004. DOI: https://doi.org/10.1590/s1806-11172004000100001.\n",
    "\n",
    "**[4]** SAFNE DE SOUZA SILVA, P.; PEREIRA DA SILVA, L. F. Uma Abordagem Didática Do Tunelamento quântico: a Partir Do Estudo Da Barreira Potencial Retangular Simples. Revista Física No Campus, [s.l.], no 2, 2023."
   ]
  }
 ],
 "metadata": {
  "kernelspec": {
   "display_name": "Python 3 (ipykernel)",
   "language": "python",
   "name": "python3"
  },
  "language_info": {
   "codemirror_mode": {
    "name": "ipython",
    "version": 3
   },
   "file_extension": ".py",
   "mimetype": "text/x-python",
   "name": "python",
   "nbconvert_exporter": "python",
   "pygments_lexer": "ipython3",
   "version": "3.11.9"
  }
 },
 "nbformat": 4,
 "nbformat_minor": 5
}
