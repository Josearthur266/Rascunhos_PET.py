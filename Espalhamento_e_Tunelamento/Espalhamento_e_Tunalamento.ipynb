{
 "cells": [
  {
   "cell_type": "markdown",
   "id": "acae0e37-9520-4148-ba32-c7787288acff",
   "metadata": {},
   "source": [
    "# Espalhamento e Tunelamento Quântico"
   ]
  },
  {
   "cell_type": "markdown",
   "id": "ccc23830-4fe8-4e39-8cd4-7794fa884fd2",
   "metadata": {},
   "source": [
    "* Matéria: Física Quântica\n",
    "* Aluno: José Arthur de Luna Oliveira\n",
    "* Professor: Bruno Ricardo de Carvalho\n",
    "* Data:"
   ]
  },
  {
   "cell_type": "markdown",
   "id": "ced03155-e106-4885-bed0-8b7f772d5569",
   "metadata": {},
   "source": [
    "$\\quad$ Neste trabalho discutiremos sobre o espalhamento e tunelamento quântico."
   ]
  },
  {
   "cell_type": "markdown",
   "id": "dc564367-fc56-4cce-8eba-da88e4fd0d9d",
   "metadata": {},
   "source": [
    "Neste `Notebook` haverá as seguintes seções:\n",
    "\n",
    "* Introdução;\n",
    "* Desenvolvimento do Problema;\n",
    "* Conclusão."
   ]
  },
  {
   "cell_type": "markdown",
   "id": "b1bd0d75-19b3-4564-a6bd-b14dd4ad7434",
   "metadata": {},
   "source": [
    "## Importando Bibliotecas"
   ]
  },
  {
   "cell_type": "code",
   "execution_count": 1,
   "id": "37163b77-bccc-479a-bc61-91c726014bed",
   "metadata": {},
   "outputs": [],
   "source": [
    "import matplotlib.pyplot as plt\n",
    "import numpy as np\n",
    "\n",
    "def plot_ticks(): #essa é uma função que mexe na aparência dos gráficos\n",
    "    plt.figure(figsize = (8,5))\n",
    "    plt.minorticks_on()\n",
    "    plt.tick_params(axis='x', which='both', top = True, right = True, direction = 'in', length=5, width=1)\n",
    "    plt.tick_params(axis='y', which='both', top = True, right = True, direction = 'in', length=5, width=1)"
   ]
  },
  {
   "cell_type": "markdown",
   "id": "7c63a317-d2c6-424e-b931-e79812aee3b4",
   "metadata": {},
   "source": [
    "## Detalhes da Biblioteca"
   ]
  },
  {
   "cell_type": "code",
   "execution_count": 2,
   "id": "95068537-294d-4b61-b481-7ea81c7ef9fc",
   "metadata": {},
   "outputs": [
    {
     "data": {
      "application/json": {
       "Software versions": [
        {
         "module": "Python",
         "version": "3.11.9 64bit [MSC v.1916 64 bit (AMD64)]"
        },
        {
         "module": "IPython",
         "version": "8.20.0"
        },
        {
         "module": "OS",
         "version": "Windows 10 10.0.22631 SP0"
        },
        {
         "module": "Matplotlib",
         "version": "3.8.4"
        },
        {
         "module": "Numpy",
         "version": "1.26.4"
        }
       ]
      },
      "text/html": [
       "<table><tr><th>Software</th><th>Version</th></tr><tr><td>Python</td><td>3.11.9 64bit [MSC v.1916 64 bit (AMD64)]</td></tr><tr><td>IPython</td><td>8.20.0</td></tr><tr><td>OS</td><td>Windows 10 10.0.22631 SP0</td></tr><tr><td>Matplotlib</td><td>3.8.4</td></tr><tr><td>Numpy</td><td>1.26.4</td></tr><tr><td colspan='2'>Wed May 08 16:29:22 2024 Hora Padrão de Buenos Aires</td></tr></table>"
      ],
      "text/latex": [
       "\\begin{tabular}{|l|l|}\\hline\n",
       "{\\bf Software} & {\\bf Version} \\\\ \\hline\\hline\n",
       "Python & 3.11.9 64bit [MSC v.1916 64 bit (AMD64)] \\\\ \\hline\n",
       "IPython & 8.20.0 \\\\ \\hline\n",
       "OS & Windows 10 10.0.22631 SP0 \\\\ \\hline\n",
       "Matplotlib & 3.8.4 \\\\ \\hline\n",
       "Numpy & 1.26.4 \\\\ \\hline\n",
       "\\hline \\multicolumn{2}{|l|}{Wed May 08 16:29:22 2024 Hora Padrão de Buenos Aires} \\\\ \\hline\n",
       "\\end{tabular}\n"
      ],
      "text/plain": [
       "Software versions\n",
       "Python 3.11.9 64bit [MSC v.1916 64 bit (AMD64)]\n",
       "IPython 8.20.0\n",
       "OS Windows 10 10.0.22631 SP0\n",
       "Matplotlib 3.8.4\n",
       "Numpy 1.26.4\n",
       "Wed May 08 16:29:22 2024 Hora Padrão de Buenos Aires"
      ]
     },
     "execution_count": 2,
     "metadata": {},
     "output_type": "execute_result"
    }
   ],
   "source": [
    "%load_ext version_information\n",
    "%version_information Matplotlib, Numpy"
   ]
  },
  {
   "cell_type": "markdown",
   "id": "95176043-ab32-4d30-aaf2-7fb0e0421333",
   "metadata": {},
   "source": [
    "## 1. Introdução"
   ]
  },
  {
   "cell_type": "markdown",
   "id": "376477a6-afc2-4122-9974-6e8ef2cd8c8b",
   "metadata": {},
   "source": [
    "$\\quad$ O espalhamento quântico é um fenômeno fundamental na Mecânica Quântica. Ele envolve o comportamento das partículas antes e após colidirem entre si. Durante o espalhamento, as propriedades das partículas, como sua posição, momento e energia, podem ser alteradas devido à interação. Entretanto, as leis da Mecânica Quântica determinam que essas mudanças não podem ser previstas de maneira determinística, apenas em termos de probabilidades. \n",
    "\n",
    "$\\quad$ O principal exemplo é o espalhamento de elétrons por núcleos atômicos. No qual, ocorre quando um elétron se aproxima de um núcleo atômico, ela pode ser desviada de sua trajetória original devido à interação eletromagnética entre as cargas elétricas do elétron e do núcleo. O resultado desse espalhamento pode variar de acordo com diversos fatores, incluindo a energia do elétron, a distância de aproximação e as propriedades específicas do núcleo. Em geral, o espalhamento quântico é o tipo de processos em que um estado inicial contínuo é transformado em um final contínuo através da ação de algum potencial **[2]**.\n",
    "\n",
    "$\\quad$ Para trabalharmos nesse problema, imaginemos uma partícula livre, viajando da direita para a esquerda, com energia $E$ em uma região I ($x \\leq 0$), em $x>0$ é a região II onde há ação de potencial $V = V_0$. Na Mecânica Clássica, as duas possibilidades de resultados, caso $E<V_0$ a partícula é refletida, ela não consegue ir para a região II, entretanto, se $E>V_0$ ela consegue passar para a outra região. Em contrapartida, na Mecânica Quântica, se $E<V_0$ existe probabilidade da partícula passar para a região II, esse fenômeno é chamado de Tunelamento."
   ]
  },
  {
   "cell_type": "markdown",
   "id": "bb95cec9-1ed3-4195-9846-898914fa3a84",
   "metadata": {},
   "source": [
    "### 1.1 Desenvolvimento do problema"
   ]
  },
  {
   "cell_type": "markdown",
   "id": "119096d1-0ed8-4aab-bdc9-199023a51f7a",
   "metadata": {},
   "source": [
    "$\\quad$ Dito isso, para conseguirmos desenvolver o problema trocaremos a partícula por um pacote de onda $\\psi_I(x)$, na qual quando atinge a barreira de potencial haverá uma onda refletida $\\psi_R(x)$ e outra transmitidas $\\psi_T(x)$. O problema em questão é encontrar a probabilidade de encontrar a partícula na região I ($R$) e a probabilidade de encontrar na região II ($T$), para encontrar esses dois valores basta determinar as seguintes integrais,"
   ]
  },
  {
   "cell_type": "markdown",
   "id": "71d3c4f4-58af-490c-9714-f82692c5d9e9",
   "metadata": {},
   "source": [
    "$$ R = \\int |\\psi_R|^2dx \\ , \\tag{1.1}$$"
   ]
  },
  {
   "cell_type": "markdown",
   "id": "6a63c52d-42df-41ab-9586-bedee880463c",
   "metadata": {},
   "source": [
    "$$T = \\int |\\psi_T|^2dx \\ ,\\tag{1.2}$$"
   ]
  },
  {
   "cell_type": "markdown",
   "id": "307b2bcd-b216-4d28-9f18-d7f6cd3ec4f1",
   "metadata": {},
   "source": [
    "devemos calcula-las considerando $t \\rightarrow \\infty$. \n",
    "\n",
    "$\\quad$ Em geral, $R$ e $T$ dependem diretamente do corpo da função de onda incidente. No entanto, mantendo o momento inicial bem definido, ou seja, $\\Delta p \\rightarrow 0$ e $\\Delta x \\rightarrow \\infty$. Assim, o resultado dependerá apenas do valor da energia inicial **[1]**."
   ]
  },
  {
   "cell_type": "markdown",
   "id": "438f42bc-beec-40e8-9c55-9651f6a94195",
   "metadata": {},
   "source": [
    "$\\quad$ Para este problema consideraremos um potencial degrau de forma que será definido da seguinte forma"
   ]
  },
  {
   "attachments": {
    "bd51a469-c691-422f-893e-7cc10f91d54b.png": {
     "image/png": "[encoded data removed]"
    }
   },
   "cell_type": "markdown",
   "id": "206a4628-11f4-4aa0-8ec8-cb3d20bccd4c",
   "metadata": {},
   "source": [
    "![potencial_degrau.png](attachment:bd51a469-c691-422f-893e-7cc10f91d54b.png)"
   ]
  },
  {
   "cell_type": "markdown",
   "id": "27313720-5a34-4cc4-b798-88eb8d7acd79",
   "metadata": {},
   "source": [
    "$$  {\\begin{cases}\n",
    "        V(x) = 0, \\ para \\ x<0\\\\\n",
    "        \\\\\n",
    "        V(x) = V_0, \\ para \\ 0<x<a \\\\\n",
    "        \\\\\n",
    "        V(x) = 0, \\ para \\ x>a \\\\\n",
    "        \\end{cases}\n",
    "        } \\ ,$$"
   ]
  },
  {
   "cell_type": "markdown",
   "id": "57308ccc-d2ab-4dbc-aa84-65d28db8a56b",
   "metadata": {},
   "source": [
    "de forma que em $x<0$ é a região I, em $0<x<a$ é a região II e em $x>a$ é a região III. Para resolver devemos começar com a equação de Schrödinger independente do tempo"
   ]
  },
  {
   "cell_type": "markdown",
   "id": "5d71fe53-30b1-4c55-b972-7dfc697935d9",
   "metadata": {},
   "source": [
    "$$ \\frac{d^2\\psi(x)}{dx^2} + \\frac{2m}{\\hbar^2}(E - V(x))\\psi(x) = 0 \\ . \\tag{1.3}$$"
   ]
  },
  {
   "cell_type": "markdown",
   "id": "3ae50a77-3b07-47ea-829b-acfdc5d6acd2",
   "metadata": {},
   "source": [
    "$\\quad$ A onda incidente se encontra na região I, onde $V(x) = 0$, assim a Equação **(1.3)** ficará da seguinte forma"
   ]
  },
  {
   "cell_type": "markdown",
   "id": "4f71d84c-6351-47f9-9d31-14df38cf811f",
   "metadata": {},
   "source": [
    "$$ \\frac{d^2\\psi(x)}{dx^2} + \\frac{2mE}{\\hbar^2}\\psi(x) = 0$$"
   ]
  },
  {
   "cell_type": "markdown",
   "id": "7c97d3f7-371d-4302-896a-d306facbc58d",
   "metadata": {},
   "source": [
    "$$ \\implies \\frac{d^2\\psi(x)}{dx^2} = - \\frac{2mE}{\\hbar^2}\\psi(x) \\ .$$"
   ]
  },
  {
   "cell_type": "markdown",
   "id": "4d39e383-7960-4d48-9f3d-db7952c91fe7",
   "metadata": {},
   "source": [
    "$\\quad$ A solução geral para esta EDO é $ \\psi(x) = Ae^{ik_1x}$, em que $k_1 = \\sqrt{\\frac{2mE}{\\hbar^2}}$. Com esse resultado podemos definir o a função de onda para o pacote de onda incidente e refletido. Dessa forma,"
   ]
  },
  {
   "cell_type": "markdown",
   "id": "6319cbdd-4e84-4b62-aa75-bc5dfccc0ba4",
   "metadata": {},
   "source": [
    "$$ \\psi_I(x) = Ae^{ik_1x} \\ , \\tag{1.4}$$"
   ]
  },
  {
   "cell_type": "markdown",
   "id": "1ec235b1-ebfa-4194-96a5-73b94710b9c1",
   "metadata": {},
   "source": [
    "$$ \\psi_R = Be^{-ik1x} \\ . \\tag{1.5}$$"
   ]
  },
  {
   "cell_type": "markdown",
   "id": "4860962f-8615-4875-83bb-33cd3e121a62",
   "metadata": {},
   "source": [
    "note que há um sinal de menos no expoente, porque a função de onda refletida será contrária à incidente.\n",
    "\n",
    "$\\quad$ Em seguida, na região II a Equação **(1.3)** ficará assim,"
   ]
  },
  {
   "cell_type": "markdown",
   "id": "953fc008-a45a-4877-842c-9c0d38ab9299",
   "metadata": {},
   "source": [
    "$$ \\frac{d^2\\psi(x)}{dx^2} + \\frac{2m}{\\hbar^2}(E - V_0)\\psi(x) = 0$$"
   ]
  },
  {
   "cell_type": "markdown",
   "id": "9bc811bd-d6d3-400c-b65f-7e640076f209",
   "metadata": {},
   "source": [
    "$$ \\implies \\frac{d^2\\psi(x)}{dx^2} = \\frac{2m}{\\hbar^2}(V_0 - E)\\psi(x) \\ ,$$"
   ]
  },
  {
   "cell_type": "markdown",
   "id": "bbd5a53f-d8fa-42ba-ae0e-28c576423137",
   "metadata": {},
   "source": [
    "a solução geral dessa EDO é $\\psi(x) = Ce^{k_2x} + De^{-k_2x}$, em que $k_2 = \\sqrt{\\frac{2m(V_0 - E)}{\\hbar^2}}$. Logo"
   ]
  },
  {
   "cell_type": "markdown",
   "id": "b779ccc5-7f16-4a91-927b-46c3b61cfba6",
   "metadata": {},
   "source": [
    "$$ \\psi_{II} = Ce^{k_2x} + De^{-k_2x} \\ . \\tag{1.6}$$"
   ]
  },
  {
   "cell_type": "markdown",
   "id": "04d7d1e8-580a-4e99-8b09-e21a7966afc4",
   "metadata": {},
   "source": [
    "$\\quad$ Por fim, para a região III a Equação **(1.1)** ficará da mesma forma que para o que foi feito para região I, ou seja, possuem a mesma solução. Com isso, agora temos o pacote de onda após o tunelamento, a onda transmitida"
   ]
  },
  {
   "cell_type": "markdown",
   "id": "3069374c-3f02-4476-8f64-72e49e881a6a",
   "metadata": {},
   "source": [
    "$$ \\psi_T(x) = Fe^{ik_1x} \\ . \\tag{1.7}$$"
   ]
  },
  {
   "cell_type": "markdown",
   "id": "233f43b6-ce4c-4ea2-93a3-ac0d3e065c84",
   "metadata": {},
   "source": [
    "$\\quad$ Agora aplicaremos as condições de contorno, em que em $x=0$ as funções de onda da região I e II devem ser iguais e suas derivadas em torno desse ponto também, dessa forma"
   ]
  },
  {
   "cell_type": "markdown",
   "id": "48097aaa-b87b-4ada-ba81-319a69a1ad26",
   "metadata": {},
   "source": [
    "$$  {\\begin{cases}\n",
    "        A + B = C + D\\\\\n",
    "        \\\\\n",
    "        ik_1(A - B) = k_2(C - D)\\\\\n",
    "        \\end{cases}\n",
    "        } \\ .$$"
   ]
  },
  {
   "cell_type": "markdown",
   "id": "897f64a0-51aa-4ec7-9e8d-2e72611feecc",
   "metadata": {},
   "source": [
    "$$ \\implies 2A = C + D + \\frac{k_2}{ik_1}(C - D)$$"
   ]
  },
  {
   "cell_type": "markdown",
   "id": "92f2dcde-d409-4c8c-b1d6-80c2bd957143",
   "metadata": {},
   "source": [
    "$$\\therefore C(1 - \\frac{ik_2}{k_1})+ (1 + \\frac{ik_2}{k_1})D = 2A \\ .\\tag{1.8}$$"
   ]
  },
  {
   "cell_type": "markdown",
   "id": "3abfab9d-e322-4c82-beaa-f263d2e07d7c",
   "metadata": {},
   "source": [
    "$\\quad$ Outras condições de contorno são as mesma, mas em torno do ponto $x=a$. Em outras palavras, as funções de onda da região II e III devem ser iguais e suas derivadas em torno desse ponto também, logo"
   ]
  },
  {
   "cell_type": "markdown",
   "id": "7c5b96c2-729b-45c7-97ea-02b3c9379230",
   "metadata": {},
   "source": [
    "$$  {\\begin{cases}\n",
    "        Ce^{k_2a} + De^{-k_2a} = Fe^{ik_1a}\\\\\n",
    "        \\\\\n",
    "        k_2(Ce^{k_2a} - De^{-k_2a}) = ik_1 Fe^{ik_1a} \\implies (Ce^{k_2a} - De^{-k_2a}) = \\frac{ik_1}{k_2} Fe^{ik_1a}\\\\\n",
    "        \\end{cases}\n",
    "        } \\ .$$"
   ]
  },
  {
   "cell_type": "markdown",
   "id": "cb30f70b-59af-46b5-8ea2-bce4ca321dff",
   "metadata": {},
   "source": [
    "$$\\implies  2Ce^{k_2a} = Fe^{ik_1a} + \\frac{ik_1}{k_2} Fe^{ik_1a} \\implies  2Ce^{k_2a} = Fe^{ik_1a}( 1 + \\frac{ik_1}{k_2})$$"
   ]
  },
  {
   "cell_type": "markdown",
   "id": "062127a8-a678-49c3-8e44-fd69d82e1277",
   "metadata": {},
   "source": [
    "$$\\therefore  C = \\frac{F}{2}e^{ik_1a}( 1 + \\frac{ik_1}{k_2})e^{-k_2a} \\ ,\\tag{1.9}$$"
   ]
  },
  {
   "cell_type": "markdown",
   "id": "71896fd2-c0b0-4762-b6aa-67b1c96bdc88",
   "metadata": {},
   "source": [
    "e agora para o D"
   ]
  },
  {
   "cell_type": "markdown",
   "id": "3cde493e-5e5d-4515-95fe-afa564c374dc",
   "metadata": {},
   "source": [
    "$$ De^{-k_2a} = Fe^{ik_1a} - Ce^{k_2a}$$"
   ]
  },
  {
   "cell_type": "markdown",
   "id": "af931a8a-5afa-4187-81fd-0a7522f3f7c9",
   "metadata": {},
   "source": [
    "$$ \\implies De^{-k_2a} = Fe^{ik_1a} - \\frac{F}{2}e^{ik_1a}( 1 + \\frac{ik_1}{k_2})e^{-k_2a}e^{k_2a} \\implies De^{-k_2a} = Fe^{ik_1a} - \\frac{F}{2}e^{ik_1a}( 1 + \\frac{ik_1}{k_2})$$"
   ]
  },
  {
   "cell_type": "markdown",
   "id": "c8a6e985-4ca4-4a41-abc6-c41154ed8865",
   "metadata": {},
   "source": [
    "$$\\therefore D = \\frac{F}{2}e^{ik_1a}(1 - \\frac{ik_1}{k_2})e^{k_2a} \\ . \\tag{1.10}$$"
   ]
  },
  {
   "cell_type": "markdown",
   "id": "1a620dfe-ca31-4482-bd50-275bed0afd50",
   "metadata": {},
   "source": [
    "E finalmente para o A, substituindo as Equações **(1.10)** e **(1.9)** na Equação **(1.8)**, temos"
   ]
  },
  {
   "cell_type": "markdown",
   "id": "1fc313b3-9871-441d-bc82-dcab5ca2abf2",
   "metadata": {},
   "source": [
    "$$2A = \\frac{F}{2}e^{ik_1a}( 1 + \\frac{ik_1}{k_2})e^{-k_2a}(1 - \\frac{ik_2}{k_1}) +  (1 + \\frac{ik_2}{k_1})\\frac{F}{2}e^{ik_1a}(1 - \\frac{ik_1}{k_2})e^{k_2a}$$"
   ]
  },
  {
   "cell_type": "markdown",
   "id": "47c1ebf2-dee1-4212-afc9-bc04d4cc1e7d",
   "metadata": {},
   "source": [
    "$$\\implies 4A = Fe^{ik_1a} \\left[( 1 + \\frac{ik_1}{k_2})(1 - \\frac{ik_2}{k_1})e^{-k_2a} + (1 + \\frac{ik_2}{k_1})(1 - \\frac{ik_1}{k_2})e^{k_2a}\\right]$$"
   ]
  },
  {
   "cell_type": "markdown",
   "id": "43722427-c1a3-4500-ac52-e983dc56e26d",
   "metadata": {},
   "source": [
    "$$\\implies 4A = Fe^{ik_1a} \\left[( 1  - \\frac{ik_2}{k_1} + \\frac{ik_1}{k_2 }+ \\frac{k_1k_2}{k_2k_1})e^{-k_2a} + (1 - \\frac{ik_1}{k_2} + \\frac{ik_2}{k_1} + \\frac{k_2k_1}{k_1k_2})e^{k_2a}\\right]$$"
   ]
  },
  {
   "cell_type": "markdown",
   "id": "e08149f3-d4b9-4da6-973b-e75f3e708b75",
   "metadata": {},
   "source": [
    "$$\\implies 4A = Fe^{ik_1a} \\left[( 2  + \\frac{ik_1^2 - ik_2^2}{k_1k_2})e^{-k_2a} + (2 - \\frac{ik_1^2 - ik_2^2}{k_1k_2})e^{k_2a}\\right]$$"
   ]
  },
  {
   "cell_type": "markdown",
   "id": "d48965ff-43de-4624-b2a1-d937f9b0cf27",
   "metadata": {},
   "source": [
    "$$\\implies 4A = Fe^{ik_1a} \\left[2(e^{-k_2a} + e^{k_2a}) + \\frac{ik_1^2 - ik_2^2}{k_1k_2}(e^{-k_2a} - e^{k_2a}) \\right]$$"
   ]
  },
  {
   "cell_type": "markdown",
   "id": "4eb76a9d-0e93-438b-8416-42d1a9ca062a",
   "metadata": {},
   "source": [
    "$$\\therefore  \\boxed{F = \\frac{4Ae^{-ik_1a}}{ \\left[2(e^{-k_2a} + e^{k_2a}) + \\frac{ik_1^2 - ik_2^2}{k_1k_2}(e^{-k_2a} - e^{k_2a}) \\right]}} \\ . \\tag{1.11}$$ "
   ]
  },
  {
   "cell_type": "markdown",
   "id": "32e5844e-c508-4c45-8f56-a940db3c1f21",
   "metadata": {},
   "source": [
    "Assim, podemos por as outras amplitudes em função da amplitude A, primeiramente subtituiremos a Equação **(1.11)** na **(1.9)**,"
   ]
  },
  {
   "cell_type": "markdown",
   "id": "07d90448-e0b7-42d8-aa12-5101c079f3f7",
   "metadata": {},
   "source": [
    "$$C = \\frac{1}{2}\\frac{4Ae^{-ik_1a}e^{ik_1a}( 1 + \\frac{ik_1}{k_2})e^{-k_2a}}{ \\left[2(e^{-k_2a} + e^{k_2a}) + \\frac{ik_1^2 - ik_2^2}{k_1k_2}(e^{-k_2a} - e^{k_2a}) \\right]} $$"
   ]
  },
  {
   "cell_type": "markdown",
   "id": "8f53c2be-6b33-44f9-a66c-322a0b844148",
   "metadata": {},
   "source": [
    "$$\\therefore \\boxed{C = \\frac{2A( 1 + \\frac{ik_1}{k_2})e^{-k_2a}}{\\left[2(e^{-k_2a} + e^{k_2a}) + \\frac{ik_1^2 - ik_2^2}{k_1k_2}(e^{-k_2a} - e^{k_2a}) \\right]}} \\ , \\tag{1.12}$$"
   ]
  },
  {
   "cell_type": "markdown",
   "id": "41e001e6-b42d-41b3-bf8d-b65a576b607b",
   "metadata": {},
   "source": [
    "agora faremos para a amplitude $D$, substituindo a Equação **(1.11)** na **(1.10)**"
   ]
  },
  {
   "cell_type": "markdown",
   "id": "08f9022a-1ade-4b62-ba09-4b5445c6eb3c",
   "metadata": {},
   "source": [
    "$$ D = \\frac{1}{2}\\frac{4Ae^{-ik_1a}e^{ik_1a}(1 - \\frac{ik_1}{k_2})e^{k_2a}}{ \\left[2(e^{-k_2a} + e^{k_2a}) + \\frac{ik_1^2 - ik_2^2}{k_1k_2}(e^{-k_2a} - e^{k_2a}) \\right]}$$"
   ]
  },
  {
   "cell_type": "markdown",
   "id": "c5f19c5d-1c5e-4798-9885-f214839e9dd0",
   "metadata": {},
   "source": [
    "$$ \\therefore \\boxed{D = \\frac{2A(1 - \\frac{ik_1}{k_2})e^{k_2a}}{\\left[2(e^{-k_2a} + e^{k_2a}) + \\frac{ik_1^2 - ik_2^2}{k_1k_2}(e^{-k_2a} - e^{k_2a}) \\right]}} \\ . \\tag{1.13}$$"
   ]
  },
  {
   "cell_type": "markdown",
   "id": "07d512e6-cbd4-4074-b3d4-de274ce7c60a",
   "metadata": {},
   "source": [
    "Com isso agora definiremos a a amplitude $B$ em função da A,"
   ]
  },
  {
   "cell_type": "markdown",
   "id": "ee3e4046-b55b-4466-80ea-64f4d9b1e52d",
   "metadata": {},
   "source": [
    "$$ A + B = \\frac{2A( 1 + \\frac{ik_1}{k_2})e^{-k_2a}}{\\left[2(e^{-k_2a} + e^{k_2a}) + \\frac{ik_1^2 - ik_2^2}{k_1k_2}(e^{-k_2a} - e^{k_2a}) \\right]} + \\frac{2A(1 - \\frac{ik_1}{k_2})e^{k_2a}}{\\left[2(e^{-k_2a} + e^{k_2a}) + \\frac{ik_1^2 - ik_2^2}{k_1k_2}(e^{-k_2a} - e^{k_2a}) \\right]}$$"
   ]
  },
  {
   "cell_type": "markdown",
   "id": "650316b9-525f-4192-9c35-2aff6bcd9bdb",
   "metadata": {},
   "source": [
    "$$\\implies B = \\frac{2A}{2(e^{-k_2a} + e^{k_2a}) + \\frac{ik_1^2 - ik_2^2}{k_1k_2}(e^{-k_2a} - e^{k_2a})} \\left[( 1 + \\frac{ik_1}{k_2})e^{-k_2a} + (1 - \\frac{ik_1}{k_2})e^{k_2a}\\right] - A$$"
   ]
  },
  {
   "cell_type": "markdown",
   "id": "f914be59-0bbd-4625-afd0-95edb18ef4e9",
   "metadata": {},
   "source": [
    "$$\\implies B = \\frac{2A}{2(e^{-k_2a} + e^{k_2a}) + \\frac{ik_1^2 - ik_2^2}{k_1k_2}(e^{-k_2a} - e^{k_2a})} \\left[( 1 + \\frac{ik_1}{k_2})e^{-k_2a} + (1 - \\frac{ik_1}{k_2})e^{k_2a}\\right] - \\frac{A\\left[2(e^{-k_2a} + e^{k_2a}) + \\frac{ik_1^2 - ik_2^2}{k_1k_2}(e^{-k_2a} - e^{k_2a}) \\right]}{2(e^{-k_2a} + e^{k_2a}) + \\frac{ik_1^2 - ik_2^2}{k_1k_2}(e^{-k_2a} - e^{k_2a})}$$"
   ]
  },
  {
   "cell_type": "markdown",
   "id": "3d79794f-d5a7-47da-b33a-59c31491ab0e",
   "metadata": {},
   "source": [
    "$$\\implies B = \\frac{2A}{2(e^{-k_2a} + e^{k_2a}) + \\frac{ik_1^2 - ik_2^2}{k_1k_2}(e^{-k_2a} - e^{k_2a})} \\left[( 1 + \\frac{ik_1}{k_2})e^{-k_2a} + (1 - \\frac{ik_1}{k_2})e^{k_2a} - (e^{-k_2a} + e^{k_2a}) + \\frac{ik_1^2 - ik_2^2}{2k_1k_2}(e^{-k_2a} - e^{k_2a}) \\right]$$"
   ]
  },
  {
   "cell_type": "markdown",
   "id": "1d28e490-390c-4fe5-a294-b96211ecd378",
   "metadata": {},
   "source": [
    "$$\\implies B = \\frac{2A}{2(e^{-k_2a} + e^{k_2a}) + \\frac{ik_1^2 - ik_2^2}{k_1k_2}(e^{-k_2a} - e^{k_2a})} \\left[( 1 - 1 +\\frac{ik_1}{k_2} + \\frac{ik_1^2 - ik_2^2}{2k_1k_2})e^{-k_2a} + (1 - 1 - \\frac{ik_1}{k_2} -\\frac{ik_1^2 - ik_2^2}{2k_1k_2} )e^{k_2a}\\right]$$"
   ]
  },
  {
   "cell_type": "markdown",
   "id": "9f7a83dd-0429-4a03-b66d-7395a86d3d3b",
   "metadata": {},
   "source": [
    "$$\\implies B = \\frac{2A}{2(e^{-k_2a} + e^{k_2a}) + \\frac{ik_1^2 - ik_2^2}{k_1k_2}(e^{-k_2a} - e^{k_2a})} \\left[(\\frac{ik_1}{k_2} + \\frac{ik_1^2 - ik_2^2}{2k_1k_2})e^{-k_2a} - ( \\frac{ik_1}{k_2} +\\frac{ik_1^2 - ik_2^2}{2k_1k_2} )e^{k_2a}\\right]$$"
   ]
  },
  {
   "cell_type": "markdown",
   "id": "982a1750-2484-4b5c-844d-3987cec1efec",
   "metadata": {},
   "source": [
    "$$\\implies B = \\frac{2A}{2(e^{-k_2a} + e^{k_2a}) + \\frac{ik_1^2 - ik_2^2}{k_1k_2}(e^{-k_2a} - e^{k_2a})} (\\frac{2ik_1^2}{2k_1k_2} + \\frac{ik_1^2 - ik_2^2}{2k_1k_2})(e^{-k_2a} - e^{k_2a})$$"
   ]
  },
  {
   "cell_type": "markdown",
   "id": "fc70ef25-31ae-4141-a9c1-c94229312dc7",
   "metadata": {},
   "source": [
    "$$\\therefore \\boxed{B = \\frac{2A}{2(e^{-k_2a} + e^{k_2a}) + \\frac{ik_1^2 - ik_2^2}{k_1k_2}(e^{-k_2a} - e^{k_2a})}\\frac{(3ik_1^2 - ik_2^2)}{2k_1k_2}(e^{-k_2a} - e^{k_2a})}\\ . \\tag{1.14}$$"
   ]
  },
  {
   "cell_type": "markdown",
   "id": "e4560698-14fb-483b-bc1a-db5df2043f2f",
   "metadata": {},
   "source": [
    "$\\quad$ Com essas informações podemos criar um método computacional para encontrar essas soluções."
   ]
  },
  {
   "cell_type": "markdown",
   "id": "67b8f832-1fbe-4947-96f5-d734bd52b18d",
   "metadata": {},
   "source": [
    "## 2. Resolvendo Computacionalmente"
   ]
  },
  {
   "cell_type": "markdown",
   "id": "38741bbe-4739-4bce-95d8-afd4743a39bf",
   "metadata": {},
   "source": [
    "$\\quad$ Para solucionar computacionalmente, determinaremos as soluções da Equação **(1.1)** numericamente em cada região e para garantir que sejam são as soluções de onda que queremos. Para solucionar as EDOs, utilizaremos o método numérico de Numerov. Além disso, para facilitar nossos cálculos imaginemos que a partícula que está de movendo em direção ao potencial degrau tem massa igual 1 e a constante de planck igual a 1, ou seja, $m = 1 \\ kg$ e $\\hbar = 1 \\ J.s$."
   ]
  },
  {
   "cell_type": "code",
   "execution_count": 11,
   "id": "ec3e10a3-392f-487d-aeaa-d67745d34e49",
   "metadata": {},
   "outputs": [],
   "source": [
    "def k(E, x):\n",
    "    h = 1\n",
    "    m = 1\n",
    "    V = 0\n",
    "    if x>0 and x<10:\n",
    "        V = 100\n",
    "    return 2*m*(V - E)/(h**2)\n",
    "\n",
    "def eq_rec(E, delta, x, psi, i):\n",
    "    \n",
    "    temp1 = 2*(1-(5*(delta**2)/12)*k(E, x[i-1]))*psi[i-1]\n",
    "    temp2 = (1+ (delta**2/12)*k(E, x[i-2]))*psi[i-2]\n",
    "    temp3 = 1 + (delta**2/12)*k(E, x[i-1]+delta)\n",
    "    return (temp1 - temp2)/temp3"
   ]
  },
  {
   "cell_type": "code",
   "execution_count": 4,
   "id": "356565df-8442-46ac-9428-afbc4c00e5a0",
   "metadata": {},
   "outputs": [],
   "source": [
    "def df(psi, x):\n",
    "    delta = abs(x[0]-x[1]) #determinando o delta\n",
    "    d_psi = abs(psi[len(psi) - 1] - psi[len(psi)-2])/delta #determinando a derivada\n",
    "    return d_psi"
   ]
  },
  {
   "cell_type": "code",
   "execution_count": 5,
   "id": "5a839731-9239-4ffe-ba76-3181b67260d1",
   "metadata": {},
   "outputs": [],
   "source": [
    "def psi_norm(psi, a, b):\n",
    "    N = len(psi)\n",
    "    h = abs(b-a)/N\n",
    "    x = np.linspace(a, b, N)\n",
    "    s_p, s_i = 0, 0\n",
    "    s_0 = abs(psi[0])**2 + abs(psi[N-1])**2\n",
    "    for i in range(1, N-1):\n",
    "        if i%2 == 0:\n",
    "            s_p += abs(psi[i])**2\n",
    "        else:\n",
    "            s_i += abs(psi[i])**2\n",
    "    S_f = h*(s_0 + 2*s_p + 4*s_i)/3\n",
    "\n",
    "    A = np.sqrt(1/S_f)\n",
    "    psi_n = A*psi\n",
    "    return psi_n, A"
   ]
  },
  {
   "cell_type": "code",
   "execution_count": 6,
   "id": "50f897ea-6150-4ca1-8702-528f6ad36f7e",
   "metadata": {},
   "outputs": [],
   "source": [
    "def fpsi_l(E, a, b):\n",
    "    x = np.linspace(a, b, 1000) #nosso intervalo de integração para essa solução\n",
    "    delta = abs(x[1] - x[0]) #determinando o delta\n",
    "    if a == 0 and b == 10:\n",
    "        delta = -delta\n",
    "    psi_l = np.zeros(len(x)) #criando um array para armazenar a solução\n",
    "    psi_l[0] = 0 #primeiro ponto da solução\n",
    "    psi_l[1] = delta #segundo ponto da solução\n",
    "    #determinando o resto dos pontos com a equação de recorrência\n",
    "    for i in range(2, len(x)):\n",
    "        psi_l[i] = eq_rec(E, delta, x, psi_l, i) \n",
    "        \n",
    "    return psi_l, x\n",
    "\n",
    "def fpsi_r(E, a, b):\n",
    "    x = np.linspace(a, b, 1000)\n",
    "    delta = x[1] - x[0]\n",
    "    if a == 0 and b == 10:\n",
    "        delta = -delta\n",
    "    psi_r = np.zeros(len(x))\n",
    "    psi_r[0] = 0 #primeiro ponto da solução\n",
    "    psi_r[1] = delta\n",
    "\n",
    "    for i in range(2, len(x)):\n",
    "        psi_r[i] = eq_rec(E, delta, x, psi_r, i)\n",
    "        \n",
    "    return psi_r, x"
   ]
  },
  {
   "cell_type": "markdown",
   "id": "ab4bb14c-b57e-47e8-a9ec-7ddcf47bd57d",
   "metadata": {},
   "source": [
    "Determinando solução da equação Schrödinger para região I, encontrando a onda incidente"
   ]
  },
  {
   "cell_type": "code",
   "execution_count": 12,
   "id": "78d1c035-dca0-4ec8-9b94-5b4642c44766",
   "metadata": {},
   "outputs": [],
   "source": [
    "E = 101\n",
    "psi_i, x_i = fpsi_l(E, -10, 0) #region I\n",
    "psi_i, A = psi_norm(psi_i, -10, 0)"
   ]
  },
  {
   "cell_type": "markdown",
   "id": "3dafa9d5-ca56-49bc-8507-5a843ce882c2",
   "metadata": {},
   "source": [
    "Com as Equações **(1.12)** **(1.13)** podemos encontrar as amplitudes $C$ e $D$ e em seguida definir quem é o pacote de onda da região II,"
   ]
  },
  {
   "cell_type": "code",
   "execution_count": 9,
   "id": "1ca6c444-56c7-4f19-9577-93ab29d8e1cd",
   "metadata": {},
   "outputs": [],
   "source": [
    "C "
   ]
  },
  {
   "cell_type": "code",
   "execution_count": 14,
   "id": "a54a1c6a-5226-4149-8b45-002e11297c24",
   "metadata": {},
   "outputs": [],
   "source": [
    "# primeira CC\n",
    "psi_II_d_, x_II_d_ = fpsi_r(E,10, 0, 0)\n",
    "\n",
    "psi_II_d = np.zeros(len(psi_II_d_))\n",
    "x_II = np.zeros(len(x_II_d_))\n",
    "for i in range(len(psi_II_d)):\n",
    "    psi_II_d[i] = psi_II_d_[len(psi_II_d) - i-1]\n",
    "    x_II[i] = x_II_d_[len(x_II_d) - i - 1]\n",
    "psi_II_d, A_II_d = psi_norm(psi_II_d, 0, 10)\n",
    "\n",
    "k_1 = np.sqrt(2*1*E/(1**2))\n",
    "k_2 = np.sqrt(2*1*(E - 100)/(1**2))\n",
    "\n",
    "psi_II_l = np.exp(complex(0, 1)*k_2*x_II_d)\n",
    "\n",
    "C = (2*complex(0, 1)*k_1*A_i + (k_2 - complex(0, 1)*k_1)*A_II_d)*(complex(0, 1)*k_1 + k_2)\n",
    "\n",
    "psi_II_l = C*psi_II_l\n",
    "\n",
    "psi_II, A = psi_norm(psi_II_l + psi_II_d, 0, 10)\n"
   ]
  },
  {
   "cell_type": "markdown",
   "id": "366f08f8-63e7-44af-a1d8-812803e9262c",
   "metadata": {},
   "source": [
    "$$\\implies k_2(Fe^{-ik_1a} - 2De^{-k_2a}) = ik_1 Fe^{-ik_1a} $$"
   ]
  },
  {
   "cell_type": "markdown",
   "id": "753d09f7-fb35-4b57-b7f0-a9d3092ff0d5",
   "metadata": {},
   "source": [
    "$$\\implies k_2Fe^{-ik_1a} - ik_1 Fe^{-ik_1a} =2k_2De^{-k_2a}$$"
   ]
  },
  {
   "cell_type": "markdown",
   "id": "c50d727f-3840-44c7-a0e7-ba13fcb8f31f",
   "metadata": {},
   "source": [
    "$$\\implies F= \\frac{2k_2De^{-k_2a}}{(k_2 - ik_1)e^{-ik_1a}}\\implies F= \\frac{2k_2De^{(-k_2a + ik_1a)}}{(k_2 - ik_1)}$$"
   ]
  },
  {
   "cell_type": "markdown",
   "id": "b879ed31-949c-4dc4-9044-a6807d5fdd54",
   "metadata": {},
   "source": [
    "$$ \\implies F= \\frac{2k_2De^{(ik_1-k_2)a}}{(k_2 - ik_1)}$$"
   ]
  },
  {
   "cell_type": "code",
   "execution_count": 15,
   "id": "e0eaf666-1def-4814-b6aa-70db8444455e",
   "metadata": {},
   "outputs": [],
   "source": [
    "x_T = np.linspace(10, 20, 1000)\n",
    "psi_T = np.exp(complex(0, 1)*k_1*x_T)\n",
    "\n",
    "F = 2*k_2*A_II_d*np.exp((complex(0, 1)*k_1 - k_2)*10) /((k_2 - complex(0, 1)*k_1))\n",
    "psi_T = F*psi_T"
   ]
  },
  {
   "cell_type": "code",
   "execution_count": 16,
   "id": "191ba559-b4fd-4bda-b755-bb711afaddf7",
   "metadata": {},
   "outputs": [
    {
     "name": "stderr",
     "output_type": "stream",
     "text": [
      "C:\\Users\\olive\\Anaconda3\\Lib\\site-packages\\matplotlib\\cbook.py:1699: ComplexWarning: Casting complex values to real discards the imaginary part\n",
      "  return math.isfinite(val)\n",
      "C:\\Users\\olive\\Anaconda3\\Lib\\site-packages\\matplotlib\\cbook.py:1345: ComplexWarning: Casting complex values to real discards the imaginary part\n",
      "  return np.asarray(x, float)\n"
     ]
    },
    {
     "data": {
      "text/plain": [
       "[<matplotlib.lines.Line2D at 0x1905ebee3d0>]"
      ]
     },
     "execution_count": 16,
     "metadata": {},
     "output_type": "execute_result"
    },
    {
     "data": {
      "image/png": "[encoded data removed]",
      "text/plain": [
       "<Figure size 800x500 with 1 Axes>"
      ]
     },
     "metadata": {},
     "output_type": "display_data"
    }
   ],
   "source": [
    "plot_ticks()\n",
    "plt.plot(x_i, psi_I)\n",
    "plt.plot(x_II, psi_II)\n",
    "plt.plot(x_T, psi_T)"
   ]
  },
  {
   "cell_type": "code",
   "execution_count": 154,
   "id": "112749c4-a969-4aa8-8727-534321e11088",
   "metadata": {},
   "outputs": [],
   "source": [
    "def int_(psi, a, b):\n",
    "    N = len(psi)\n",
    "    h = abs(b-a)/N\n",
    "    x = np.linspace(a, b, N)\n",
    "    s_p, s_i = 0, 0\n",
    "    s_0 = abs(psi[0])**2 + abs(psi[N-1])**2 \n",
    "\n",
    "    #calculando a s_i e s_p\n",
    "    for i in range(1, N-1):\n",
    "        if i%2 == 0:\n",
    "            s_p += abs(psi[i])**2\n",
    "        else:\n",
    "            s_i += abs(psi[i])**2 \n",
    "    #resultado da integral\n",
    "    S_f = h*(s_0 + 2*s_p + 4*s_i)/3\n",
    "    return S_f"
   ]
  },
  {
   "cell_type": "code",
   "execution_count": 76,
   "id": "bb0d5028-f5b7-45c5-9fdc-86e092f86a01",
   "metadata": {},
   "outputs": [
    {
     "name": "stdout",
     "output_type": "stream",
     "text": [
      "0.023382380459407118 5875.969294574159\n"
     ]
    }
   ],
   "source": [
    "psi_R, A = psi_norm(psi_R, -10, 20)\n",
    "R = int_(psi_R**2, 0, -10)\n",
    "T = int_(psi_T**2, 10, 20)\n",
    "print(R, T)"
   ]
  },
  {
   "cell_type": "code",
   "execution_count": 69,
   "id": "c23b1c4a-719c-4886-bbef-cd175e1c8c5f",
   "metadata": {},
   "outputs": [
    {
     "data": {
      "text/plain": [
       "[<matplotlib.lines.Line2D at 0x24963f40c90>]"
      ]
     },
     "execution_count": 69,
     "metadata": {},
     "output_type": "execute_result"
    },
    {
     "data": {
      "image/png": "[encoded data removed]",
      "text/plain": [
       "<Figure size 800x500 with 1 Axes>"
      ]
     },
     "metadata": {},
     "output_type": "display_data"
    }
   ],
   "source": [
    "psi = np.zeros(3000)\n",
    "x = np.zeros(3000)\n",
    "\n",
    "for i in range(1000):\n",
    "    psi[i] = psi_I[i]\n",
    "    x[i] = x_i[i]\n",
    "\n",
    "for i in range(1000):\n",
    "    psi[1000+i] = psi_II[i]\n",
    "    x[1000+i] = x_II[i]\n",
    "for i in range(1000):\n",
    "    psi[2000+i] = psi_T[i]\n",
    "    x[2000+i] = x_T[i]\n",
    "\n",
    "psi, A = psi_norm(psi, -10, 20)\n",
    "plot_ticks()\n",
    "plt.plot(x, psi, '.')"
   ]
  },
  {
   "cell_type": "markdown",
   "id": "a7f14c48-d3a6-4c3f-8e2b-0b22a7dae6e7",
   "metadata": {},
   "source": [
    "---"
   ]
  },
  {
   "cell_type": "markdown",
   "id": "53d50a9b-a68b-44b5-811a-ed44ba7beb71",
   "metadata": {},
   "source": [
    "## Referências"
   ]
  },
  {
   "cell_type": "markdown",
   "id": "9851f0d9-55d6-4b45-96ef-93adb3450ae7",
   "metadata": {},
   "source": [
    "**[1]** SHANKAR, R. Principles of Quantum Mechanics. [s.l.]: Springer Science, 1994.\n",
    "\n",
    "**[2]** SAKURAI, J. J.; NAPOLITANO, J. MECâNICA QUÂNTICA MODERNA. [s.l.]: Pearson Education, 2013.\n",
    "\n",
    "**[3]** RIBEIRO, M. A. C. et al. Os problemas de espalhamento quântico em potenciais elementares. Revista Brasileira de Ensino de Física, [s.l.], no 1, 2004. DOI: https://doi.org/10.1590/s1806-11172004000100001.\n",
    "\n",
    "**[4]** SAFNE DE SOUZA SILVA, P.; PEREIRA DA SILVA, L. F. Uma Abordagem Didática Do Tunelamento quântico: a Partir Do Estudo Da Barreira Potencial Retangular Simples. Revista Física No Campus, [s.l.], no 2, 2023."
   ]
  }
 ],
 "metadata": {
  "kernelspec": {
   "display_name": "Python 3 (ipykernel)",
   "language": "python",
   "name": "python3"
  },
  "language_info": {
   "codemirror_mode": {
    "name": "ipython",
    "version": 3
   },
   "file_extension": ".py",
   "mimetype": "text/x-python",
   "name": "python",
   "nbconvert_exporter": "python",
   "pygments_lexer": "ipython3",
   "version": "3.11.9"
  }
 },
 "nbformat": 4,
 "nbformat_minor": 5
}
