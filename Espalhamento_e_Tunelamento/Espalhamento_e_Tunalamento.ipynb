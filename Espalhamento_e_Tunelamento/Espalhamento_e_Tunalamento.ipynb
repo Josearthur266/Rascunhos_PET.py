{
 "cells": [
  {
   "cell_type": "markdown",
   "id": "acae0e37-9520-4148-ba32-c7787288acff",
   "metadata": {},
   "source": [
    "# Espalhamento e Tunelamento Quântico"
   ]
  },
  {
   "cell_type": "markdown",
   "id": "ccc23830-4fe8-4e39-8cd4-7794fa884fd2",
   "metadata": {},
   "source": [
    "* Matéria: Física Quântica\n",
    "* Aluno: José Arthur de Luna Oliveira\n",
    "* Professor: Bruno Ricardo de Carvalho\n",
    "* Data:"
   ]
  },
  {
   "cell_type": "markdown",
   "id": "ced03155-e106-4885-bed0-8b7f772d5569",
   "metadata": {},
   "source": [
    "$\\quad$ Neste trabalho discutiremos sobre o espalhamento e tunelamento quântico."
   ]
  },
  {
   "cell_type": "markdown",
   "id": "dc564367-fc56-4cce-8eba-da88e4fd0d9d",
   "metadata": {},
   "source": [
    "Neste `Notebook` haverá as seguintes seções:\n",
    "\n",
    "* Introdução;\n",
    "* \n",
    "* Conclusão."
   ]
  },
  {
   "cell_type": "markdown",
   "id": "b1bd0d75-19b3-4564-a6bd-b14dd4ad7434",
   "metadata": {},
   "source": [
    "## Importando Bibliotecas"
   ]
  },
  {
   "cell_type": "code",
   "execution_count": 1,
   "id": "37163b77-bccc-479a-bc61-91c726014bed",
   "metadata": {},
   "outputs": [],
   "source": [
    "import matplotlib.pyplot as plt\n",
    "import numpy as np\n",
    "\n",
    "def plot_ticks(): #essa é uma função que mexe na aparência dos gráficos\n",
    "    plt.figure(figsize = (8,5))\n",
    "    plt.minorticks_on()\n",
    "    plt.tick_params(axis='x', which='both', top = True, right = True, direction = 'in', length=5, width=1)\n",
    "    plt.tick_params(axis='y', which='both', top = True, right = True, direction = 'in', length=5, width=1)"
   ]
  },
  {
   "cell_type": "markdown",
   "id": "7c63a317-d2c6-424e-b931-e79812aee3b4",
   "metadata": {},
   "source": [
    "## Detalhes da Biblioteca"
   ]
  },
  {
   "cell_type": "code",
   "execution_count": 2,
   "id": "95068537-294d-4b61-b481-7ea81c7ef9fc",
   "metadata": {},
   "outputs": [
    {
     "data": {
      "application/json": {
       "Software versions": [
        {
         "module": "Python",
         "version": "3.11.8 64bit [MSC v.1916 64 bit (AMD64)]"
        },
        {
         "module": "IPython",
         "version": "8.20.0"
        },
        {
         "module": "OS",
         "version": "Windows 10 10.0.22631 SP0"
        },
        {
         "module": "Matplotlib",
         "version": "3.8.0"
        },
        {
         "module": "Numpy",
         "version": "1.26.4"
        }
       ]
      },
      "text/html": [
       "<table><tr><th>Software</th><th>Version</th></tr><tr><td>Python</td><td>3.11.8 64bit [MSC v.1916 64 bit (AMD64)]</td></tr><tr><td>IPython</td><td>8.20.0</td></tr><tr><td>OS</td><td>Windows 10 10.0.22631 SP0</td></tr><tr><td>Matplotlib</td><td>3.8.0</td></tr><tr><td>Numpy</td><td>1.26.4</td></tr><tr><td colspan='2'>Fri May 03 21:47:19 2024 Hora Padrão de Buenos Aires</td></tr></table>"
      ],
      "text/latex": [
       "\\begin{tabular}{|l|l|}\\hline\n",
       "{\\bf Software} & {\\bf Version} \\\\ \\hline\\hline\n",
       "Python & 3.11.8 64bit [MSC v.1916 64 bit (AMD64)] \\\\ \\hline\n",
       "IPython & 8.20.0 \\\\ \\hline\n",
       "OS & Windows 10 10.0.22631 SP0 \\\\ \\hline\n",
       "Matplotlib & 3.8.0 \\\\ \\hline\n",
       "Numpy & 1.26.4 \\\\ \\hline\n",
       "\\hline \\multicolumn{2}{|l|}{Fri May 03 21:47:19 2024 Hora Padrão de Buenos Aires} \\\\ \\hline\n",
       "\\end{tabular}\n"
      ],
      "text/plain": [
       "Software versions\n",
       "Python 3.11.8 64bit [MSC v.1916 64 bit (AMD64)]\n",
       "IPython 8.20.0\n",
       "OS Windows 10 10.0.22631 SP0\n",
       "Matplotlib 3.8.0\n",
       "Numpy 1.26.4\n",
       "Fri May 03 21:47:19 2024 Hora Padrão de Buenos Aires"
      ]
     },
     "execution_count": 2,
     "metadata": {},
     "output_type": "execute_result"
    }
   ],
   "source": [
    "%load_ext version_information\n",
    "%version_information Matplotlib, Numpy"
   ]
  },
  {
   "cell_type": "markdown",
   "id": "95176043-ab32-4d30-aaf2-7fb0e0421333",
   "metadata": {},
   "source": [
    "## 1. Introdução"
   ]
  },
  {
   "cell_type": "markdown",
   "id": "376477a6-afc2-4122-9974-6e8ef2cd8c8b",
   "metadata": {},
   "source": [
    "$\\quad$ O espalhamento quântico é um fenômeno fundamental na Mecânica Quântica. Ele envolve o comportamento das partículas antes e depois de coliderem entre si. Durante o espalhamento, as propriedades das partículas, como sua posição, momento e energia, podem ser alteradas devido à interação. Entretanto, as leis da Mecânica Quântica determinam que essas mudanças não podem ser previstas de maneira determinística, apenas em termos de probabilidades. \n",
    "\n",
    "$\\quad$ O principal exemplo é o espalhamento de elétrons por núcleos atômicos. No qual, ocorre quando um elétron se aproxima de um núcleo atômico, ela pode ser desviado de sua trajetória original devido à interação eletromagnética entre as cargas elétricas do elétron e do núcleo. O resultado desse espalhamento pode variar de acordo com diversos fatores, incluindo a energia do elétron, a distância de aproximação e as propriedades específicas do núcleo. Em geral, o espalhamento quântico é o tipo de processos que um estado inicial contínuo é transformado em um final contínuo através da ação de algum potencial **[2]**.\n",
    "\n",
    "$\\quad$ Para trabalharmos nesse problema, imaginemos uma partícula livre, viajando da direita para a esquerda, com energia $E$ em uma região I ($x \\leq 0$), em $x>0$ é a região II onde há ação de potencial $V = V_0$. Na Mecânica Clássica, a duas possibilidades de resultados, caso $E<V_0$ a partícula é refletida, ela não consegue ir para região II, entretanto se $E>V_0$ ela consegue passar para a outra região. Em contrapartida, na Mecânica Quântica se $E<V_0$ existe probabilidade da partícula passar para a região II, esse fenômeno é chamado de Tunelamento.\n",
    "\n",
    "$\\quad$ Dito isso, para conseguirmos desenvolver o problema trocaremos a partícula por um pacote de onda $\\Psi_I(x, \\ t)$, na qual quando atinge a barreira de potencial haverá uma onda refletida $\\Psi_R(x, \\ t)$ e outra transmitidas $\\Psi_T(x, \\ t)$."
   ]
  },
  {
   "cell_type": "code",
   "execution_count": null,
   "id": "181cd4a7-7c45-4e34-afab-ea8f8712b796",
   "metadata": {},
   "outputs": [],
   "source": []
  },
  {
   "cell_type": "markdown",
   "id": "a7f14c48-d3a6-4c3f-8e2b-0b22a7dae6e7",
   "metadata": {},
   "source": [
    "---"
   ]
  },
  {
   "cell_type": "markdown",
   "id": "53d50a9b-a68b-44b5-811a-ed44ba7beb71",
   "metadata": {},
   "source": [
    "## Referências"
   ]
  },
  {
   "cell_type": "markdown",
   "id": "9851f0d9-55d6-4b45-96ef-93adb3450ae7",
   "metadata": {},
   "source": [
    "**[1]** SHANKAR, R. Principles of Quantum Mechanics. [s.l.]: Springer Science, 1994.\n",
    "\n",
    "**[2]** SAKURAI, J. J.; NAPOLITANO, J. MECâNICA QUÂNTICA MODERNA. [s.l.]: Pearson Education, 2013.\n",
    "\n",
    "**[3]** RIBEIRO, M. A. C. et al. Os problemas de espalhamento quântico em potenciais elementares. Revista Brasileira de Ensino de Física, [s.l.], no 1, 2004. DOI: https://doi.org/10.1590/s1806-11172004000100001.\n",
    "\n",
    "**[4]** SAFNE DE SOUZA SILVA, P.; PEREIRA DA SILVA, L. F. Uma Abordagem Didática Do Tunelamento quântico: a Partir Do Estudo Da Barreira Potencial Retangular Simples. Revista Física No Campus, [s.l.], no 2, 2023."
   ]
  },
  {
   "cell_type": "code",
   "execution_count": null,
   "id": "c398854a-b46e-413c-9db6-c16266699a83",
   "metadata": {},
   "outputs": [],
   "source": []
  }
 ],
 "metadata": {
  "kernelspec": {
   "display_name": "Python 3 (ipykernel)",
   "language": "python",
   "name": "python3"
  },
  "language_info": {
   "codemirror_mode": {
    "name": "ipython",
    "version": 3
   },
   "file_extension": ".py",
   "mimetype": "text/x-python",
   "name": "python",
   "nbconvert_exporter": "python",
   "pygments_lexer": "ipython3",
   "version": "3.11.8"
  }
 },
 "nbformat": 4,
 "nbformat_minor": 5
}
