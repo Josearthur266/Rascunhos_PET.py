{
 "cells": [
  {
   "cell_type": "markdown",
   "id": "6a8578e5-58d6-410e-a5a1-0b26b2e87d13",
   "metadata": {},
   "source": [
    "# Método Numérico de Numerov"
   ]
  },
  {
   "cell_type": "markdown",
   "id": "c307e10f-b3e0-4e15-b587-c66d0ce8107a",
   "metadata": {},
   "source": [
    "* PET - Física UFRN\n",
    "* Petiano: José Arthur de Luna Oliveira\n",
    "* Data:"
   ]
  },
  {
   "cell_type": "markdown",
   "id": "2f59019b-fe34-492b-ad62-e29cba98e7e0",
   "metadata": {},
   "source": [
    "$\\quad$ Nesse `Notebook` exploraremos o método numérico de Numerov, tal método é utilizado para resolver equações diferenciais de segunda ordem. Aqui neste `Notebook`, usaremos este método para solucionar os seguintes problemas: átomos de hidrogênio e oscilador harmônico. Vale salientar que este trabalho é baseado nos artigos *Numerical Solution of the Two-Dimensional Time Independent Schrödinger Equation with Numerov-Type Methods* **[1]** e *Applications of the Numerov method to simple quantum \n",
    "systems using Python* **[2]**."
   ]
  },
  {
   "cell_type": "markdown",
   "id": "55b1ba39-973a-4e53-bf6a-126a65c0881b",
   "metadata": {},
   "source": [
    "Neste `Notebook` haverá as seguintes seções:\n",
    "* Introdução;\n",
    "* Problema do Átomo de Hidrogênio;\n",
    "* Problema do Oscilador Harmônico;\n",
    "* Conclusão."
   ]
  },
  {
   "cell_type": "markdown",
   "id": "23121e91-ebae-4636-b267-5db90b68d076",
   "metadata": {},
   "source": [
    "## Importando Bibliotecas"
   ]
  },
  {
   "cell_type": "code",
   "execution_count": 1,
   "id": "95c41062-45a1-4c53-bb5d-d6e93dfd8aaa",
   "metadata": {},
   "outputs": [],
   "source": [
    "import matplotlib.pyplot as plt\n",
    "import numpy as np"
   ]
  },
  {
   "cell_type": "markdown",
   "id": "2e3c113d-d460-4adf-93d4-1843bd859212",
   "metadata": {},
   "source": [
    "## Detalhes da Biblioteca"
   ]
  },
  {
   "cell_type": "code",
   "execution_count": 2,
   "id": "8f0a7a26-6abb-40cf-b08d-d636406e48cd",
   "metadata": {},
   "outputs": [
    {
     "data": {
      "application/json": {
       "Software versions": [
        {
         "module": "Python",
         "version": "3.11.8 64bit [MSC v.1916 64 bit (AMD64)]"
        },
        {
         "module": "IPython",
         "version": "8.20.0"
        },
        {
         "module": "OS",
         "version": "Windows 10 10.0.22631 SP0"
        },
        {
         "module": "Matplotlib",
         "version": "3.8.0"
        },
        {
         "module": "Numpy",
         "version": "1.26.4"
        }
       ]
      },
      "text/html": [
       "<table><tr><th>Software</th><th>Version</th></tr><tr><td>Python</td><td>3.11.8 64bit [MSC v.1916 64 bit (AMD64)]</td></tr><tr><td>IPython</td><td>8.20.0</td></tr><tr><td>OS</td><td>Windows 10 10.0.22631 SP0</td></tr><tr><td>Matplotlib</td><td>3.8.0</td></tr><tr><td>Numpy</td><td>1.26.4</td></tr><tr><td colspan='2'>Sun Apr 21 17:55:38 2024 Hora Padrão de Buenos Aires</td></tr></table>"
      ],
      "text/latex": [
       "\\begin{tabular}{|l|l|}\\hline\n",
       "{\\bf Software} & {\\bf Version} \\\\ \\hline\\hline\n",
       "Python & 3.11.8 64bit [MSC v.1916 64 bit (AMD64)] \\\\ \\hline\n",
       "IPython & 8.20.0 \\\\ \\hline\n",
       "OS & Windows 10 10.0.22631 SP0 \\\\ \\hline\n",
       "Matplotlib & 3.8.0 \\\\ \\hline\n",
       "Numpy & 1.26.4 \\\\ \\hline\n",
       "\\hline \\multicolumn{2}{|l|}{Sun Apr 21 17:55:38 2024 Hora Padrão de Buenos Aires} \\\\ \\hline\n",
       "\\end{tabular}\n"
      ],
      "text/plain": [
       "Software versions\n",
       "Python 3.11.8 64bit [MSC v.1916 64 bit (AMD64)]\n",
       "IPython 8.20.0\n",
       "OS Windows 10 10.0.22631 SP0\n",
       "Matplotlib 3.8.0\n",
       "Numpy 1.26.4\n",
       "Sun Apr 21 17:55:38 2024 Hora Padrão de Buenos Aires"
      ]
     },
     "execution_count": 2,
     "metadata": {},
     "output_type": "execute_result"
    }
   ],
   "source": [
    "%load_ext version_information\n",
    "%version_information Matplotlib, Numpy"
   ]
  },
  {
   "cell_type": "markdown",
   "id": "14e40dab-04c6-48b8-be6c-41b7b6c3090c",
   "metadata": {},
   "source": [
    "## 1. Introdução"
   ]
  },
  {
   "cell_type": "markdown",
   "id": "bed3adee-0b9c-412b-aa9c-26284eb41f08",
   "metadata": {},
   "source": [
    "$\\quad$ Antes de iniciarmos, vale ressaltar que essa seção é toda baseada na construção que método do artigo *Applications of the Numerov method to simple quantum systems using Python* **[2]**."
   ]
  },
  {
   "cell_type": "markdown",
   "id": "33819bad-492e-477d-96fe-9cf42bf0ae41",
   "metadata": {},
   "source": [
    "$\\quad$ O principal motivo para Numerov desenvolver esse método foi que ele queria determinar as correções na trajetória do cometa Halley. Esse método, por sua vez, surgiu inicialmente para solucionar problemas de autovalores relacionados a equações diferenciais ordinárias de segunda ordem para corpos celestes. Tais equações não possuem informação da primeira derivada de uma função desconhecida, $y(x)$, em outras palavras, equações com a seguinte forma"
   ]
  },
  {
   "cell_type": "markdown",
   "id": "0cb00278-cda3-4534-9a5d-3ef2ebc6348f",
   "metadata": {},
   "source": [
    "$$ \\frac{d^2y}{dx^2} = f(x, \\ y) \\ . \\tag{1.1}$$"
   ]
  },
  {
   "cell_type": "markdown",
   "id": "031f2f83-d951-4318-8ee4-09cb2f3f9ba1",
   "metadata": {},
   "source": [
    "$\\quad$ Nos métodos mais tradicionais para equações diferenciais, por exemplo, método de Euler ou o Runge-Kutta, cria-se um sistema de equações para resolvê-la como,"
   ]
  },
  {
   "cell_type": "markdown",
   "id": "b5f23640-8d68-48b5-a178-ec4cfaa5ac66",
   "metadata": {},
   "source": [
    "$$  {\\begin{cases}\n",
    "        z = \\frac{dy}{dx}\\\\\n",
    "        \\\\\n",
    "        \\frac{dz}{dx} = f(x, \\ y)\n",
    "        \\end{cases}\n",
    "        } \\ .$$"
   ]
  },
  {
   "cell_type": "markdown",
   "id": "3cf822e2-e422-4515-9fb1-15d0b9fedd0e",
   "metadata": {},
   "source": [
    "$\\quad$ No entanto, em problemas que $\\frac{dy}{dx}$ são desconhecidos, não pode utilizar esses métodos tradicionais para solucionar esses problemas, então deve-se usar outros métodos.\n",
    "\n",
    "$\\quad$ Para desenvolver o método que usaremos neste `Notebook`, usaremos o problema de estados ligados da Mecânica Quântica. Suponha que uma partícula de massa $m$, confinada em um potencial $V(x)$, em um dado intervalo $a<x<b$, onde as energias permitidas ($E$) e as funções de ondas correspondentes $\\psi(x)$ que descrevem esses estados estacionários satisfazem a equação de autovalor de Schrödinger"
   ]
  },
  {
   "cell_type": "markdown",
   "id": "a3c5e645-b1c0-4cee-a37a-47ae7aaf9deb",
   "metadata": {},
   "source": [
    "$$ \\frac{d^2\\psi(x)}{dx^2} + k^2(x)\\psi(x) = 0 \\ ,\\tag{1.2}$$"
   ]
  },
  {
   "cell_type": "markdown",
   "id": "1e61e875-8fdd-46b7-a5f2-7b75865f88fa",
   "metadata": {},
   "source": [
    "na qual $k=\\sqrt{2m[E - V(x)]}/\\hbar$ e $\\hbar = 1.055\\times 10^{-34}\\ J.s $ é a constante de Planck reduzida. Nesse caso, podemos estabelecer condições de continuidade para os valores $\\psi$ e $d\\psi/dx$ em dois ou mais pontos do domínio da função de onda. Assim, tornando desnecessária a transformação de uma equação diferencial de segunda ordem em um sistema de primeira ordem. Vale ressaltar que o método de Numerov nos permite a determinação simultânea do espectro de energia da partícula e das autofunções associadas a cada valor de energia."
   ]
  },
  {
   "cell_type": "markdown",
   "id": "eb932e93-9ecc-4dc0-9057-2aef69a219d9",
   "metadata": {},
   "source": [
    "### 1.2 Encontrando a Fórmula de Numerov"
   ]
  },
  {
   "cell_type": "markdown",
   "id": "e560a83c-42a3-423a-8838-59ddc5b84cd9",
   "metadata": {},
   "source": [
    "$\\quad$ O método numérico de Numerov é um método interativo, assim a solução deve ser conhecida em dois pontos subsequentes no intervalo $[a, \\ b]$, ou seja, $\\psi(x - \\delta)$ e $\\psi(x)$ devem ser conhecidos, de forma que $\\delta$ é um valor muito pequeno, e será o passo de integração do nosso algoritmo.\n",
    "\n",
    "$\\quad$ Para construir o nosso algoritmo, começaremos expandindo em série de Taylor o $\\psi(x \\pm \\delta)$ até a quarta ordem,"
   ]
  },
  {
   "cell_type": "markdown",
   "id": "d28cb9d4-c036-47fd-ba4e-523556e0f7c7",
   "metadata": {},
   "source": [
    "$$ \\psi(x \\pm \\delta) = \\psi(x) \\pm \\delta \\psi^{(1)}(x) + \\frac{\\delta^2}{2}\\psi^{(2)}(x) \\pm \\frac{\\delta^3}{6}\\psi^{(3)}(x) + \\frac{\\delta^4}{24}\\psi^{(4)}(x) \\ , \\tag{1.3}$$"
   ]
  },
  {
   "cell_type": "markdown",
   "id": "376266bc-daec-44c0-a399-b59d25c1b3b9",
   "metadata": {},
   "source": [
    "somando os termos $\\psi(x + \\delta)$ e $\\psi(x-\\delta)$, temos"
   ]
  },
  {
   "cell_type": "markdown",
   "id": "d5cf1fa5-3d5c-47a5-8f13-ff3688c5a0bb",
   "metadata": {},
   "source": [
    "$$ \\psi(x+\\delta) + \\psi(x-\\delta) = \\psi(x) + \\delta \\psi^{(1)}(x) + \\frac{\\delta^2}{2}\\psi^{(2)}(x) + \\frac{\\delta^3}{6}\\psi^{(3)}(x) + \\frac{\\delta^4}{24}\\psi^{(4)}(x) + \\psi(x) - \\delta \\psi^{(1)}(x) + \\frac{\\delta^2}{2}\\psi^{(2)}(x) - \\frac{\\delta^3}{6}\\psi^{(3)}(x) + \\frac{\\delta^4}{24}\\psi^{(4)}(x)$$"
   ]
  },
  {
   "cell_type": "markdown",
   "id": "3fafe0f1-16be-4afc-9219-6bd4d0e256f5",
   "metadata": {},
   "source": [
    "$$ \\implies \\psi(x+\\delta) + \\psi(x-\\delta) = 2\\psi(x) + \\delta^2\\psi^{(2)}(x)+ \\frac{\\delta^4}{12}\\psi^{(4)}(x)  \\implies \\psi(x+\\delta) + \\psi(x-\\delta) - 2\\psi(x) = \\delta^2\\psi^{(2)}(x)+ \\frac{\\delta^4}{12}\\psi^{(4)}(x)$$"
   ]
  },
  {
   "cell_type": "markdown",
   "id": "4330ad4c-dd47-4efa-96d3-3f76563e52f3",
   "metadata": {},
   "source": [
    "$$ \\therefore \\boxed{ \\frac{\\psi(x+\\delta) + \\psi(x-\\delta) - 2\\psi(x)}{\\delta^2} = \\left(1 + \\frac{\\delta^2}{12}\\frac{d^2}{dx^2} \\right)\\psi^{(2)}(x)} \\ .\\tag{1.4}$$"
   ]
  },
  {
   "cell_type": "markdown",
   "id": "28a12016-b373-4c8a-b115-c34f0dcf7624",
   "metadata": {},
   "source": [
    "$\\quad$ Escrevendo a Equação **(1.2)** da seguinte forma, $\\frac{d^2\\psi(x)}{dx^2} = - k^2(x)\\psi(x)$, podemos substituir isso na Equação **(1.4)**, assim"
   ]
  },
  {
   "cell_type": "markdown",
   "id": "e6a16343-1029-4c33-9c09-f235a5916201",
   "metadata": {},
   "source": [
    "$$ \\frac{\\psi(x+\\delta) + \\psi(x-\\delta) - 2\\psi(x)}{\\delta^2} = \\left(1 + \\frac{\\delta^2}{12}\\frac{d^2}{dx^2} \\right)\\left[-k^2(x)\\psi(x)\\right]$$"
   ]
  },
  {
   "cell_type": "markdown",
   "id": "6b79412a-d551-4f32-bcc8-10ec3379fb68",
   "metadata": {},
   "source": [
    "$$ \\implies \\frac{\\psi(x+\\delta) + \\psi(x-\\delta) - 2\\psi(x)}{\\delta^2} = -k^2(x)\\psi(x) - \\frac{\\delta^2}{12}\\frac{d^2}{dx^2}\\left[k^2(x)\\psi(x)\\right]\\ , \\tag{1.5}$$"
   ]
  },
  {
   "cell_type": "markdown",
   "id": "282c377c-a276-4c7a-9b17-b1ad80abcc4b",
   "metadata": {},
   "source": [
    "agora faremos a seguinte manipulação na Equação **(1.4)**,"
   ]
  },
  {
   "cell_type": "markdown",
   "id": "b93f1e08-c0d9-489c-8de6-e82cfdf008a7",
   "metadata": {},
   "source": [
    "$$ \\frac{\\psi(x+\\delta) + \\psi(x-\\delta) - 2\\psi(x)}{\\delta^2} = \\psi^{(2)}(x)+ \\frac{\\delta^2}{12}\\psi^{(4)}(x)$$"
   ]
  },
  {
   "cell_type": "markdown",
   "id": "90c3a307-a45b-4b2a-8da2-d43a32e5a81b",
   "metadata": {},
   "source": [
    "$$\\implies \\psi^{(2)}(x) = \\frac{\\psi(x+\\delta) + \\psi(x-\\delta) - 2\\psi(x)}{\\delta^2} - \\frac{\\delta^2}{12}\\psi^{(4)}(x) , $$"
   ]
  },
  {
   "cell_type": "markdown",
   "id": "293b9517-c6fd-4d17-bc92-bfaaf1238a46",
   "metadata": {},
   "source": [
    "vamos fazer a seguinte troca $\\psi(x) \\rightarrow k^2(x)\\psi(x)$, então"
   ]
  },
  {
   "cell_type": "markdown",
   "id": "da9546fc-8f4e-4f6f-8766-b8d43e9880d1",
   "metadata": {},
   "source": [
    "$$ \\frac{d^2}{dx^2}[k^2(x)\\psi(x)] = \\frac{k^2(x+\\delta)\\psi(x+\\delta) + k^2(x-\\delta)\\psi(x-\\delta) - 2k^2(x)\\psi(x)}{\\delta^2} - \\frac{\\delta^2}{12}[k^2(x)\\psi(x)]^{(4)} \\ ,$$"
   ]
  },
  {
   "cell_type": "markdown",
   "id": "e6ba56be-387d-4171-99c6-d29aa4551c06",
   "metadata": {},
   "source": [
    "substituindo esse resultado na Equação **(1.5)**, temos"
   ]
  },
  {
   "cell_type": "markdown",
   "id": "55dc7714-bc1a-4a8a-8f79-7a01095023fc",
   "metadata": {},
   "source": [
    "$$\\frac{\\psi(x+\\delta) + \\psi(x-\\delta) - 2\\psi(x)}{\\delta^2} =-k^2(x)\\psi(x) - \\frac{\\delta^2}{12}\\left[\\frac{k^2(x+\\delta)\\psi(x+\\delta) + k^2(x-\\delta)\\psi(x-\\delta) - 2k^2(x)\\psi(x)}{\\delta^2}\\right] - \\frac{\\delta^4}{144}[k^2(x)\\psi(x)]^{(4)} \\ ,$$"
   ]
  },
  {
   "cell_type": "markdown",
   "id": "fc4fd7a5-68ea-4c65-a356-ed91fa84020d",
   "metadata": {},
   "source": [
    "considerando que $\\mathcal{O(\\delta^4)} = - \\frac{\\delta^4}{144}[k^2(x)\\psi(x)]^{(4)}$, então"
   ]
  },
  {
   "cell_type": "markdown",
   "id": "0ea418dc-06c5-4fee-b995-a99456d27ad7",
   "metadata": {},
   "source": [
    "$$\\frac{\\psi(x+\\delta) + \\psi(x-\\delta) - 2\\psi(x)}{\\delta^2} =-k^2(x)\\psi(x) - \\frac{\\delta^2}{12}\\left[\\frac{k^2(x+\\delta)\\psi(x+\\delta) + k^2(x-\\delta)\\psi(x-\\delta) - 2k^2(x)\\psi(x)}{\\delta^2}\\right] + \\mathcal{O(\\delta^4)}$$"
   ]
  },
  {
   "cell_type": "markdown",
   "id": "e7a6cfaa-d0dd-483b-a9b7-f90b85640d1a",
   "metadata": {},
   "source": [
    "$$\\implies \\psi(x+\\delta) + \\psi(x-\\delta) - 2\\psi(x) =-\\delta^2 k^2(x)\\psi(x) - \\frac{\\delta^2}{12}\\left[k^2(x+\\delta)\\psi(x+\\delta) + k^2(x-\\delta)\\psi(x-\\delta) - 2k^2(x)\\psi(x)\\right] + \\mathcal{O(\\delta^4)}$$"
   ]
  },
  {
   "cell_type": "markdown",
   "id": "03d16089-e35a-4bc3-9f38-1ed234bd66f9",
   "metadata": {},
   "source": [
    "$$\\implies \\psi(x+\\delta) + \\frac{\\delta^2}{12}k^2(x+\\delta)\\psi(x+\\delta) = 2\\psi(x) -\\delta^2 k^2(x)\\psi(x) + \\frac{\\delta^2}{12}2k^2(x)\\psi(x) -\\psi(x-\\delta) - \\frac{\\delta^2}{12} k^2(x-\\delta)\\psi(x-\\delta) + \\mathcal{O(\\delta^4)}$$"
   ]
  },
  {
   "cell_type": "markdown",
   "id": "d5c434fc-58b7-4e91-8a6e-27e11486fd41",
   "metadata": {},
   "source": [
    "$$\\implies \\left[1 + \\frac{\\delta^2}{12}k^2(x+\\delta)\\right]\\psi(x+\\delta) = \\left[2  + \\frac{\\delta^2k^2(x) -6\\delta^2 k^2(x)}{6}\\right]\\psi(x) -\\left[1 + \\frac{\\delta^2}{12} k^2(x-\\delta)\\right]\\psi(x-\\delta) + \\mathcal{O(\\delta^4)}$$"
   ]
  },
  {
   "cell_type": "markdown",
   "id": "8d74b649-1ade-47bf-8f6d-91a17ac86a39",
   "metadata": {},
   "source": [
    "$$\\implies \\left[1 + \\frac{\\delta^2}{12}k^2(x+\\delta)\\right]\\psi(x+\\delta) = 2\\left[1  - \\frac{5\\delta^2}{12} k^2(x)\\right]\\psi(x) -\\left[1 + \\frac{\\delta^2}{12} k^2(x-\\delta)\\right]\\psi(x-\\delta) + \\mathcal{O(\\delta^4)} \\ ,$$"
   ]
  },
  {
   "cell_type": "markdown",
   "id": "6575ab14-986b-43d3-8bcd-3673f8e5dbb4",
   "metadata": {},
   "source": [
    "consideraremos $\\mathcal{O(\\delta^4)} \\approx 0$, assim"
   ]
  },
  {
   "cell_type": "markdown",
   "id": "3c490626-28e5-4a10-8fc1-0b9ef54e0ed6",
   "metadata": {},
   "source": [
    "$$\\left[1 + \\frac{\\delta^2}{12}k^2(x+\\delta)\\right]\\psi(x+\\delta) = 2\\left[1  - \\frac{5\\delta^2}{12} k^2(x)\\right]\\psi(x) -\\left[1 + \\frac{\\delta^2}{12} k^2(x-\\delta)\\right]\\psi(x-\\delta)$$"
   ]
  },
  {
   "cell_type": "markdown",
   "id": "abefc3de-6d23-4e0f-8ef0-23bf6b5bceba",
   "metadata": {},
   "source": [
    "$$\\therefore \\ \\boxed{\\psi(x+\\delta) = \\frac{2\\left[1  - \\frac{5\\delta^2}{12} k^2(x)\\right]\\psi(x) -\\left[1 + \\frac{\\delta^2}{12} k^2(x-\\delta)\\right]\\psi(x-\\delta)}{\\left[1 + \\frac{\\delta^2}{12}k^2(x+\\delta)\\right]}} \\ . \\tag{1.6}$$"
   ]
  },
  {
   "cell_type": "markdown",
   "id": "eb15b08b-b861-4add-ad8c-9f897b607b3d",
   "metadata": {},
   "source": [
    "$\\quad$ Nosso objetivo é resolver uma equação de autovalor, a técnica de integração numérica da equação de Schrödinger unidimensional para uma partícula em um poço, precisará de um chute inicial para os autovalores (a energia $E$) e os dois pontos respectivos das autofunções. Para a escolha do valor arbitrário da energia $E$, devemos lembrar da relação de incerteza de Heisenberg, que diz que a energia $E$ de uma partícula em um poço de potencial $V(x)$ deve ser maior que o valor mínimo do poço, ou seja, $E_{initial} = V_{min} + \\Delta E$, em que $\\Delta E > 0$.\n",
    "\n",
    "$\\quad$ A escolha desse valor determinará os pontos do retorno da partícula, que para encontrá-los basta igualar o valor arbitrário $E$ e o potencial $V(x)$. Fazendo isso, encontrará dois pontos de retorno da partícula $x_r$ e $x_l$. Na Mecânica Clássica, a região $[x_r, \\ x_l]$ será a única região onde a partícula poderá ficar. Em outras palavras, a partícula é restrita a se manter nessa região, enquanto as regiões além desses pontos ($x<x_r$ e $x>x_l$ ) são chamadas na mecânica clássica de regiões proibidas.\n",
    "\n",
    "$\\quad$  No entanto, na Mecânica Quântica é possível da partícula se encontrar além dos pontos de retorno, ou seja, a equação Schrödinger possui solução nessas regiões. Assim, cada valor de energia possui uma autofunção associada, as quais terão solução na região proibida, no entanto, ela tenderá a zero.\n",
    "Dessa forma, esses pontos, onde a autofunção se anula, são os pontos de contorno $a$ e $b$, onde $b>a$, do domínio de integração.\n",
    "\n",
    "$\\quad$ O método de Numerov requer um esquema de interação usando a Equação **(1.6)**, que a partir do ponto $a$ para a direita, criará uma função que até um ponto ($x_{match}$), e do ponto $b$ para a esquerda, criará outra função até esse mesmo ponto. Sendo assim, teremos duas funções, $\\psi^{\\ l}(x)$ e $\\psi^{\\ r}(x)$, a primeira virá da esquerda e a outra da direita, a partir dos pontos $a$ e $b$, respectivamente."
   ]
  },
  {
   "cell_type": "markdown",
   "id": "e9af4679-c39b-446e-8ed8-8698e9e73178",
   "metadata": {},
   "source": [
    "### 1.3 Construindo o Algoritmo"
   ]
  },
  {
   "cell_type": "markdown",
   "id": "01ca64ef-0d15-4349-beb6-96342ec2d510",
   "metadata": {},
   "source": [
    "$\\quad$ Diante do que foi dito, devemos escolher um valor inicial para $E$, obter duas soluções, uma pela esquerda, $\\psi^{\\ l}(x)$ e uma pela direita, $\\psi^{\\ l}(x)$, nas quais devemos começar com os dois pontos consecutivos iniciais e aplicar na Equação **(1.6)** para obter o resto da solução. Em seguida, explicitaremos o que deve ser feito."
   ]
  },
  {
   "cell_type": "markdown",
   "id": "38104b79-6bee-45e9-9ff5-c2bb9cc22084",
   "metadata": {},
   "source": [
    "#### Solução pela esquerda ($x < x_{match}$)"
   ]
  },
  {
   "cell_type": "markdown",
   "id": "bb5f6be7-c461-4441-8821-9475f80bde01",
   "metadata": {},
   "source": [
    "$\\quad$ Dado o chute inicial para energia, deve-se encontrar os pontos de retorno para esta, assim podemos escolher um desses pontos como o $x_{match}$. Em seguida, devemos definir os dois pontos iniciais consecutivos da solução $\\psi^{\\ l}(x)$ como:"
   ]
  },
  {
   "cell_type": "markdown",
   "id": "342609f3-b14f-48a9-b147-7faeb318329a",
   "metadata": {},
   "source": [
    "$$  {\\begin{cases}\n",
    "        \\psi^{\\ l}(a) = 0\\\\\n",
    "        \\\\\n",
    "        \\psi^{\\ l}(a+\\delta) = \\delta^{\\ l}, \\ (\\delta^{\\ l} \\ll 1)\n",
    "        \\end{cases}\n",
    "        } \\ ,$$"
   ]
  },
  {
   "cell_type": "markdown",
   "id": "026d3ba1-aa1c-4866-a8f5-55940101469e",
   "metadata": {},
   "source": [
    "as quais, o $\\delta$ é o passo de integração e $\\delta^l$ é um valor muito pequeno. Note que igualamos o $\\psi^l(a+\\delta)$ a um valor muito pequeno, pois como estamos dividindo a função em intervalos muito pequenos ($\\delta$), o próximo ponto consecutivo de zero ($\\psi^l=0$) será um número muito próximo de zero. \n",
    "\n",
    "$\\quad$ Definidos esses pontos iniciais, basta aplicar a Equação **(1.6)**, que obtém cada ponto da solução sequencialmente até $x_{match}$."
   ]
  },
  {
   "cell_type": "markdown",
   "id": "b43fff1a-ce2d-4d52-a64b-003e1c8932b8",
   "metadata": {},
   "source": [
    "#### Solução pela Direita ($x>x_{match}$)"
   ]
  },
  {
   "cell_type": "markdown",
   "id": "ab456598-2519-47e9-8d0b-84fc337cacd4",
   "metadata": {},
   "source": [
    "$\\quad$ Análogo ao processo explicado anteriormente, com o mesmo valor de energia e o mesmo $x_{match}$, definimos os dois pontos iniciais consecutivos da solução $\\psi^{\\ r}(x)$ como"
   ]
  },
  {
   "cell_type": "markdown",
   "id": "5a7f41d2-30b0-4ef6-82aa-6ad6d3be37ba",
   "metadata": {},
   "source": [
    "$$  {\\begin{cases}\n",
    "        \\psi^{\\ r}(b) = 0\\\\\n",
    "        \\\\\n",
    "        \\psi^{\\ r}(b-\\delta) = \\delta^{\\ r}, \\ (\\delta^{\\ r} \\ll 1)\n",
    "        \\end{cases}\n",
    "        } \\ .$$"
   ]
  },
  {
   "cell_type": "markdown",
   "id": "d5760a9d-cc38-44d8-a801-6f4057647d19",
   "metadata": {},
   "source": [
    "$\\quad$ Dessa forma, aplicando a Equação **(1.6)** obtêm a solução $\\psi^{\\ r}(x)$ até $x_{match}$.\n",
    "\n",
    "$\\quad$ Note que a construção das duas soluções termina em $x_{match}$ e nesse ponto estas devem ser iguais nesse ponto, garantindo a continuidade da solução,"
   ]
  },
  {
   "cell_type": "markdown",
   "id": "6276b3c4-81f2-4475-922e-ed5fd6934459",
   "metadata": {},
   "source": [
    "$$\\psi^{\\ l}(x_{match}) = \\psi^{\\ r}(x_{match}) \\ ,\\tag{1.7}$$"
   ]
  },
  {
   "cell_type": "markdown",
   "id": "d2375d5f-cded-4405-a780-0b7a646e20b9",
   "metadata": {},
   "source": [
    "no entanto nem sempre as soluções possíveis atendem a essa condição, então, para garantir a continuidade da solução, redefiniremos o $\\psi^{\\ l}$ da seguinte forma,"
   ]
  },
  {
   "cell_type": "markdown",
   "id": "3ac8dc3a-d8c9-4f29-9d32-74af0c349517",
   "metadata": {},
   "source": [
    "$$ \\psi^{\\ l}(x) \\rightarrow \\psi^{\\ l}(x)\\frac{\\psi^{\\ r}(x_{match})}{\\psi^{\\ l}(x_{match})} \\ ,\\tag{1.8}$$"
   ]
  },
  {
   "cell_type": "markdown",
   "id": "fe88491c-6df9-48db-8108-ea6de06ee4b3",
   "metadata": {},
   "source": [
    "na qual $a \\leq x \\leq x_{match}$.\n",
    "\n",
    "$\\quad$ Feito isso, deve verificar se as derivadas primeiras das soluções são tão próximas quanto queremos, no ponto $x_{match}$, ou seja, a diferença entre essas duas derivadas deve ser menor que $\\epsilon$, esse valor nós escolhemos. Dessa forma, deve determinar a derivada das soluções no ponto $x_{match}$ numericamente e verificar se o módulo da diferença é menor que o erro que escolhemos. Para calcular as derivadas numericamente, basta aplicar as seguintes equações:"
   ]
  },
  {
   "cell_type": "markdown",
   "id": "623b5cc5-ec98-4c11-a373-d2aa16839425",
   "metadata": {},
   "source": [
    "$$  {\\begin{cases}\n",
    "        \\frac{d\\psi^{\\ l}}{dx}\\vert_{x_{match}} = \\frac{\\psi^{\\ l}(x_{match} + \\delta) - \\psi^{\\ l}(x_{match} - \\delta)}{2\\delta}\\\\\n",
    "        \\\\\n",
    "        \\frac{d\\psi^{\\ r}}{dx}\\vert_{x_{match}} = \\frac{\\psi^{\\ r}(x_{match} + \\delta) - \\psi^{\\ r}(x_{match} - \\delta)}{2\\delta}\n",
    "        \\end{cases}\n",
    "        } \\ . \\tag{1.9}$$"
   ]
  },
  {
   "cell_type": "markdown",
   "id": "372b81b6-f2d2-434f-b8cf-f7e269f3b54f",
   "metadata": {},
   "source": [
    "$\\quad$ Caso a diferença entre as derivadas for menor que o erro escolhido, então encontramos o nosso autovalor e a respectiva autofunção. Porém, se a condição de continuidade não for atendida, então devemos aumentar o valor da energia e recomeçar todo o processo novamente. Isso deve ser feito até encontrar os autovalores e as autofunções. Vale ressaltar que esse procedimento pode ser repetido até o número desejado de autovalores e autofunções do problema. Devido ao método ser baseado na expansão de série Taylor até a quarta ordem, e por isso seu erro é muito pequeno comparado a outros métodos baseados em expansão de ordem inferior."
   ]
  },
  {
   "cell_type": "markdown",
   "id": "a43dfde4-8e6f-4229-9430-7103b0b614a3",
   "metadata": {},
   "source": [
    "### 1.4 Resumindo o Método de Numerov"
   ]
  },
  {
   "cell_type": "markdown",
   "id": "b48e8618-e8c0-4b73-ad58-dc3d30f861bf",
   "metadata": {},
   "source": [
    "$\\quad$ Aqui nessa seção resumiremos tudo o que foi dito sobre método numérico de Numerov em passos para poder aplicá-lo:"
   ]
  },
  {
   "cell_type": "markdown",
   "id": "8724ff79-a517-4cd3-8940-1afd29d9dc3b",
   "metadata": {},
   "source": [
    "* 1ª Passo: Se deve dar um chute inicial para o valor da energia $E$ e os pontos consecutivos de cada solução, como foi definido anteriormente.\n",
    "* 2ª Passo: Com o valor inicial da energia, devemos determinar os pontos de retorno $x_l$ e $x_r$, após isso escolher quando o $x_{match}$.\n",
    "* 3ª Passo: Com a Equação **(1.6)** deve-se determinar as soluções $\\psi^{\\ l}(x)$ e $\\psi^{\\ r}(x)$, a partir dos pontos consecutivos até $x_{match}$.\n",
    "* 4ª Passo: Verificar a condição de continuidade ($\\frac{d\\psi^{\\ l}}{dx}\\vert_{x_{match}} = \\frac{d\\psi^{\\ r}}{dx}\\vert_{x_{match}}$), ou seja, verificar se a diferença das derivadas de primeira ordem de $\\psi^{\\ l}(x)$ e $\\psi^{\\ r}(x)$ atingi a precisão que queremos. Caso não seja satisfeita, então devemos aumentar o valor da energia e voltarmos ao primeiro passo.\n",
    "* 5ª Passo: Se o quarto passo for satisfeito, então encontramos um autovalor e sua respectiva autofunção. Assim, caso queiramos, podemos ir atrás dos outros autoestados do problema. Além disso, a quantidade de vezes que a autofunção passa pelo zero indica em qual nível está pertence o autoestado encontrado."
   ]
  },
  {
   "cell_type": "markdown",
   "id": "422db25e-1793-4a5d-b446-edf31bfaf778",
   "metadata": {},
   "source": [
    "## 2. Problema do Átomo de Hidrogênio"
   ]
  },
  {
   "cell_type": "markdown",
   "id": "7da3a798-a929-46bb-8ef1-fe615d3cfeaa",
   "metadata": {},
   "source": [
    "$\\quad$ Agora, após descrito todo o método numérico de Numerov, agora podemos aplicá-lo em algum problema. O primeiro problema que solucionaremos com este método é o problema do Átomo de Hidrogênio. Para este problema, consideraremos uma partícula de massa $m$ sobre a ação de um campo elétrico coulombiano, como o elétron no átomo de hidrogênio. Então, a equação radial de Schrödinger para este caso é"
   ]
  },
  {
   "cell_type": "markdown",
   "id": "3bc31245-70aa-4647-bcd3-45ca6ddb04f2",
   "metadata": {},
   "source": [
    "$$ \\frac{d^2 R(r)}{dr^2} + \\frac{2}{r} \\frac{dR(r)}{dr} + \\frac{2m}{\\hbar^2} \\left[E + \\frac{e^2}{r} - \\frac{\\hbar^2}{2m} \\frac{l(l+1)}{r^2} \\right] R(r) = 0 \\ .\\tag{2.1} $$"
   ]
  },
  {
   "cell_type": "markdown",
   "id": "67bb5227-5f42-4387-be8f-cb7f57b16b6b",
   "metadata": {},
   "source": [
    "$\\quad$ A seguir faremos as seguintes substituições, $r=x a_B$, em que $a_B = \\frac{\\hbar^2}{me^2}$ é o raio de Bohr, e também $\\psi(x) = R(r)$. Conseguinte a Equação **(2.1)** pode ser reescrita como"
   ]
  },
  {
   "cell_type": "markdown",
   "id": "e825bd6d-e6b8-4aca-8c77-48e959a760f0",
   "metadata": {},
   "source": [
    "$$\\frac{1}{a_B^2}\\frac{d^2 \\psi(x)}{dx^2} + \\frac{2}{xa_B} \\frac{1}{a_B}\\frac{d\\psi(x)}{dx} + \\frac{2}{e^2a_B} \\left[E + \\frac{e^2}{xa_B} - \\frac{e^2a_B}{2} \\frac{l(l+1)}{x^2a_B^2} \\right] \\psi(x) = 0$$"
   ]
  },
  {
   "cell_type": "markdown",
   "id": "d6b72c5b-030c-44a7-9310-7329f4e90b8b",
   "metadata": {},
   "source": [
    "$$ \\implies \\frac{1}{a_B^2}\\left\\{ \\frac{d^2 \\psi(x)}{dx^2} + \\frac{2}{x}\\frac{d\\psi(x)}{dx} +  \\frac{2}{e^2a_B}\\left[Ea_B^2 + \\frac{e^2a_B}{x} - \\frac{e^2a_B}{2} \\frac{l(l+1)}{x^2} \\right] \\psi(x) \\right\\}= 0 $$"
   ]
  },
  {
   "cell_type": "markdown",
   "id": "b0057c56-4142-46a0-8735-470959527f6a",
   "metadata": {},
   "source": [
    "$$ \\implies \\frac{d^2 \\psi(x)}{dx^2} + \\frac{2}{x}\\frac{d\\psi(x)}{dx} +  \\frac{2}{e^2a_B}\\left[Ea_B^2 + \\frac{e^2a_B}{x} - \\frac{e^2a_B}{2}\\frac{l(l+1)}{x^2} \\right] \\psi(x)= 0$$"
   ]
  },
  {
   "cell_type": "markdown",
   "id": "6042f680-c9c9-44eb-bd72-fd5c475f1e6d",
   "metadata": {},
   "source": [
    "$$ \\implies \\frac{d^2\\psi(x)}{dx^2} + \\frac{2}{x}\\frac{d\\psi(x)}{dx} +  \\left[\\frac{2Ea_B}{e^2} + \\frac{2}{x} - \\frac{l(l+1)}{x^2} \\right]\\psi(x)= 0 \\ ,$$"
   ]
  },
  {
   "cell_type": "markdown",
   "id": "99107f97-8597-4e96-84f3-371ee72664e6",
   "metadata": {},
   "source": [
    "faremos as seguintes substituições $\\epsilon = \\frac{2Ea_B}{e^2}$ e $V(x) = \\frac{l(l+1)}{x^2} - \\frac{2}{x}$, são, respectivamente, a energia e o potencial efetivo em unidade atômicas, então"
   ]
  },
  {
   "cell_type": "markdown",
   "id": "77d83bd3-7c58-414f-8cd4-d69919f324e5",
   "metadata": {},
   "source": [
    "$$ \\frac{d^2\\psi(x)}{dx^2} = - \\frac{2}{x}\\frac{d\\psi(x)}{dx} - \\left[\\epsilon - V(x)\\right] \\psi(x) \\tag{2.2}$$"
   ]
  },
  {
   "cell_type": "markdown",
   "id": "5d67557d-0dd1-461f-ad2f-62920c884e9d",
   "metadata": {},
   "source": [
    "### 2.2 Encontrando a Relação de Recorrência"
   ]
  },
  {
   "cell_type": "markdown",
   "id": "9977ec7c-0b29-4219-8c3a-e434da48be2c",
   "metadata": {},
   "source": [
    "$\\quad$ Note que essa equação diferencial possui um termo de derivada de primeira ordem, mesmo que o método de Numerov tenha sido feito para solucionar equações diferenciais sem a informação dessa deriva, podemos solucionar esse tio de equação diferencial. No entanto, primeiramente teremos que encontrar a relação de recorrência para esse problema, e depois aplicarmos o método. Para isso, expressaremos a Equação **(2.2)** da seguinte forma"
   ]
  },
  {
   "cell_type": "markdown",
   "id": "dd6732eb-7148-41e9-9440-b26e76ad3253",
   "metadata": {},
   "source": [
    "$$ \\frac{d^2\\psi(x)}{dx^2} = -p(x)\\frac{d\\psi(x)}{dx} - s(x) \\psi(x) \\ ,\\tag{2.3}$$"
   ]
  },
  {
   "cell_type": "markdown",
   "id": "2ade0575-0f4b-492a-abf3-805ef4ea2fc5",
   "metadata": {},
   "source": [
    "em que $p(x) = \\frac{2}{x}$ e $s(x) = \\epsilon - V(x)$. Agora multiplicaremos as Equação **(2.3)** pelo termo $\\left(1 + \\frac{\\delta^2}{12}\\frac{d^2}{dx^2} \\right)$, assim"
   ]
  },
  {
   "cell_type": "markdown",
   "id": "5fb88352-9eca-407f-8f8b-4104e9d83fdf",
   "metadata": {},
   "source": [
    "$$\\left(1 + \\frac{\\delta^2}{12}\\frac{d^2}{dx^2} \\right)\\frac{d^2\\psi(x)}{dx^2} =\\left(1 + \\frac{\\delta^2}{12}\\frac{d^2}{dx^2} \\right)\\left[ -p(x)\\frac{d\\psi(x)}{dx} - s(x) \\psi(x) \\right]$$"
   ]
  },
  {
   "cell_type": "markdown",
   "id": "ea373c2f-9ca2-4d19-898e-282d1efc3d7c",
   "metadata": {},
   "source": [
    "$$\\implies \\left(1 + \\frac{\\delta^2}{12}\\frac{d^2}{dx^2} \\right)\\frac{d^2\\psi(x)}{dx^2} = -p(x)\\frac{d\\psi(x)}{dx} - s(x) \\psi(x) - \\frac{\\delta^2}\n",
    "{12}\\frac{d^2}{dx^2}\\left[p(x)\\frac{d\\psi(x)}{dx} + s(x) \\psi(x) \\right] \\ . \\tag{2.4}$$"
   ]
  },
  {
   "cell_type": "markdown",
   "id": "ddb6c976-a9d2-4562-a39f-dd3249393397",
   "metadata": {},
   "source": [
    "$\\quad$ Na Equação **(1.4)** podemos fazer a seguinte troca $\\psi(x) \\rightarrow p(x)\\frac{d\\psi(x)}{dx} + s(x) \\psi(x)$, assim podemos reescreve-la da seguinte forma,"
   ]
  },
  {
   "cell_type": "markdown",
   "id": "4b570ab3-574f-45e7-b25d-ad5b7cc64056",
   "metadata": {},
   "source": [
    "$$\\frac{d^2}{dx^2}\\left[p(x)\\frac{d\\psi(x)}{dx} + s(x) \\psi(x) \\right]  = \\frac{1}{\\delta^2}\\left[p(x+\\delta)\\frac{d\\psi(x+\\delta)}{dx} + s(x+\\delta) \\psi(x+\\delta) + p(x-\\delta)\\frac{d\\psi(x-\\delta)}{dx} + s(x-\\delta) \\psi(x-\\delta) - 2p(x)\\frac{d\\psi(x)}{dx} - 2s(x) \\psi(x)\\right] - \\frac{\\delta^2}{12}\\psi^{(4)}(x) \\ ,$$"
   ]
  },
  {
   "cell_type": "markdown",
   "id": "5d31470e-94da-4411-94ed-0bdcd6073f73",
   "metadata": {},
   "source": [
    "substituindo as derivadas de primeira ordem com suas respectivas aproximações,"
   ]
  },
  {
   "cell_type": "markdown",
   "id": "684c95c0-04e7-47df-9d96-df36d617414e",
   "metadata": {},
   "source": [
    "$$  {\\begin{cases}\n",
    "        \\frac{d\\psi(x)}{dx} = \\frac{\\psi(x+\\delta) - \\psi(x-\\delta)}{2\\delta}\\\\\n",
    "        \\\\\n",
    "        \\frac{d\\psi(x+\\delta)}{dx} = \\frac{\\psi(x+\\delta) - \\psi(x)}{\\delta}\\\\\n",
    "        \\\\\n",
    "        \\frac{d\\psi(x-\\delta)}{dx} = \\frac{\\psi(x) - \\psi(x-\\delta)}{\\delta}\\\\\n",
    "        \\end{cases}\n",
    "        } \\ .$$"
   ]
  },
  {
   "cell_type": "markdown",
   "id": "ee081b9d-bb0f-41f1-83c3-5f57fa0f0f64",
   "metadata": {},
   "source": [
    "Assim teremos que,"
   ]
  },
  {
   "cell_type": "markdown",
   "id": "6d4b0985-81b7-438d-803d-3a17052bdae7",
   "metadata": {},
   "source": [
    "$$\\frac{d^2}{dx^2}\\left[p(x)\\frac{d\\psi(x)}{dx} + s(x) \\psi(x) \\right]  = \\frac{1}{\\delta^2}\\left\\{p(x+\\delta)\\left[\\frac{\\psi(x+\\delta) - \\psi(x)}{\\delta}\\right] + s(x+\\delta) \\psi(x+\\delta)\\right\\} +$$"
   ]
  },
  {
   "cell_type": "markdown",
   "id": "b5fcc1c0-fd1c-451d-a277-0708e37ad0b3",
   "metadata": {},
   "source": [
    "$$ + \\frac{1}{\\delta^2}\\left\\{p(x-\\delta)\\left[\\frac{\\psi(x) - \\psi(x-\\delta)}{\\delta}\\right] + s(x-\\delta) \\psi(x-\\delta)\\right\\} - \\frac{1}{\\delta^2}\\left\\{2p(x)\\left[\\frac{\\psi(x+\\delta) - \\psi(x-\\delta)}{2\\delta} \\right]+ 2s(x) \\psi(x)\\right\\} - \\frac{\\delta^2}{12}\\psi^{(4)}(x)$$"
   ]
  },
  {
   "cell_type": "markdown",
   "id": "e848ac8a-7f65-4a36-a9a7-4ad44419769b",
   "metadata": {},
   "source": [
    "$$\\implies \\frac{d^2}{dx^2}\\left[p(x)\\frac{d\\psi(x)}{dx} + s(x) \\psi(x) \\right]  = \\frac{1}{\\delta^2}\\left[p(x+\\delta)\\frac{\\psi(x+\\delta)}{\\delta} - p(x+\\delta)\\frac{\\psi(x)}{\\delta} + s(x+\\delta) \\psi(x+\\delta)\\right] +$$"
   ]
  },
  {
   "cell_type": "markdown",
   "id": "cdae02c9-f2d8-41a6-acad-bfaa75f54994",
   "metadata": {},
   "source": [
    "$$ + \\frac{1}{\\delta^2}\\left[p(x-\\delta)\\frac{\\psi(x)}{\\delta} - p(x-\\delta)\\frac{\\psi(x-\\delta)}{\\delta} + s(x-\\delta) \\psi(x-\\delta)\\right] - \\frac{1}{\\delta^2}\\left[p(x)\\frac{\\psi(x+\\delta)}{\\delta} - p(x)\\frac{\\psi(x-\\delta)}{\\delta}+ 2s(x) \\psi(x)\\right] - \\frac{\\delta^2}{12}\\psi^{(4)}(x) \\, $$"
   ]
  },
  {
   "cell_type": "markdown",
   "id": "68d1fb57-a857-4215-b22b-5dc193817649",
   "metadata": {},
   "source": [
    "aplicando a regra do produto notável, temos"
   ]
  },
  {
   "cell_type": "markdown",
   "id": "9f22b864-54dd-4b4b-9b20-f2ac20ceabc6",
   "metadata": {},
   "source": [
    "$$\\frac{d^2}{dx^2}\\left[p(x)\\frac{d\\psi(x)}{dx} + s(x) \\psi(x) \\right]  = \\frac{1}{\\delta^2}\\left\\{\\left[\\frac{p(x+\\delta) - p(x)}{\\delta} + s(x+\\delta)\\right]\\psi(x+\\delta) + \\left[ \\frac{p(x) - p(x-\\delta)}{\\delta} + s(x-\\delta)\\right]\\psi(x-\\delta)\\right\\} + $$"
   ]
  },
  {
   "cell_type": "markdown",
   "id": "401df410-c534-4dd1-9c53-90406a33c46a",
   "metadata": {},
   "source": [
    "$$- \\frac{2}{\\delta^2}\\left[\\frac{p(x+\\delta) - p(x-\\delta)}{2\\delta}+ s(x)\\right]\\psi(x) - \\frac{\\delta^2}{12}\\psi^{(4)}(x) \\ .$$"
   ]
  },
  {
   "cell_type": "markdown",
   "id": "83a1eb08-d879-48a3-9df3-d2f31a5b8b9f",
   "metadata": {},
   "source": [
    "$\\quad$ Note que, podemos fazer as seguintes substituições,"
   ]
  },
  {
   "cell_type": "markdown",
   "id": "372b4818-1f39-47b8-b160-9c4fe318c75e",
   "metadata": {},
   "source": [
    "$$  {\\begin{cases}\n",
    "        \\frac{p(x+\\delta) - p(x-\\delta)}{2\\delta} = \\frac{dp(x)}{dx}\\\\\n",
    "        \\\\\n",
    "        \\frac{p(x+\\delta) - p(x)}{\\delta} = \\frac{dp(x)}{dx}\\\\\n",
    "        \\\\\n",
    "        \\frac{p(x) - p(x-\\delta)}{\\delta} = \\frac{dp(x)}{dx}\\\\\n",
    "        \\end{cases}\n",
    "        } \\ .$$"
   ]
  },
  {
   "cell_type": "markdown",
   "id": "46db3188-228f-461f-8a23-cc2c912703bd",
   "metadata": {},
   "source": [
    "$\\quad$ Assim,"
   ]
  },
  {
   "cell_type": "markdown",
   "id": "8ae7b698-0e99-4eda-9da6-838682334ca1",
   "metadata": {},
   "source": [
    "$$\\frac{d^2}{dx^2}\\left[p(x)\\frac{d\\psi(x)}{dx} + s(x) \\psi(x) \\right]  = \\frac{1}{\\delta^2}\\left\\{\\left[\\frac{dp(x)}{dx} + s(x+\\delta)\\right]\\psi(x+\\delta) + \\left[\\frac{dp(x)}{dx} + s(x-\\delta)\\right]\\psi(x-\\delta) - 2\\left[\\frac{dp(x)}{dx}+ s(x)\\right]\\psi(x)\\right\\} - \\frac{\\delta^2}{12}\\psi^{(4)}(x) \\ . \\tag{2.5}$$"
   ]
  },
  {
   "cell_type": "markdown",
   "id": "3b7b9ee6-1263-4636-b561-4afa060da3bd",
   "metadata": {},
   "source": [
    "$\\quad$ Agora, substituiremos as Equações **(1.4)** e **(2.5)** na Equação **(2.4)**, além disso, o termo que é derivada primeira de $\\psi(x)$ vamos por na forma numérica. Logo,"
   ]
  },
  {
   "cell_type": "markdown",
   "id": "a4c8e564-570f-4b5e-8229-58c4f001ac4d",
   "metadata": {},
   "source": [
    "$$\\frac{\\psi(x+\\delta) + \\psi(x-\\delta) - 2\\psi(x)}{\\delta^2}= -p(x)\\left[\\frac{\\psi(x+\\delta) - \\psi(x-\\delta)}{2\\delta}\\right] - s(x) \\psi(x) -\\frac{\\delta^2}{12}\\frac{1}{\\delta^2}\\left[\\frac{dp(x)}{dx} + s(x+\\delta)\\right]\\psi(x+\\delta) \\ + $$"
   ]
  },
  {
   "cell_type": "markdown",
   "id": "d9f5ade0-f64c-4e12-927b-c08a13b0260f",
   "metadata": {},
   "source": [
    "$$- \\ \\frac{\\delta^2}{12}\\frac{1}{\\delta^2}\\left\\{\\left[\\frac{dp(x)}{dx} + s(x-\\delta)\\right]\\psi(x-\\delta) - 2\\left[\\frac{dp(x)}{dx}+ s(x)\\right]\\psi(x)\\right\\} - \\frac{\\delta^2}{12}\\frac{\\delta^2}{12}\\psi^{(4)}(x)$$"
   ]
  },
  {
   "cell_type": "markdown",
   "id": "7c726df9-519e-4a32-98d0-5372435ea70c",
   "metadata": {},
   "source": [
    "$$\\implies \\frac{\\psi(x+\\delta) + \\psi(x-\\delta) - 2\\psi(x)}{\\delta^2}= -p(x)\\left[\\frac{\\psi(x+\\delta) - \\psi(x-\\delta)}{2\\delta}\\right] - s(x) \\psi(x) - \\frac{1}{12}\\left[\\frac{dp(x)}{dx} + s(x+\\delta)\\right]\\psi(x+\\delta) \\ +$$"
   ]
  },
  {
   "cell_type": "markdown",
   "id": "355a8a69-f74e-4b08-95ca-bc6aa2b9f57f",
   "metadata": {},
   "source": [
    "$$- \\ \\frac{1}{12}\\left[\\frac{dp(x)}{dx} + s(x-\\delta)\\right]\\psi(x-\\delta) + \\frac{1}{6}\\left[\\frac{dp(x)}{dx}+ s(x)\\right]\\psi(x)- \\frac{\\delta^4}{144}\\psi^{(4)}(x) \\ .$$"
   ]
  },
  {
   "cell_type": "markdown",
   "id": "fd07e427-8d15-44d4-980e-c910f876646f",
   "metadata": {},
   "source": [
    "$\\quad$ Observe que $\\frac{\\delta^4}{144}\\psi^{(4)}(x) = \\mathcal{O(\\delta^4)} $, que como foi feito na seção anterior, consideraremos este termo nulo. Então, agora isolaremos o termo $\\psi(x+\\delta)$, feito finalmente teremos a relação de recorrência,"
   ]
  },
  {
   "cell_type": "markdown",
   "id": "ff3c3c73-0fbc-4cf1-b085-41730155e1b8",
   "metadata": {},
   "source": [
    "$$\\frac{\\psi(x+\\delta)}{\\delta^2} + p(x)\\frac{\\psi(x+\\delta)}{2\\delta} + \\frac{1}{12}\\left[\\frac{dp(x)}{dx} + s(x+\\delta)\\right]\\psi(x+\\delta)= \\frac{2\\psi(x)}{\\delta^2} - s(x) \\psi(x)  + \\frac{1}{6}\\left[\\frac{dp(x)}{dx}+ s(x)\\right]\\psi(x) $$"
   ]
  },
  {
   "cell_type": "markdown",
   "id": "e49bdf17-6551-49f2-8708-c0b84dbf5498",
   "metadata": {},
   "source": [
    "$$ + p(x)\\frac{\\psi(x-\\delta)}{2\\delta} -\\frac{\\psi(x-\\delta)}{\\delta^2}- \\frac{1}{12}\\left[\\frac{dp(x)}{dx} + s(x-\\delta)\\right]\\psi(x-\\delta) $$"
   ]
  },
  {
   "cell_type": "markdown",
   "id": "a46e14d0-c61b-425d-a15a-c72fc359c901",
   "metadata": {},
   "source": [
    "$$\\implies \\psi(x+\\delta) \\left\\{1 +p(x)\\frac{\\delta}{2} + \\frac{\\delta^2}{12}\\left[\\frac{dp(x)}{dx} + s(x+\\delta)\\right]\\right\\}= \\left\\{2 - \\delta^2 s(x) + \\frac{\\delta^2}{6}\\left[\\frac{dp(x)}{dx}+ s(x)\\right]\\right\\}\\psi(x) + \\left\\{p(x)\\frac{\\delta}{2} -1-\\frac{\\delta^2}{12}\\left[\\frac{dp(x)}{dx} + s(x-\\delta)\\right]\\right\\}\\psi(x-\\delta)$$"
   ]
  },
  {
   "cell_type": "markdown",
   "id": "33a71380-62e5-4c89-b263-7f520d9e29a3",
   "metadata": {},
   "source": [
    "$$\\implies \\psi(x+\\delta) \\left\\{1 +p(x)\\frac{\\delta}{2} + \\frac{\\delta^2}{12}\\left[\\frac{dp(x)}{dx} + s(x+\\delta)\\right]\\right\\}= \\left[2 + \\frac{\\delta^2}{6}\\frac{dp(x)}{dx}- \\frac{5\\delta^2}{6}s(x)\\right]\\psi(x) - \\left\\{ 1 -p(x)\\frac{\\delta}{2} +\\frac{\\delta^2}{12}\\left[\\frac{dp(x)}{dx} + s(x-\\delta)\\right]\\right\\}\\psi(x-\\delta)$$"
   ]
  },
  {
   "cell_type": "markdown",
   "id": "ea83fa68-e541-49c1-94ac-d9f9534244c7",
   "metadata": {},
   "source": [
    "$$\\therefore \\boxed{\\psi(x+\\delta) = \\frac{2\\left\\{1 + \\frac{5\\delta^2}{12}\\left[\\frac{1}{5}\\frac{dp(x)}{dx}- s(x)\\right]\\right\\}\\psi(x) - \\left\\{ 1 -p(x)\\frac{\\delta}{2} +\\frac{\\delta^2}{12}\\left[\\frac{dp(x)}{dx} + s(x-\\delta)\\right]\\right\\}\\psi(x-\\delta)}{\\left\\{1 +p(x)\\frac{\\delta}{2} + \\frac{\\delta^2}{12}\\left[\\frac{dp(x)}{dx} + s(x+\\delta)\\right]\\right\\}}} \\ .\\tag{2.6}$$"
   ]
  },
  {
   "cell_type": "markdown",
   "id": "b721340c-6fa1-433a-b9a8-b3b1c505e7a4",
   "metadata": {},
   "source": [
    "$\\quad$ Finalmente, obtemos a equação de recorrência para o nosso problema. Assim, no quarto passo da aplicação do método, em vez de usarmos a Equação **(1.6)** para determinar as soluções, utilizaremos a Equação **(2.6)**."
   ]
  },
  {
   "cell_type": "markdown",
   "id": "020228c1-023f-4623-8c80-ef8cc422624a",
   "metadata": {},
   "source": [
    "### 2.3 Aplicando o Método de Numerov"
   ]
  },
  {
   "cell_type": "markdown",
   "id": "f6a0f817-bc9a-4a12-9b9b-870a00fd13de",
   "metadata": {},
   "source": [
    "$\\quad$ Antes de aplicarmos os passos do método definiremos algumas funções primeiro."
   ]
  },
  {
   "cell_type": "markdown",
   "id": "aa8fac7a-e949-4d65-a20c-5b20f10d9fb3",
   "metadata": {},
   "source": [
    "* Função para encontrar os pontos de retorno:"
   ]
  },
  {
   "cell_type": "markdown",
   "id": "e2d8c4fd-8596-4330-990c-3a16936f1ccd",
   "metadata": {},
   "source": [
    "$\\quad$ Note que nesse problema para o termo $\\epsilon$ na Equação **(2.2)**, se tornou a energia. Então, nosso chute inicial não será mais $E$ e sim $\\epsilon$. Definido o valor inicial de $\\epsilon$, devemos encontrar os pontos de retorno desse valor apenas igualando o termo $\\epsilon - V(x)$ à zero. Assim"
   ]
  },
  {
   "cell_type": "markdown",
   "id": "a917f4a1-cb74-4566-8505-d9f27d584260",
   "metadata": {},
   "source": [
    "$$\\epsilon - \\left[\\frac{l(l+1)}{x^2} - \\frac{2}{x}\\right] = 0 \\implies \\epsilon = \\frac{l(l+1)}{x^2} - \\frac{2}{x} $$"
   ]
  },
  {
   "cell_type": "markdown",
   "id": "293be8da-d118-4447-81b2-c0ed2b002cad",
   "metadata": {},
   "source": [
    "$$\\implies \\epsilon x^2 + 2x - l(l+1)=0 \\ .$$"
   ]
  },
  {
   "cell_type": "markdown",
   "id": "cbacf44f-db9a-4454-85c7-b21f5c0d3dac",
   "metadata": {},
   "source": [
    "As posições de retornos são as raízes desse polinômio de segundo grau,"
   ]
  },
  {
   "cell_type": "markdown",
   "id": "ad2fcfa6-c86b-4261-8f77-f8cb80c7a5e6",
   "metadata": {},
   "source": [
    "$$x = \\frac{-2 \\pm \\sqrt{4+4El(l+1)}}{2E} \\implies x = \\frac{-2 \\pm 2\\sqrt{1+El(l+1)}}{2E} \\implies x = \\frac{-1 \\pm \\sqrt{1+El(l+1)}}{E} \\ .$$"
   ]
  },
  {
   "cell_type": "markdown",
   "id": "d7837701-bcb7-4ad5-bb53-ddb18fa8f04d",
   "metadata": {},
   "source": [
    "$\\quad$ Os dois pontos de retorno são,"
   ]
  },
  {
   "cell_type": "markdown",
   "id": "ff0ce643-5a4b-4d2f-a9da-4890d199e54a",
   "metadata": {},
   "source": [
    "$$  {\\begin{cases}\n",
    "        x_{out} = \\frac{-1 - \\sqrt{1+El(l+1)}}{E}\\\\\n",
    "        \\\\\n",
    "        x_{in} = \\frac{-1 + \\sqrt{1+El(l+1)}}{E}\\\\\n",
    "        \\end{cases}\n",
    "        } \\ .$$"
   ]
  },
  {
   "cell_type": "markdown",
   "id": "24593d5b-2175-4bf9-b2fb-c1d8c86f8238",
   "metadata": {},
   "source": [
    "$\\quad$ Agora definiremos duas funções para cada pontos de retorno $x_{in}$ e $x_{out}$:"
   ]
  },
  {
   "cell_type": "code",
   "execution_count": 3,
   "id": "9c606cef-2c61-4f91-9f3d-c12b72b8b04b",
   "metadata": {},
   "outputs": [],
   "source": [
    "def x_out(eps, l):\n",
    "    return (-1-np.sqrt(1+eps*l*(l+1)))/eps\n",
    "def x_in(eps, l):\n",
    "    return (-1+np.sqrt(1+eps*l*(l+1)))/eps"
   ]
  },
  {
   "cell_type": "markdown",
   "id": "23849540-b983-4b8f-b6b9-ddac98649c3e",
   "metadata": {},
   "source": [
    "Para o nosso caso usaremos o ponto de retorno $x_{out}$ como $x_{match}$."
   ]
  },
  {
   "cell_type": "markdown",
   "id": "6f8636df-f32f-41a5-aa62-0e7abb974094",
   "metadata": {},
   "source": [
    "* Função para $s(x)$, $p(x)$ e $\\frac{dp(x)}{dx}$:"
   ]
  },
  {
   "cell_type": "markdown",
   "id": "d25dfd29-7870-4c76-b190-790f3565e759",
   "metadata": {},
   "source": [
    "$\\quad$ Definiremos uma função para $s(x) = \\epsilon - V(x)$, $p(x) = \\frac{2}{x}$ e $\\frac{dp(x)}{dx} = -\\frac{2}{x^2}$, lembre-se que $V(x) = \\frac{l(l+1)}{x^2} - \\frac{2}{x}$. "
   ]
  },
  {
   "cell_type": "code",
   "execution_count": 4,
   "id": "5fb3c261-8bab-4df2-8962-7363f1311823",
   "metadata": {},
   "outputs": [],
   "source": [
    "def s(eps, l, x):\n",
    "    V = l*(l+1)/(x**2) - 2/x\n",
    "    return eps - V\n",
    "\n",
    "def p(x):\n",
    "    return 2/x\n",
    "\n",
    "def dp(x):\n",
    "    return -2/(x**2)"
   ]
  },
  {
   "cell_type": "markdown",
   "id": "24a58eaa-a3bb-43c3-920f-b4f13411c4fd",
   "metadata": {},
   "source": [
    "* Função para a equação de recorrência:"
   ]
  },
  {
   "cell_type": "markdown",
   "id": "6bb984d4-fb47-469b-a46e-54a6488288a7",
   "metadata": {},
   "source": [
    "$\\quad$ Definiremos uma função para Equação **(2.6)**, que é a equação de recorrência para esse problema, que retornará o valor do próximo valor das soluções."
   ]
  },
  {
   "cell_type": "code",
   "execution_count": 62,
   "id": "beeed3cc-bc05-4495-8030-b9bbe247072a",
   "metadata": {},
   "outputs": [],
   "source": [
    "def eq_rec(eps, l, delta, x, psi, i):\n",
    "    temp1 = 2*(1-(5*(delta**2)/12)*s(eps, l, x[i-1]))*psi[i-1]\n",
    "    temp2 = (1 + (delta**2/12)*s(eps, l, x[i-2]))*psi[i-2]\n",
    "    temp3 = 1 + (delta**2/12)*s(eps, l, x[i])\n",
    "    return (temp1 - temp2)/temp3"
   ]
  },
  {
   "cell_type": "code",
   "execution_count": 61,
   "id": "47fe9e15-3b3a-4a5c-b9ea-2828e48ca4a7",
   "metadata": {},
   "outputs": [],
   "source": [
    "def eq_rec(eps, l, delta, x, psi, i):\n",
    "    temp1 = 2*(1+(5*(delta**2)/12)*(dp(x[i-1])/5 - s(eps, l, x[i-1])))*psi[i-1]\n",
    "    temp2 = (1 - p(x[i-1])*delta/2 + (delta**2/12)*(dp(x[i-1]) + s(eps, l, x[i-2])))*psi[i-2]\n",
    "    temp3 = 1 + p(x[i-1])*delta/2 + (delta**2/12)*(dp(x[i-1]) + s(eps, l, x[i]))\n",
    "    return (temp1 - temp2)/temp3"
   ]
  },
  {
   "cell_type": "markdown",
   "id": "1875b5a2-356d-43a7-8534-d47c79fe2e97",
   "metadata": {},
   "source": [
    "* Funções para as soluções $\\psi^{\\ l}(x)$ e $\\psi^{\\ r}(x)$:"
   ]
  },
  {
   "cell_type": "markdown",
   "id": "ba03cf33-2f47-4689-92b6-41ad7fab0a0f",
   "metadata": {},
   "source": [
    "$\\quad$ Definiremos agora as funções para determinar a solução pela esquerda, $\\psi^{\\ l}(x)$, e pela direita, $\\psi^{\\ r}(x)$:"
   ]
  },
  {
   "cell_type": "markdown",
   "id": "4402d70a-2e1c-4407-aa7e-d63052544bc8",
   "metadata": {},
   "source": [
    "* Função para determinar a derivada primeira:"
   ]
  },
  {
   "cell_type": "markdown",
   "id": "5743c457-817d-4f0a-ba80-2f842ec3f472",
   "metadata": {},
   "source": [
    "$\\quad$ Essa função será importante para podermos verificar a veracidade das soluções,"
   ]
  },
  {
   "cell_type": "code",
   "execution_count": 7,
   "id": "d0be10f3-a68a-40e5-828c-a6670d729ebd",
   "metadata": {},
   "outputs": [],
   "source": [
    "def df(psi, x):\n",
    "    delta = abs(x[0]-x[1])\n",
    "    d_psi = abs(psi[len(psi)-1] - psi[len(psi)-3])/(2*delta)\n",
    "    return d_psi"
   ]
  },
  {
   "cell_type": "markdown",
   "id": "33d23230-4239-45db-b72d-d01e40defa11",
   "metadata": {},
   "source": [
    "$\\quad$ Definido essas funções, agora vamos aplicar o método numérico de Numerov. Para o nosso problema vamos considerar como chute inicial para energia $\\epsilon = -0.99$ e o $l=0$. Para $l=0$, os pontos de retorno são $x_{in} = 0$ e $x_{out} = -\\frac{2}{\\epsilon}$. Para poder visualizar melhor, vamos plotar o gráfico desse potencial:"
   ]
  },
  {
   "cell_type": "code",
   "execution_count": 75,
   "id": "b337f5c3-5547-4516-938f-b14b534863fc",
   "metadata": {},
   "outputs": [],
   "source": [
    "def plot_ticks():\n",
    "    plt.figure(figsize = (5,3))\n",
    "    plt.minorticks_on()\n",
    "    plt.tick_params(axis='x', which='both', top = True, right = True, direction = 'in', length=5, width=1)\n",
    "    plt.tick_params(axis='y', which='both', top = True, right = True, direction = 'in', length=5, width=1)"
   ]
  },
  {
   "cell_type": "code",
   "execution_count": 30,
   "id": "aad5794c-200e-498a-93f2-6357bd3bdb4d",
   "metadata": {},
   "outputs": [
    {
     "data": {
      "text/plain": [
       "Text(0.14705882352941177, -13.4, '$x_{out}$')"
      ]
     },
     "execution_count": 30,
     "metadata": {},
     "output_type": "execute_result"
    },
    {
     "data": {
      "image/png": "[encoded data removed]",
      "text/plain": [
       "<Figure size 800x500 with 1 Axes>"
      ]
     },
     "metadata": {},
     "output_type": "display_data"
    }
   ],
   "source": [
    "x = np.linspace(0.1, 10, 1000)\n",
    "V = -2/x\n",
    "plot_ticks()\n",
    "plt.plot(x, V)\n",
    "plt.ylim(-15, 0)\n",
    "plt.plot(0, -13.6, 'o', color = 'black')\n",
    "plt.text(0, -13.4, r\"$x_{in}$\", fontsize = 15)\n",
    "plt.axhline(y = -13.6,xmin = 0, xmax = 2/13.6, color = 'black', linestyle = '--')\n",
    "\n",
    "plt.plot(2/13.6, -13.6, 'o', color = 'black')\n",
    "plt.text(2/13.6, -13.4, r\"$x_{out}$\", fontsize = 15)"
   ]
  },
  {
   "cell_type": "code",
   "execution_count": 68,
   "id": "cf049e3e-0970-4c4a-bc3a-b22eb766300a",
   "metadata": {},
   "outputs": [],
   "source": [
    "def fpsi_l(a, eps, l):\n",
    "    x_0 = a #posição inicial\n",
    "    #x_match = x_out(eps, l) #ponto de encontro com a solução pela direita\n",
    "    x_match = 1\n",
    "    x = np.linspace(x_0, x_match, 10000)\n",
    "    delta = abs(x[1] - x[0])\n",
    "    \n",
    "    psi_l = np.zeros(len(x))\n",
    "    psi_l[0] = 0\n",
    "    psi_l[1] = delta\n",
    "\n",
    "    for i in range(2, len(x)):\n",
    "        psi_l[i] = eq_rec(eps, l, delta, x, psi_l, i)\n",
    "        \n",
    "    return psi_l, x\n",
    "\n",
    "def fpsi_r(b, eps, l):\n",
    "    x_0 = b #posição inicial\n",
    "    #x_match = x_out(eps, l) #ponto de encontro com a solução pela direita\n",
    "    x_match = 1\n",
    "    x = np.linspace(x_0, x_match, 10000)\n",
    "    delta = abs(x[1] - x[0])\n",
    "    psi_r = np.zeros(len(x))\n",
    "    psi_r[0] = 0\n",
    "    psi_r[1] = delta\n",
    "\n",
    "    for i in range(2, len(x)):\n",
    "        psi_r[i] = eq_rec(eps, l, delta, x, psi_r, i)\n",
    "\n",
    "    return psi_r, x"
   ]
  },
  {
   "cell_type": "markdown",
   "id": "f057fb48-ea17-4526-a63a-2778fb371a04",
   "metadata": {},
   "source": [
    "Agora vamos aplicar o método:"
   ]
  },
  {
   "cell_type": "code",
   "execution_count": 78,
   "id": "c608c90b-fb54-481e-a7d9-d6820c2eebe1",
   "metadata": {},
   "outputs": [
    {
     "name": "stdout",
     "output_type": "stream",
     "text": [
      "[-1.002349186687832, -0.9523446382775966, -0.24903236534225712, -0.19902432729952996, -0.14845676312551825, -0.11082408999607264, -0.06082162242857857, -0.004514821102818409]\n"
     ]
    }
   ],
   "source": [
    "eps = -1.3\n",
    "l = 0\n",
    "a = 0.001\n",
    "b = 60\n",
    "autovalor = []\n",
    "while eps<-0.01:\n",
    "    dpsi_l = 0\n",
    "    dpsi_r = 1\n",
    "    while abs((dpsi_l-dpsi_r)/(dpsi_r+dpsi_l)/2)>1e-4 and eps<0:\n",
    "        psi_r, x_r= fpsi_r(b, eps, l)\n",
    "        psi_l, x_l = fpsi_l(a, eps, l)\n",
    "        psi_l = psi_l*psi_r[len(psi_r)-1]/psi_l[len(psi_l)-1]\n",
    "\n",
    "        dpsi_r = df(psi_r, x_r)\n",
    "        dpsi_l = df(psi_l, x_l)\n",
    "        \n",
    "        eps_old = eps\n",
    "        eps += 0.005*abs((dpsi_l-dpsi_r)/(dpsi_r+dpsi_l)/2)\n",
    "        \n",
    "        if abs(eps_old-eps)<1e-8:\n",
    "            eps+=0.05\n",
    "    if abs(len(autovalor)) == 0:\n",
    "            autovalor.append(eps)\n",
    "        \n",
    "    if abs(autovalor[len(autovalor)-1]-eps) >1e-2:\n",
    "        autovalor.append(eps)\n",
    "        \n",
    "print(autovalor)"
   ]
  },
  {
   "cell_type": "code",
   "execution_count": 79,
   "id": "df5254aa-3666-488a-b60b-dffc95298935",
   "metadata": {
    "scrolled": true
   },
   "outputs": [
    {
     "data": {
      "image/png": "[encoded data removed]",
      "text/plain": [
       "<Figure size 500x300 with 1 Axes>"
      ]
     },
     "metadata": {},
     "output_type": "display_data"
    },
    {
     "data": {
      "image/png": "[encoded data removed]",
      "text/plain": [
       "<Figure size 500x300 with 1 Axes>"
      ]
     },
     "metadata": {},
     "output_type": "display_data"
    },
    {
     "data": {
      "image/png": "[encoded data removed]",
      "text/plain": [
       "<Figure size 500x300 with 1 Axes>"
      ]
     },
     "metadata": {},
     "output_type": "display_data"
    },
    {
     "data": {
      "image/png": "[encoded data removed]",
      "text/plain": [
       "<Figure size 500x300 with 1 Axes>"
      ]
     },
     "metadata": {},
     "output_type": "display_data"
    },
    {
     "data": {
      "image/png": "[encoded data removed]",
      "text/plain": [
       "<Figure size 500x300 with 1 Axes>"
      ]
     },
     "metadata": {},
     "output_type": "display_data"
    },
    {
     "data": {
      "image/png": "[encoded data removed]",
      "text/plain": [
       "<Figure size 500x300 with 1 Axes>"
      ]
     },
     "metadata": {},
     "output_type": "display_data"
    },
    {
     "data": {
      "image/png": "[encoded data removed]",
      "text/plain": [
       "<Figure size 500x300 with 1 Axes>"
      ]
     },
     "metadata": {},
     "output_type": "display_data"
    },
    {
     "data": {
      "image/png": "[encoded data removed]",
      "text/plain": [
       "<Figure size 500x300 with 1 Axes>"
      ]
     },
     "metadata": {},
     "output_type": "display_data"
    }
   ],
   "source": [
    "psi = np.zeros(2*len(psi_r)) #solução geral\n",
    "x = np.zeros(2*len(psi_r))\n",
    "N = len(autovalor)\n",
    "\n",
    "for i in range(N):\n",
    "    plot_ticks()\n",
    "    psi_r, x_r = fpsi_r(60, autovalor[i], l)\n",
    "    psi_l, x_l = fpsi_l(0.001, autovalor[i], l)\n",
    "    psi_l = psi_l*psi_r[len(psi_r)-1]/psi_l[len(psi_l)-1]\n",
    "    \n",
    "    for j in range(len(psi_l)):\n",
    "        psi[j] = psi_l[j]\n",
    "        x[j] = x_l[j]\n",
    "    for j in range(len(psi_r)):\n",
    "        psi[len(psi_r)+j] = psi_r[len(psi_r) - 1 - j]\n",
    "        x[len(psi_r)+j] = x_r[len(psi_r) - 1 - j]\n",
    "    plt.plot(x, psi)\n",
    "    plt.xlim(-1, 60)"
   ]
  },
  {
   "cell_type": "code",
   "execution_count": 80,
   "id": "2dc125d4-b46a-48f9-8c8d-c74e12c60122",
   "metadata": {},
   "outputs": [
    {
     "data": {
      "image/png": "[encoded data removed]",
      "text/plain": [
       "<Figure size 1000x300 with 8 Axes>"
      ]
     },
     "metadata": {},
     "output_type": "display_data"
    }
   ],
   "source": [
    "psi = np.zeros(2*len(psi_r)) #solução geral\n",
    "x = np.zeros(2*len(psi_r))\n",
    "N = len(autovalor)\n",
    "fig, ax = plt.subplots(int(N/4), int(N/2), figsize = (10, 3))\n",
    "\n",
    "for i in range(N):\n",
    "    psi_r, x_r = fpsi_r(60, autovalor[i], l)\n",
    "    psi_l, x_l = fpsi_l(0.5, autovalor[i], l)\n",
    "    psi_l = psi_l*psi_r[len(psi_r)-1]/psi_l[len(psi_l)-1]\n",
    "    \n",
    "    for j in range(len(psi_l)):\n",
    "        psi[j] = psi_l[j]\n",
    "        x[j] = x_l[j]\n",
    "    for j in range(len(psi_r)):\n",
    "        psi[len(psi_r)+j] = psi_r[len(psi_r) - 1 - j]\n",
    "        x[len(psi_r)+j] = x_r[len(psi_r) - 1 - j]\n",
    "    \n",
    "    if i < N/2:\n",
    "        ax[0, i].plot(x, psi)\n",
    "        ax[0, i].set_title(\"n = %.f\"%i)\n",
    "        fig.tight_layout(pad=0.1)\n",
    "    else:\n",
    "        ax[1, i-4].plot(x, psi)\n",
    "        ax[1, i-4].set_title(\"n = %.f\"%i)\n",
    "        fig.tight_layout(pad=0.1)"
   ]
  },
  {
   "cell_type": "markdown",
   "id": "b251fda7-89d6-408f-8e38-211b90c2b8fd",
   "metadata": {},
   "source": [
    "---"
   ]
  },
  {
   "cell_type": "markdown",
   "id": "0b8a264a-4095-4761-8a89-714ffb5e54e5",
   "metadata": {},
   "source": [
    "# Referências"
   ]
  },
  {
   "cell_type": "markdown",
   "id": "c8359ab0-a9b0-42b8-9172-cb1987e35326",
   "metadata": {},
   "source": [
    "**[1]** Kalogiratou, Z., et al. “Numerical Solution of the Two-Dimensional Time Independent Schrödinger Equation with Numerov-Type Methods.” Journal of Mathematical Chemistry, vol. 37, no. 3, Apr. 2005, pp. 271–279, https://doi.org/10.1007/s10910-004-1469-1. Accessed 29 Mar. 2024.\n",
    "\n",
    "**[2]** Caruso, Francisco, et al. “Applications of the Numerov Method to Simple Quantum Systems Using Python.” Revista Brasileira de Ensino de Física, vol. 44, no. e20220098, 2022, https://doi.org/10.1590/1806-9126-rbef-2022-0098. Accessed 29 Mar. 2024.\n",
    "\n",
    "**[3]** Hjorth-Jensen, Morten. Computational Physics. University of Oslo, Aug. 2014.\n",
    "\n",
    "**[4]** Investigação da energia de ligação entre átomos utilizando o potencial de Lennard-Jones: https://github.com/PETfisicaUFRN/PET.py/blob/main/Notebooks/Investiga%C3%A7%C3%A3o%20da%20energia%20de%20liga%C3%A7%C3%A3o%20entre%20%C3%A1tomos%20utilizando%20o%20potencial%20de%20Lennard-Jones.ipynb\n",
    "\n",
    "**[5]** Newman, Mark. Computacional Physics. 2012. University of Michigan, 2013.\n",
    "\n",
    "**[6]** Giordano, N. J., & Nakanishi, H. (2006). Computational physics."
   ]
  }
 ],
 "metadata": {
  "kernelspec": {
   "display_name": "Python 3 (ipykernel)",
   "language": "python",
   "name": "python3"
  },
  "language_info": {
   "codemirror_mode": {
    "name": "ipython",
    "version": 3
   },
   "file_extension": ".py",
   "mimetype": "text/x-python",
   "name": "python",
   "nbconvert_exporter": "python",
   "pygments_lexer": "ipython3",
   "version": "3.11.8"
  }
 },
 "nbformat": 4,
 "nbformat_minor": 5
}
