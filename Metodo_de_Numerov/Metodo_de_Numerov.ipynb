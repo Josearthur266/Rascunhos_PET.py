{
 "cells": [
  {
   "cell_type": "markdown",
   "id": "6a8578e5-58d6-410e-a5a1-0b26b2e87d13",
   "metadata": {},
   "source": [
    "# Método Numérico de Numerov"
   ]
  },
  {
   "cell_type": "markdown",
   "id": "c307e10f-b3e0-4e15-b587-c66d0ce8107a",
   "metadata": {},
   "source": [
    "* PET - Física UFRN\n",
    "* Petiano: José Arthur de Luna Oliveira\n",
    "* Data:"
   ]
  },
  {
   "cell_type": "markdown",
   "id": "2f59019b-fe34-492b-ad62-e29cba98e7e0",
   "metadata": {},
   "source": [
    "$\\quad$ Nesse `Notebook` exploraremos o método numérico de Numerov, tal método é utilizado para resolver equações diferenciais de segunda ordem. Aqui neste `Notebook`, usaremos este método para solucionar os seguintes problemas: átomos de hidrogênio, oscilador harmônico e para um potencial bidimensional de Henon-Heiles. Vale salientar que este trabalho é baseado nos artigos *Numerical Solution of the Two-Dimensional Time Independent Schrödinger Equation with Numerov-Type Methods* **[1]** e *Applications of the Numerov method to simple quantum \n",
    "systems using Python* **[2]**."
   ]
  },
  {
   "cell_type": "markdown",
   "id": "55b1ba39-973a-4e53-bf6a-126a65c0881b",
   "metadata": {},
   "source": [
    "Neste `Notebook` haverá as seguintes seções:\n",
    "* Introdução;\n",
    "* Problema do Átomo de Hidrogênio;\n",
    "* Problema do Oscilador Harmônico;\n",
    "* Problema com potencial Henon-Heiles;\n",
    "* Conclusão."
   ]
  },
  {
   "cell_type": "markdown",
   "id": "23121e91-ebae-4636-b267-5db90b68d076",
   "metadata": {},
   "source": [
    "## Importando Bibliotecas"
   ]
  },
  {
   "cell_type": "code",
   "execution_count": 1,
   "id": "95c41062-45a1-4c53-bb5d-d6e93dfd8aaa",
   "metadata": {},
   "outputs": [],
   "source": [
    "import matplotlib.pyplot as plt\n",
    "import numpy as np"
   ]
  },
  {
   "cell_type": "markdown",
   "id": "2e3c113d-d460-4adf-93d4-1843bd859212",
   "metadata": {},
   "source": [
    "## Detalhes da Biblioteca"
   ]
  },
  {
   "cell_type": "code",
   "execution_count": 2,
   "id": "8f0a7a26-6abb-40cf-b08d-d636406e48cd",
   "metadata": {},
   "outputs": [
    {
     "data": {
      "application/json": {
       "Software versions": [
        {
         "module": "Python",
         "version": "3.11.8 64bit [MSC v.1916 64 bit (AMD64)]"
        },
        {
         "module": "IPython",
         "version": "8.20.0"
        },
        {
         "module": "OS",
         "version": "Windows 10 10.0.22631 SP0"
        },
        {
         "module": "Matplotlib",
         "version": "3.8.0"
        },
        {
         "module": "Numpy",
         "version": "1.26.4"
        }
       ]
      },
      "text/html": [
       "<table><tr><th>Software</th><th>Version</th></tr><tr><td>Python</td><td>3.11.8 64bit [MSC v.1916 64 bit (AMD64)]</td></tr><tr><td>IPython</td><td>8.20.0</td></tr><tr><td>OS</td><td>Windows 10 10.0.22631 SP0</td></tr><tr><td>Matplotlib</td><td>3.8.0</td></tr><tr><td>Numpy</td><td>1.26.4</td></tr><tr><td colspan='2'>Sat Apr 13 10:16:18 2024 Hora Padrão de Buenos Aires</td></tr></table>"
      ],
      "text/latex": [
       "\\begin{tabular}{|l|l|}\\hline\n",
       "{\\bf Software} & {\\bf Version} \\\\ \\hline\\hline\n",
       "Python & 3.11.8 64bit [MSC v.1916 64 bit (AMD64)] \\\\ \\hline\n",
       "IPython & 8.20.0 \\\\ \\hline\n",
       "OS & Windows 10 10.0.22631 SP0 \\\\ \\hline\n",
       "Matplotlib & 3.8.0 \\\\ \\hline\n",
       "Numpy & 1.26.4 \\\\ \\hline\n",
       "\\hline \\multicolumn{2}{|l|}{Sat Apr 13 10:16:18 2024 Hora Padrão de Buenos Aires} \\\\ \\hline\n",
       "\\end{tabular}\n"
      ],
      "text/plain": [
       "Software versions\n",
       "Python 3.11.8 64bit [MSC v.1916 64 bit (AMD64)]\n",
       "IPython 8.20.0\n",
       "OS Windows 10 10.0.22631 SP0\n",
       "Matplotlib 3.8.0\n",
       "Numpy 1.26.4\n",
       "Sat Apr 13 10:16:18 2024 Hora Padrão de Buenos Aires"
      ]
     },
     "execution_count": 2,
     "metadata": {},
     "output_type": "execute_result"
    }
   ],
   "source": [
    "%load_ext version_information\n",
    "%version_information Matplotlib, Numpy"
   ]
  },
  {
   "cell_type": "markdown",
   "id": "14e40dab-04c6-48b8-be6c-41b7b6c3090c",
   "metadata": {},
   "source": [
    "## 1. Introdução"
   ]
  },
  {
   "cell_type": "markdown",
   "id": "bed3adee-0b9c-412b-aa9c-26284eb41f08",
   "metadata": {},
   "source": [
    "$\\quad$ Antes de iniciarmos, vale ressaltar que essa seção é toda baseada na construção que método do artigo *Applications of the Numerov method to simple quantum systems using Python* **[2]**."
   ]
  },
  {
   "cell_type": "markdown",
   "id": "33819bad-492e-477d-96fe-9cf42bf0ae41",
   "metadata": {},
   "source": [
    "$\\quad$ O principal motivo para Numerov desenvolver esse método foi que ele queria determinar as correções na trajetória do cometa Halley. Esse método, por sua vez, surgiu inicialmente para solucionar problemas de autovalores relacionados a equações diferenciais ordinárias de segunda ordem para corpos celestes. Tais equações não possuem informação da primeira derivada de uma função desconhecida, $y(x)$, em outras palavras, equações com a seguinte forma"
   ]
  },
  {
   "cell_type": "markdown",
   "id": "0cb00278-cda3-4534-9a5d-3ef2ebc6348f",
   "metadata": {},
   "source": [
    "$$ \\frac{d^2y}{dx^2} = f(x, \\ y) \\ . \\tag{1.1}$$"
   ]
  },
  {
   "cell_type": "markdown",
   "id": "031f2f83-d951-4318-8ee4-09cb2f3f9ba1",
   "metadata": {},
   "source": [
    "$\\quad$ Nos métodos mais tradicionais para equações diferenciais, por exemplo, método de Euler ou o Runge-Kutta, cria-se um sistema de equações para resolvê-la como,"
   ]
  },
  {
   "cell_type": "markdown",
   "id": "b5f23640-8d68-48b5-a178-ec4cfaa5ac66",
   "metadata": {},
   "source": [
    "$$  {\\begin{cases}\n",
    "        z = \\frac{dy}{dx}\\\\\n",
    "        \\frac{dz}{dx} = f(x, \\ y)\n",
    "        \\end{cases}\n",
    "        } \\ .$$"
   ]
  },
  {
   "cell_type": "markdown",
   "id": "3cf822e2-e422-4515-9fb1-15d0b9fedd0e",
   "metadata": {},
   "source": [
    "$\\quad$ No entanto, em problemas que $\\frac{dy}{dx}$ é desconhecido, não pode utilizar esses métodos tradicionais para solucionar esses problemas, então deve-se usar outros métodos.\n",
    "\n",
    "$\\quad$ Para desenvolver o método que usaremos neste `Notebook`, usaremos o problema de estados ligados da Mecânica Quântica. Suponha que uma partícula de massa $m$, confinada em um potencial $V(x)$, em um dado intervalo $a<x<b$, onde as energias permitidas ($E$) e as funções de ondas correspondentes $\\psi(x)$ que descrevem esses estados estacionários, satisfazem a equação de autovalor de Schrödinger"
   ]
  },
  {
   "cell_type": "markdown",
   "id": "a3c5e645-b1c0-4cee-a37a-47ae7aaf9deb",
   "metadata": {},
   "source": [
    "$$ \\frac{d^2\\psi(x)}{dx^2} + k^2(x)\\psi(x) = 0 \\ ,\\tag{1.2}$$"
   ]
  },
  {
   "cell_type": "markdown",
   "id": "1e61e875-8fdd-46b7-a5f2-7b75865f88fa",
   "metadata": {},
   "source": [
    "na qual $k=\\sqrt{2m[E - V(x)]}/\\hbar$ e $\\hbar = 1.055\\times 10^{-34}\\ J.s $ é a constante de Planck reduzida. Nesse caso, podemos estabelecer condições de continuidade para os valores $\\psi$ e $d\\psi/dx$ em dois ou mais pontos do domínio da função de onda. Assim, tornando desnecessária a transformação de uma equação diferencial de segunda ordem em um sistema de primeira ordem. Vale ressaltar que o método de Numerov nos permite a determinação simultânea do espectro de energia da partícula e das autofunções associadas a cada valor de energia."
   ]
  },
  {
   "cell_type": "markdown",
   "id": "eb932e93-9ecc-4dc0-9057-2aef69a219d9",
   "metadata": {},
   "source": [
    "### 1.2 Encontrando a Fórmula de Numerov"
   ]
  },
  {
   "cell_type": "markdown",
   "id": "e560a83c-42a3-423a-8838-59ddc5b84cd9",
   "metadata": {},
   "source": [
    "$\\quad$ O método numérico de Numerov é um método interativo, assim a solução deve ser conhecida em dois pontos subsequentes no intervalo $[a, \\ b]$, ou seja, $\\psi(x - \\delta)$ e $\\psi(x)$ devem ser conhecidos, de forma que $\\delta$ é um valor muito pequeno, e será o passo de integração do nosso algoritmo."
   ]
  },
  {
   "cell_type": "markdown",
   "id": "11ab8097-b370-46d9-b36c-42b0f31f2d6c",
   "metadata": {},
   "source": [
    "$\\quad$ Para construir o nosso algoritmo, começaremos expandindo em série de Taylor o $\\psi(x \\pm \\delta)$ até a quarta ordem,"
   ]
  },
  {
   "cell_type": "markdown",
   "id": "d28cb9d4-c036-47fd-ba4e-523556e0f7c7",
   "metadata": {},
   "source": [
    "$$ \\psi(x \\pm \\delta) = \\psi(x) \\pm \\delta \\psi^{(1)}(x) + \\frac{\\delta^2}{2}\\psi^{(2)}(x) \\pm \\frac{\\delta^3}{6}\\psi^{(3)}(x) + \\frac{\\delta^4}{24}\\psi^{(4)}(x) \\ , \\tag{1.3}$$"
   ]
  },
  {
   "cell_type": "markdown",
   "id": "376266bc-daec-44c0-a399-b59d25c1b3b9",
   "metadata": {},
   "source": [
    "somando os termos $\\psi(x + \\delta)$ e $\\psi(x-\\delta)$, temos"
   ]
  },
  {
   "cell_type": "markdown",
   "id": "d5cf1fa5-3d5c-47a5-8f13-ff3688c5a0bb",
   "metadata": {},
   "source": [
    "$$ \\psi(x+\\delta) + \\psi(x-\\delta) = \\psi(x) + \\delta \\psi^{(1)}(x) + \\frac{\\delta^2}{2}\\psi^{(2)}(x) + \\frac{\\delta^3}{6}\\psi^{(3)}(x) + \\frac{\\delta^4}{24}\\psi^{(4)}(x) + \\psi(x) - \\delta \\psi^{(1)}(x) + \\frac{\\delta^2}{2}\\psi^{(2)}(x) - \\frac{\\delta^3}{6}\\psi^{(3)}(x) + \\frac{\\delta^4}{24}\\psi^{(4)}(x)$$"
   ]
  },
  {
   "cell_type": "markdown",
   "id": "3fafe0f1-16be-4afc-9219-6bd4d0e256f5",
   "metadata": {},
   "source": [
    "$$ \\implies \\psi(x+\\delta) + \\psi(x-\\delta) = 2\\psi(x) + \\delta^2\\psi^{(2)}(x)+ \\frac{\\delta^4}{12}\\psi^{(4)}(x)  \\implies \\psi(x+\\delta) + \\psi(x-\\delta) - 2\\psi(x) = \\delta^2\\psi^{(2)}(x)+ \\frac{\\delta^4}{12}\\psi^{(4)}(x)$$"
   ]
  },
  {
   "cell_type": "markdown",
   "id": "4330ad4c-dd47-4efa-96d3-3f76563e52f3",
   "metadata": {},
   "source": [
    "$$ \\therefore \\boxed{ \\frac{\\psi(x+\\delta) + \\psi(x-\\delta) - 2\\psi(x)}{\\delta^2} = \\left(1 + \\frac{\\delta^2}{12}\\frac{d^2}{dx^2} \\right)\\psi^{(2)}(x)} \\ .\\tag{1.4}$$"
   ]
  },
  {
   "cell_type": "markdown",
   "id": "28a12016-b373-4c8a-b115-c34f0dcf7624",
   "metadata": {},
   "source": [
    "$\\quad$ Escrevendo a Equação **(1.2)** da seguinte forma, $\\frac{d^2\\psi(x)}{dx^2} = - k^2(x)\\psi(x)$, podemos substituir isso na Equação **(1.4)**, assim"
   ]
  },
  {
   "cell_type": "markdown",
   "id": "e6a16343-1029-4c33-9c09-f235a5916201",
   "metadata": {},
   "source": [
    "$$ \\frac{\\psi(x+\\delta) + \\psi(x-\\delta) - 2\\psi(x)}{\\delta^2} = \\left(1 + \\frac{\\delta^2}{12}\\frac{d^2}{dx^2} \\right)\\left[-k^2(x)\\psi(x)\\right]$$"
   ]
  },
  {
   "cell_type": "markdown",
   "id": "6b79412a-d551-4f32-bcc8-10ec3379fb68",
   "metadata": {},
   "source": [
    "$$ \\implies \\frac{\\psi(x+\\delta) + \\psi(x-\\delta) - 2\\psi(x)}{\\delta^2} = -k^2(x)\\psi(x) - \\frac{\\delta^2}{12}\\frac{d^2}{dx^2}\\left[k^2(x)\\psi(x)\\right]\\ , \\tag{1.5}$$"
   ]
  },
  {
   "cell_type": "markdown",
   "id": "282c377c-a276-4c7a-9b17-b1ad80abcc4b",
   "metadata": {},
   "source": [
    "agora faremos a seguinte manipulação na Equação **(1.4)**,"
   ]
  },
  {
   "cell_type": "markdown",
   "id": "b93f1e08-c0d9-489c-8de6-e82cfdf008a7",
   "metadata": {},
   "source": [
    "$$ \\frac{\\psi(x+\\delta) + \\psi(x-\\delta) - 2\\psi(x)}{\\delta^2} = \\psi^{(2)}(x)+ \\frac{\\delta^2}{12}\\psi^{(4)}(x)$$"
   ]
  },
  {
   "cell_type": "markdown",
   "id": "90c3a307-a45b-4b2a-8da2-d43a32e5a81b",
   "metadata": {},
   "source": [
    "$$\\implies \\psi^{(2)}(x) = \\frac{\\psi(x+\\delta) + \\psi(x-\\delta) - 2\\psi(x)}{\\delta^2} - \\frac{\\delta^2}{12}\\psi^{(4)}(x) , $$"
   ]
  },
  {
   "cell_type": "markdown",
   "id": "293b9517-c6fd-4d17-bc92-bfaaf1238a46",
   "metadata": {},
   "source": [
    "vamos fazer a seguinte troca $\\psi(x) \\rightarrow k^2(x)\\psi(x)$, então"
   ]
  },
  {
   "cell_type": "markdown",
   "id": "da9546fc-8f4e-4f6f-8766-b8d43e9880d1",
   "metadata": {},
   "source": [
    "$$ \\frac{d^2}{dx^2}[k^2(x)\\psi(x)] = \\frac{k^2(x+\\delta)\\psi(x+\\delta) + k^2(x-\\delta)\\psi(x-\\delta) - 2k^2(x)\\psi(x)}{\\delta^2} - \\frac{\\delta^2}{12}[k^2(x)\\psi(x)]^{(4)} \\ ,$$"
   ]
  },
  {
   "cell_type": "markdown",
   "id": "e6ba56be-387d-4171-99c6-d29aa4551c06",
   "metadata": {},
   "source": [
    "substituindo esse resultado na Equação **(1.5)**, temos"
   ]
  },
  {
   "cell_type": "markdown",
   "id": "55dc7714-bc1a-4a8a-8f79-7a01095023fc",
   "metadata": {},
   "source": [
    "$$\\frac{\\psi(x+\\delta) + \\psi(x-\\delta) - 2\\psi(x)}{\\delta^2} =-k^2(x)\\psi(x) - \\frac{\\delta^2}{12}\\left[\\frac{k^2(x+\\delta)\\psi(x+\\delta) + k^2(x-\\delta)\\psi(x-\\delta) - 2k^2(x)\\psi(x)}{\\delta^2}\\right] - \\frac{\\delta^4}{144}[k^2(x)\\psi(x)]^{(4)} \\ ,$$"
   ]
  },
  {
   "cell_type": "markdown",
   "id": "fc4fd7a5-68ea-4c65-a356-ed91fa84020d",
   "metadata": {},
   "source": [
    "considerando que $\\mathcal{O(\\delta^4)} = - \\frac{\\delta^4}{144}[k^2(x)\\psi(x)]^{(4)}$, então"
   ]
  },
  {
   "cell_type": "markdown",
   "id": "0ea418dc-06c5-4fee-b995-a99456d27ad7",
   "metadata": {},
   "source": [
    "$$\\frac{\\psi(x+\\delta) + \\psi(x-\\delta) - 2\\psi(x)}{\\delta^2} =-k^2(x)\\psi(x) - \\frac{\\delta^2}{12}\\left[\\frac{k^2(x+\\delta)\\psi(x+\\delta) + k^2(x-\\delta)\\psi(x-\\delta) - 2k^2(x)\\psi(x)}{\\delta^2}\\right] + \\mathcal{O(\\delta^4)}$$"
   ]
  },
  {
   "cell_type": "markdown",
   "id": "e7a6cfaa-d0dd-483b-a9b7-f90b85640d1a",
   "metadata": {},
   "source": [
    "$$\\implies \\psi(x+\\delta) + \\psi(x-\\delta) - 2\\psi(x) =-\\delta^2 k^2(x)\\psi(x) - \\frac{\\delta^2}{12}\\left[k^2(x+\\delta)\\psi(x+\\delta) + k^2(x-\\delta)\\psi(x-\\delta) - 2k^2(x)\\psi(x)\\right] + \\mathcal{O(\\delta^4)}$$"
   ]
  },
  {
   "cell_type": "markdown",
   "id": "03d16089-e35a-4bc3-9f38-1ed234bd66f9",
   "metadata": {},
   "source": [
    "$$\\implies \\psi(x+\\delta) + \\frac{\\delta^2}{12}k^2(x+\\delta)\\psi(x+\\delta) = 2\\psi(x) -\\delta^2 k^2(x)\\psi(x) + \\frac{\\delta^2}{12}2k^2(x)\\psi(x) -\\psi(x-\\delta) - \\frac{\\delta^2}{12} k^2(x-\\delta)\\psi(x-\\delta) + \\mathcal{O(\\delta^4)}$$"
   ]
  },
  {
   "cell_type": "markdown",
   "id": "d5c434fc-58b7-4e91-8a6e-27e11486fd41",
   "metadata": {},
   "source": [
    "$$\\implies \\left[1 + \\frac{\\delta^2}{12}k^2(x+\\delta)\\right]\\psi(x+\\delta) = \\left[2  + \\frac{\\delta^2k^2(x) -6\\delta^2 k^2(x)}{6}\\right]\\psi(x) -\\left[1 + \\frac{\\delta^2}{12} k^2(x-\\delta)\\right]\\psi(x-\\delta) + \\mathcal{O(\\delta^4)}$$"
   ]
  },
  {
   "cell_type": "markdown",
   "id": "8d74b649-1ade-47bf-8f6d-91a17ac86a39",
   "metadata": {},
   "source": [
    "$$\\implies \\left[1 + \\frac{\\delta^2}{12}k^2(x+\\delta)\\right]\\psi(x+\\delta) = 2\\left[1  - \\frac{5\\delta^2}{12} k^2(x)\\right]\\psi(x) -\\left[1 + \\frac{\\delta^2}{12} k^2(x-\\delta)\\right]\\psi(x-\\delta) + \\mathcal{O(\\delta^4)} \\ ,$$"
   ]
  },
  {
   "cell_type": "markdown",
   "id": "6575ab14-986b-43d3-8bcd-3673f8e5dbb4",
   "metadata": {},
   "source": [
    "consideraremos $\\mathcal{O(\\delta^4)} \\approx 0$, assim"
   ]
  },
  {
   "cell_type": "markdown",
   "id": "3c490626-28e5-4a10-8fc1-0b9ef54e0ed6",
   "metadata": {},
   "source": [
    "$$\\left[1 + \\frac{\\delta^2}{12}k^2(x+\\delta)\\right]\\psi(x+\\delta) = 2\\left[1  - \\frac{5\\delta^2}{12} k^2(x)\\right]\\psi(x) -\\left[1 + \\frac{\\delta^2}{12} k^2(x-\\delta)\\right]\\psi(x-\\delta)$$"
   ]
  },
  {
   "cell_type": "markdown",
   "id": "abefc3de-6d23-4e0f-8ef0-23bf6b5bceba",
   "metadata": {},
   "source": [
    "$$\\therefore \\ \\boxed{\\psi(x+\\delta) = \\frac{2\\left[1  - \\frac{5\\delta^2}{12} k^2(x)\\right]\\psi(x) -\\left[1 + \\frac{\\delta^2}{12} k^2(x-\\delta)\\right]\\psi(x-\\delta)}{\\left[1 + \\frac{\\delta^2}{12}k^2(x+\\delta)\\right]}} \\ . \\tag{1.6}$$"
   ]
  },
  {
   "cell_type": "markdown",
   "id": "eb15b08b-b861-4add-ad8c-9f897b607b3d",
   "metadata": {},
   "source": [
    "$\\quad$ Nosso objetivo é resolver uma equação de autovalor, a técnica de integração numérica da equação de Schrödinger unidimensional para uma partícula em um poço, precisará de um chute inicial para os autovalores (a energia $E$) e os dois pontos respectivos das autofunções. Para a escolha do valor arbitrário da energia $E$, devemos lembrar da relação de incerteza de Heisenberg, que diz que a energia $E$ de uma partícula em um poço de potencial $V(x)$ deve ser maior que o valor mínimo do poço, ou seja, $E_{initial} = V_{min} + \\Delta E$, em que $\\Delta E > 0$."
   ]
  },
  {
   "cell_type": "markdown",
   "id": "b092fa6b-cef4-4ad9-8018-d118a527aff5",
   "metadata": {},
   "source": [
    "$\\quad$ A escolha desse valor determinará os pontos do retorno da partícula, que para encontrá-los basta igualar o valor arbitrário $E$ e o potencial $V(x)$, fazendo isso encontrará dois pontos de retorno da partícula $x_r$ e $x_l$. Na Mecânica Clássica, a região $[x_r, \\ x_l]$ será a única região que a partícula poderá ficar, em outras palavras, a partícula é restrita a se manter nessa região, enquanto as regiões além desses pontos ($x<x_r$ e $x>x_l$ ) são chamadas na mecânica clássica de regiões proibidas."
   ]
  },
  {
   "cell_type": "markdown",
   "id": "f4b1d97a-ea81-43ac-9593-4eea200ead0e",
   "metadata": {},
   "source": [
    "$\\quad$ No entanto na Mecânica Quântica é possível da partícula se encontrar além dos pontos de retorno, ou seja, a equação Schrödinger possui solução nessas regiões. Assim, cada valor de energia possui uma autofunção associada, as quais terão solução na região proibida, no entanto, ela tenderá a zero.\n",
    "Dessa forma, esses pontos, onde a autofunção se anula, são os pontos de contorno $a$ e $b$, onde $b>a$, do domínio de integração."
   ]
  },
  {
   "cell_type": "markdown",
   "id": "afbc2cd4-0f87-43ad-ba42-8a2e9feb794b",
   "metadata": {},
   "source": [
    "$\\quad$ O método de Numerov requer um esquema de interação usando a Equação **(1.6)**, que a partir do ponto $a$ para a direita, criará uma função que até um ponto ($x_{match}$), e do ponto $b$ para a esquerda, criará outra função até esse mesmo ponto. Sendo assim, teremos duas funções $\\psi^{\\ l}(x)$ e $\\psi^{\\ r}(x)$, a primeira virá da esquerda e a outra da direita, a partir dos pontos $a$ e $b$, respectivamente."
   ]
  },
  {
   "cell_type": "markdown",
   "id": "e9af4679-c39b-446e-8ed8-8698e9e73178",
   "metadata": {},
   "source": [
    "### 1.3 Construindo o Algoritmo"
   ]
  },
  {
   "cell_type": "markdown",
   "id": "01ca64ef-0d15-4349-beb6-96342ec2d510",
   "metadata": {},
   "source": [
    "$\\quad$ Diante do que foi dito, devemos escolher um valor inicial para $E$, obter duas soluções, uma pela esquerda, $\\psi^{\\ l}(x)$ e uma pela direita, $\\psi^{\\ l}(x)$, nas quais devemos começar com os dois pontos consecutivos iniciais e aplicar na Equação **(1.6)** para obter o resto da solução. Em seguida, explicitaremos o que deve ser feito."
   ]
  },
  {
   "cell_type": "markdown",
   "id": "38104b79-6bee-45e9-9ff5-c2bb9cc22084",
   "metadata": {},
   "source": [
    "#### Solução pela esquerda ($x < x_{match}$)"
   ]
  },
  {
   "cell_type": "markdown",
   "id": "bb5f6be7-c461-4441-8821-9475f80bde01",
   "metadata": {},
   "source": [
    "$\\quad$ Dado o chute inicial para a energia, deve-se encontrar os pontos de retorno para aquela energia, assim podemos escolher um desses pontos como o $x_{match}$. Em seguida, devemos definir o dois pontos iniciais consecutivos da solução $\\psi^{\\ l}(x)$ como"
   ]
  },
  {
   "cell_type": "markdown",
   "id": "342609f3-b14f-48a9-b147-7faeb318329a",
   "metadata": {},
   "source": [
    "$$  {\\begin{cases}\n",
    "        \\psi^{\\ l}(a) = 0\\\\\n",
    "        \\psi^{\\ l}(a+\\delta) = \\delta^{\\ l}, \\ (\\delta^{\\ l} \\ll 1)\n",
    "        \\end{cases}\n",
    "        } \\ ,$$"
   ]
  },
  {
   "cell_type": "markdown",
   "id": "026d3ba1-aa1c-4866-a8f5-55940101469e",
   "metadata": {},
   "source": [
    "as quais, o $\\delta$ é o passo de integração e $\\delta^l$ é um valor muito pequeno. Note que podemos igualar o $\\psi^l(a+\\delta)$ a um valor muito pequeno, pois como estamos dividindo a função em intervalos de muito pequenos ($\\delta$), o próximo ponto consecutivo à zero ($\\psi^l=0$) será um número muito próximo de zero. \n",
    "\n",
    "$\\quad$ Definido esse pontos iniciais, basta aplicar a Equação **(1.6)**, que obtêm-se cada ponto da solução sequencialmente até $x_{match}$."
   ]
  },
  {
   "cell_type": "markdown",
   "id": "b43fff1a-ce2d-4d52-a64b-003e1c8932b8",
   "metadata": {},
   "source": [
    "### Solução pela Direita ($x>x_{match}$)"
   ]
  },
  {
   "cell_type": "markdown",
   "id": "ab456598-2519-47e9-8d0b-84fc337cacd4",
   "metadata": {},
   "source": [
    "$\\quad$ Análogo ao processo explicado anteriormente, com o mesmo valor de energia e o mesmo $x_{match}$, definimos os dois pontos iniciais consecutivos da solução $\\psi^{\\ r}(x)$ como"
   ]
  },
  {
   "cell_type": "markdown",
   "id": "5a7f41d2-30b0-4ef6-82aa-6ad6d3be37ba",
   "metadata": {},
   "source": [
    "$$  {\\begin{cases}\n",
    "        \\psi^{\\ r}(b) = 0\\\\\n",
    "        \\psi^{\\ r}(b-\\delta) = \\delta^{\\ r}, \\ (\\delta^{\\ r} \\ll 1)\n",
    "        \\end{cases}\n",
    "        } \\ .$$"
   ]
  },
  {
   "cell_type": "markdown",
   "id": "d5760a9d-cc38-44d8-a801-6f4057647d19",
   "metadata": {},
   "source": [
    "$\\quad$ Dessa forma, aplicando a Equação **(1.6)** obtêm a solução $\\psi^{\\ r}(x)$ até $x_{match}$."
   ]
  },
  {
   "cell_type": "markdown",
   "id": "1e6f2d42-e16c-41d1-8520-94339fc79d12",
   "metadata": {},
   "source": [
    "$\\quad$ Note que a construção das duas soluções terminam em $x_{match}$ e nesse ponto estas devem ser iguais nesse ponto, garantindo a continuidade da solução,"
   ]
  },
  {
   "cell_type": "markdown",
   "id": "6276b3c4-81f2-4475-922e-ed5fd6934459",
   "metadata": {},
   "source": [
    "$$\\psi^{\\ l}(x_{match}) = \\psi^{\\ r}(x_{match}) \\ ,\\tag{1.7}$$"
   ]
  },
  {
   "cell_type": "markdown",
   "id": "d2375d5f-cded-4405-a780-0b7a646e20b9",
   "metadata": {},
   "source": [
    "no entanto nem sempre as soluções possíveis atendem a esse ponto, então para garantir a continuidade da solução, redefiniremos o $\\psi^{\\ l}$ da seguinte forma,"
   ]
  },
  {
   "cell_type": "markdown",
   "id": "3ac8dc3a-d8c9-4f29-9d32-74af0c349517",
   "metadata": {},
   "source": [
    "$$ \\psi^{\\ l}(x) \\rightarrow \\psi^{\\ l}(x)\\frac{\\psi^{\\ r}(x_{match})}{\\psi^{\\ l}(x_{match})} \\ ,\\tag{1.8}$$"
   ]
  },
  {
   "cell_type": "markdown",
   "id": "fe88491c-6df9-48db-8108-ea6de06ee4b3",
   "metadata": {},
   "source": [
    "no qual $a \\leq x \\leq x_{match}$."
   ]
  },
  {
   "cell_type": "code",
   "execution_count": null,
   "id": "b5f75238-21d4-4a0e-8b26-f9fcb2f42843",
   "metadata": {},
   "outputs": [],
   "source": []
  },
  {
   "cell_type": "code",
   "execution_count": null,
   "id": "5556c2dc-66e4-47cd-af92-025bf1f65df9",
   "metadata": {},
   "outputs": [],
   "source": []
  },
  {
   "cell_type": "code",
   "execution_count": null,
   "id": "9b1226cb-92a3-4458-b089-0d424ace9cc4",
   "metadata": {},
   "outputs": [],
   "source": []
  },
  {
   "cell_type": "code",
   "execution_count": null,
   "id": "88e3028f-ad46-4f29-af75-6c2c34a3bffa",
   "metadata": {},
   "outputs": [],
   "source": []
  },
  {
   "cell_type": "code",
   "execution_count": null,
   "id": "573127d6-6aa9-4937-b35b-4fa98a6e101f",
   "metadata": {},
   "outputs": [],
   "source": []
  },
  {
   "cell_type": "code",
   "execution_count": null,
   "id": "768db95a-c5f2-454b-9103-176b4c5d0f49",
   "metadata": {},
   "outputs": [],
   "source": []
  },
  {
   "cell_type": "code",
   "execution_count": null,
   "id": "c2c56c98-4d39-4fab-b644-61c8e4b4e213",
   "metadata": {},
   "outputs": [],
   "source": []
  },
  {
   "cell_type": "code",
   "execution_count": null,
   "id": "df11dc6a-13ea-4d8c-a23b-d775cf11c534",
   "metadata": {},
   "outputs": [],
   "source": []
  },
  {
   "cell_type": "markdown",
   "id": "0b8a264a-4095-4761-8a89-714ffb5e54e5",
   "metadata": {},
   "source": [
    "# Referências"
   ]
  },
  {
   "cell_type": "markdown",
   "id": "c8359ab0-a9b0-42b8-9172-cb1987e35326",
   "metadata": {},
   "source": [
    "**[1]** Kalogiratou, Z., et al. “Numerical Solution of the Two-Dimensional Time Independent Schrödinger Equation with Numerov-Type Methods.” Journal of Mathematical Chemistry, vol. 37, no. 3, Apr. 2005, pp. 271–279, https://doi.org/10.1007/s10910-004-1469-1. Accessed 29 Mar. 2024.\n",
    "\n",
    "**[2]** Caruso, Francisco, et al. “Applications of the Numerov Method to Simple Quantum Systems Using Python.” Revista Brasileira de Ensino de Física, vol. 44, no. e20220098, 2022, https://doi.org/10.1590/1806-9126-rbef-2022-0098. Accessed 29 Mar. 2024.\n",
    "\n",
    "**[3]** Hjorth-Jensen, Morten. Computational Physics. University of Oslo, Aug. 2014.\n",
    "\n",
    "**[4]** Investigação da energia de ligação entre átomos utilizando o potencial de Lennard-Jones: https://github.com/PETfisicaUFRN/PET.py/blob/main/Notebooks/Investiga%C3%A7%C3%A3o%20da%20energia%20de%20liga%C3%A7%C3%A3o%20entre%20%C3%A1tomos%20utilizando%20o%20potencial%20de%20Lennard-Jones.ipynb\n",
    "\n",
    "**[5]** Newman, Mark. Computacional Physics. 2012. University of Michigan, 2013.\n",
    "\n",
    "**[6]** Giordano, N. J., & Nakanishi, H. (2006). Computational physics."
   ]
  },
  {
   "cell_type": "code",
   "execution_count": null,
   "id": "a4c7feba-067f-43fe-b6bc-be2030b9459f",
   "metadata": {},
   "outputs": [],
   "source": []
  }
 ],
 "metadata": {
  "kernelspec": {
   "display_name": "Python 3 (ipykernel)",
   "language": "python",
   "name": "python3"
  },
  "language_info": {
   "codemirror_mode": {
    "name": "ipython",
    "version": 3
   },
   "file_extension": ".py",
   "mimetype": "text/x-python",
   "name": "python",
   "nbconvert_exporter": "python",
   "pygments_lexer": "ipython3",
   "version": "3.11.8"
  }
 },
 "nbformat": 4,
 "nbformat_minor": 5
}
