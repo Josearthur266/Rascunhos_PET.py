{
 "cells": [
  {
   "cell_type": "markdown",
   "id": "6a8578e5-58d6-410e-a5a1-0b26b2e87d13",
   "metadata": {},
   "source": [
    "# Método Numérico de Numerov"
   ]
  },
  {
   "cell_type": "markdown",
   "id": "c307e10f-b3e0-4e15-b587-c66d0ce8107a",
   "metadata": {},
   "source": [
    "* PET - Física UFRN\n",
    "* Petiano: José Arthur de Luna Oliveira\n",
    "* Data:"
   ]
  },
  {
   "cell_type": "markdown",
   "id": "2f59019b-fe34-492b-ad62-e29cba98e7e0",
   "metadata": {},
   "source": [
    "$\\quad$ Nesse `Notebook` exploraremos o método numérico de Numerov, tal método é utilizado para resolver equações diferenciais de segunda ordem. Aqui neste `Notebook`, usaremos este método para solucionar os seguintes problemas: átomos de hidrogênio, oscilador harmônico e para um potencial bidimensional de Henon-Heiles. Vale salientar que este trabalho é baseado nos artigos *Numerical Solution of the Two-Dimensional Time Independent Schrödinger Equation with Numerov-Type Methods* **[1]** e *Applications of the Numerov method to simple quantum \n",
    "systems using Python **[2]***."
   ]
  },
  {
   "cell_type": "markdown",
   "id": "55b1ba39-973a-4e53-bf6a-126a65c0881b",
   "metadata": {},
   "source": [
    "Neste `Notebook` haverá as seguintes seções:\n",
    "* Introdução;\n",
    "* Problema do Átomo de Hidrogênio;\n",
    "* Problema do Oscilador Harmônico;\n",
    "* Problema com potencial Henon-Heiles;\n",
    "* Conclusão."
   ]
  },
  {
   "cell_type": "markdown",
   "id": "23121e91-ebae-4636-b267-5db90b68d076",
   "metadata": {},
   "source": [
    "## Importando Bibliotecas"
   ]
  },
  {
   "cell_type": "code",
   "execution_count": 1,
   "id": "95c41062-45a1-4c53-bb5d-d6e93dfd8aaa",
   "metadata": {},
   "outputs": [],
   "source": [
    "import matplotlib.pyplot as plt\n",
    "import numpy as np"
   ]
  },
  {
   "cell_type": "markdown",
   "id": "2e3c113d-d460-4adf-93d4-1843bd859212",
   "metadata": {},
   "source": [
    "## Detalhes da Biblioteca"
   ]
  },
  {
   "cell_type": "code",
   "execution_count": 2,
   "id": "8f0a7a26-6abb-40cf-b08d-d636406e48cd",
   "metadata": {},
   "outputs": [
    {
     "data": {
      "application/json": {
       "Software versions": [
        {
         "module": "Python",
         "version": "3.11.4 64bit [MSC v.1916 64 bit (AMD64)]"
        },
        {
         "module": "IPython",
         "version": "8.12.0"
        },
        {
         "module": "OS",
         "version": "Windows 10 10.0.22631 SP0"
        },
        {
         "module": "Matplotlib",
         "version": "3.7.1"
        },
        {
         "module": "Numpy",
         "version": "1.24.3"
        }
       ]
      },
      "text/html": [
       "<table><tr><th>Software</th><th>Version</th></tr><tr><td>Python</td><td>3.11.4 64bit [MSC v.1916 64 bit (AMD64)]</td></tr><tr><td>IPython</td><td>8.12.0</td></tr><tr><td>OS</td><td>Windows 10 10.0.22631 SP0</td></tr><tr><td>Matplotlib</td><td>3.7.1</td></tr><tr><td>Numpy</td><td>1.24.3</td></tr><tr><td colspan='2'>Mon Apr 08 22:47:26 2024 Hora Padrão de Buenos Aires</td></tr></table>"
      ],
      "text/latex": [
       "\\begin{tabular}{|l|l|}\\hline\n",
       "{\\bf Software} & {\\bf Version} \\\\ \\hline\\hline\n",
       "Python & 3.11.4 64bit [MSC v.1916 64 bit (AMD64)] \\\\ \\hline\n",
       "IPython & 8.12.0 \\\\ \\hline\n",
       "OS & Windows 10 10.0.22631 SP0 \\\\ \\hline\n",
       "Matplotlib & 3.7.1 \\\\ \\hline\n",
       "Numpy & 1.24.3 \\\\ \\hline\n",
       "\\hline \\multicolumn{2}{|l|}{Mon Apr 08 22:47:26 2024 Hora Padrão de Buenos Aires} \\\\ \\hline\n",
       "\\end{tabular}\n"
      ],
      "text/plain": [
       "Software versions\n",
       "Python 3.11.4 64bit [MSC v.1916 64 bit (AMD64)]\n",
       "IPython 8.12.0\n",
       "OS Windows 10 10.0.22631 SP0\n",
       "Matplotlib 3.7.1\n",
       "Numpy 1.24.3\n",
       "Mon Apr 08 22:47:26 2024 Hora Padrão de Buenos Aires"
      ]
     },
     "execution_count": 2,
     "metadata": {},
     "output_type": "execute_result"
    }
   ],
   "source": [
    "%load_ext version_information\n",
    "%version_information Matplotlib, Numpy"
   ]
  },
  {
   "cell_type": "markdown",
   "id": "14e40dab-04c6-48b8-be6c-41b7b6c3090c",
   "metadata": {},
   "source": [
    "## 1. Introdução"
   ]
  },
  {
   "cell_type": "markdown",
   "id": "33819bad-492e-477d-96fe-9cf42bf0ae41",
   "metadata": {},
   "source": []
  },
  {
   "cell_type": "code",
   "execution_count": null,
   "id": "1416561e-5089-47bf-8510-3655d929bc60",
   "metadata": {},
   "outputs": [],
   "source": []
  },
  {
   "cell_type": "code",
   "execution_count": null,
   "id": "220c021f-eff0-4bf7-b334-c364fb371fef",
   "metadata": {},
   "outputs": [],
   "source": []
  },
  {
   "cell_type": "code",
   "execution_count": null,
   "id": "a4106741-0e8f-4827-9afc-b4faa1f19612",
   "metadata": {},
   "outputs": [],
   "source": []
  },
  {
   "cell_type": "code",
   "execution_count": null,
   "id": "e2cf2f70-81d4-4968-b417-f3446f4e731d",
   "metadata": {},
   "outputs": [],
   "source": []
  },
  {
   "cell_type": "code",
   "execution_count": null,
   "id": "ae6024a6-3435-4b9f-bce3-720545e39fa9",
   "metadata": {},
   "outputs": [],
   "source": []
  },
  {
   "cell_type": "code",
   "execution_count": null,
   "id": "2ca17001-bd8b-48c4-935c-006899a0a514",
   "metadata": {},
   "outputs": [],
   "source": []
  },
  {
   "cell_type": "code",
   "execution_count": null,
   "id": "979bedb8-fd39-46e9-90fd-79dac5f40fb9",
   "metadata": {},
   "outputs": [],
   "source": []
  },
  {
   "cell_type": "code",
   "execution_count": null,
   "id": "c653ca36-453d-43f3-ad2c-18f0e3783cd6",
   "metadata": {},
   "outputs": [],
   "source": []
  },
  {
   "cell_type": "markdown",
   "id": "0b8a264a-4095-4761-8a89-714ffb5e54e5",
   "metadata": {},
   "source": [
    "# Referências"
   ]
  },
  {
   "cell_type": "markdown",
   "id": "c8359ab0-a9b0-42b8-9172-cb1987e35326",
   "metadata": {},
   "source": [
    "**[1]** Kalogiratou, Z., et al. “Numerical Solution of the Two-Dimensional Time Independent Schrödinger Equation with Numerov-Type Methods.” Journal of Mathematical Chemistry, vol. 37, no. 3, Apr. 2005, pp. 271–279, https://doi.org/10.1007/s10910-004-1469-1. Accessed 29 Mar. 2024.\n",
    "\n",
    "**[2]** Caruso, Francisco, et al. “Applications of the Numerov Method to Simple Quantum Systems Using Python.” Revista Brasileira de Ensino de Física, vol. 44, no. e20220098, 2022, https://doi.org/10.1590/1806-9126-rbef-2022-0098. Accessed 29 Mar. 2024.\n",
    "\n",
    "**[3]** Hjorth-Jensen, Morten. Computational Physics. University of Oslo, Aug. 2014.\n",
    "\n",
    "**[4]** Investigação da energia de ligação entre átomos utilizando o potencial de Lennard-Jones: https://github.com/Josearthur266/PET.py/blob/main/Notebooks/Investigação%20da%20energia%20de%20ligação%20entre%20átomos%20utilizando%20o%20potencial%20de%20Lennard-Jones..ipynb"
   ]
  },
  {
   "cell_type": "code",
   "execution_count": null,
   "id": "a4c7feba-067f-43fe-b6bc-be2030b9459f",
   "metadata": {},
   "outputs": [],
   "source": []
  }
 ],
 "metadata": {
  "kernelspec": {
   "display_name": "Python 3 (ipykernel)",
   "language": "python",
   "name": "python3"
  },
  "language_info": {
   "codemirror_mode": {
    "name": "ipython",
    "version": 3
   },
   "file_extension": ".py",
   "mimetype": "text/x-python",
   "name": "python",
   "nbconvert_exporter": "python",
   "pygments_lexer": "ipython3",
   "version": "3.11.4"
  }
 },
 "nbformat": 4,
 "nbformat_minor": 5
}
