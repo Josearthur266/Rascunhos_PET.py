{
 "cells": [
  {
   "cell_type": "markdown",
   "id": "5411fbbd",
   "metadata": {},
   "source": [
    "# Dinâmica Molecular"
   ]
  },
  {
   "cell_type": "code",
   "execution_count": null,
   "id": "1b6c27e1",
   "metadata": {},
   "outputs": [],
   "source": []
  },
  {
   "cell_type": "code",
   "execution_count": null,
   "id": "d5e8e952",
   "metadata": {},
   "outputs": [],
   "source": []
  },
  {
   "cell_type": "code",
   "execution_count": 1,
   "id": "56a790bf",
   "metadata": {},
   "outputs": [
    {
     "name": "stdout",
     "output_type": "stream",
     "text": [
      "Overwriting calc_fcc.in\n"
     ]
    }
   ],
   "source": [
    "%%writefile calc_fcc.in\n",
    "######################################\n",
    "# LAMMPS INPUT SCRIPT\n",
    "# Find minimum energy fcc (face-centered cubic) atomic configuration\n",
    "# Mark Tschopp\n",
    "# Syntax, lmp_exe < calc_fcc.in\n",
    "\n",
    "######################################\n",
    "# INITIALIZATION\n",
    "clear \n",
    "units metal \n",
    "dimension 3 \n",
    "boundary p p p \n",
    "atom_style atomic \n",
    "atom_modify map array\n",
    "\n",
    "######################################\n",
    "# ATOM DEFINITION\n",
    "lattice fcc 4 orient x 1 1 0 orient y -1 1 0 orient z 0 0 1  \n",
    "region box block 0 1 0 1 0 1 units lattice\n",
    "create_box 1 box\n",
    "create_atoms 1 box\n",
    "replicate 1 1 1\n",
    "\n",
    "######################################\n",
    "# DEFINE INTERATOMIC POTENTIAL\n",
    "pair_style eam/alloy \n",
    "pair_coeff * * Al99.eam.alloy Al\n",
    "neighbor 2.0 bin \n",
    "neigh_modify delay 10 check yes \n",
    " \n",
    "######################################\n",
    "# DEFINE COMPUTES \n",
    "compute eng all pe/atom \n",
    "compute eatoms all reduce sum c_eng \n",
    "\n",
    "#####################################################\n",
    "# MINIMIZATION\n",
    "reset_timestep 0 \n",
    "fix 1 all box/relax iso 0.0 vmax 0.001\n",
    "thermo 10 \n",
    "thermo_style custom step pe lx ly lz press c_eatoms \n",
    "min_style cg \n",
    "minimize 1e-25 1e-25 5000 10000 \n",
    "\n",
    "variable natoms equal \"count(all)\" \n",
    "variable teng equal \"c_eatoms\"\n",
    "variable length equal \"lx\"\n",
    "variable ecoh equal \"v_teng/v_natoms\"\n",
    "\n",
    "print \"Total energy (eV) = ${teng};\"\n",
    "print \"Number of atoms = ${natoms};\"\n",
    "print \"Lattice constant (Angstoms) = ${length};\"\n",
    "print \"Cohesive energy (eV) = ${ecoh};\"\n",
    "\n",
    "print \"All done!\""
   ]
  },
  {
   "cell_type": "code",
   "execution_count": 2,
   "id": "3c79f1ee",
   "metadata": {},
   "outputs": [
    {
     "name": "stdout",
     "output_type": "stream",
     "text": [
      " O volume na unidade C nÆo tem nome.\n",
      " O N£mero de S‚rie do Volume ‚ 0C73-3571\n",
      "\n",
      " Pasta de C:\\Users\\olive\\PET.py\\Notebook\\LAMMPS_no_Python\n",
      "\n",
      "08/09/2023  17:11    <DIR>          .\n",
      "07/09/2023  13:07    <DIR>          ..\n",
      "07/09/2023  13:09    <DIR>          .ipynb_checkpoints\n",
      "07/09/2023  13:23           780.452 Al99.eam.alloy\n",
      "08/09/2023  17:12             1.447 calc_fcc.in\n",
      "07/09/2023  13:23         5.518.279 Fe-C_Hepburn_Ackland.eam.fs\n",
      "07/09/2023  13:24            22.051 Fe_110_sig3.txt\n",
      "08/09/2023  17:11            10.748 LAMMPS_no_python.ipynb\n",
      "08/09/2023  17:09             5.157 log.lammps\n",
      "               6 arquivo(s)      6.338.134 bytes\n",
      "               3 pasta(s)   49.217.970.176 bytes dispon¡veis\n"
     ]
    }
   ],
   "source": [
    "!dir"
   ]
  },
  {
   "cell_type": "code",
   "execution_count": 8,
   "id": "fac7be1e",
   "metadata": {
    "scrolled": true
   },
   "outputs": [
    {
     "name": "stdout",
     "output_type": "stream",
     "text": [
      "LAMMPS (15 Jun 2023)\n",
      "OMP_NUM_THREADS environment is not set. Defaulting to 1 thread. (src/comm.cpp:98)\n",
      "  using 1 OpenMP thread(s) per MPI task\n",
      "Loaded 0 plugins from C:\\Users\\olive\\LAMMPS 64-bit 28Mar2023\\plugins\n",
      "Loaded 1 plugins from C:\\Users\\olive\\LAMMPS\\plugins\n",
      "OMP_NUM_THREADS environment is not set. Defaulting to 1 thread. (src/comm.cpp:98)\n",
      "  using 1 OpenMP thread(s) per MPI task\n",
      "Loaded 0 plugins from C:\\Users\\olive\\LAMMPS 64-bit 28Mar2023\\plugins\n",
      "Loaded 1 plugins from C:\\Users\\olive\\LAMMPS\\plugins\n",
      "Lattice spacing in x,y,z = 5.6568542 5.6568542 4\n",
      "Created orthogonal box = (0 0 0) to (5.6568542 5.6568542 4)\n",
      "  1 by 1 by 1 MPI processor grid\n",
      "Created 8 atoms\n",
      "  using lattice units in orthogonal box = (0 0 0) to (5.6568542 5.6568542 4)\n",
      "  create_atoms CPU = 0.000 seconds\n",
      "Replication is creating a 1x1x1 = 1 times larger system...\n",
      "  orthogonal box = (0 0 0) to (5.6568542 5.6568542 4)\n",
      "  1 by 1 by 1 MPI processor grid\n",
      "  8 atoms\n",
      "  replicate CPU = 0.000 seconds\n",
      "Switching to 'neigh_modify every 1 delay 0 check yes' setting during minimization\n",
      "Neighbor list info ...\n",
      "  update: every = 1 steps, delay = 0 steps, check = yes\n",
      "  max neighbors/atom: 2000, page size: 100000\n",
      "  master list distance cutoff = 8.28721\n",
      "  ghost atom cutoff = 8.28721\n",
      "  binsize = 4.143605, bins = 2 2 1\n",
      "  1 neighbor lists, perpetual/occasional/extra = 1 0 0\n",
      "  (1) pair eam/alloy, perpetual\n",
      "      attributes: half, newton on\n",
      "      pair build: half/bin/atomonly/newton\n",
      "      stencil: half/bin/3d\n",
      "      bin: standard\n",
      "Setting up cg style minimization ...\n",
      "  Unit style    : metal\n",
      "  Current step  : 0\n",
      "WARNING: Energy due to 1 extra global DOFs will be included in minimizer energies\n",
      " (src/min.cpp:225)\n",
      "Per MPI rank memory allocation (min/avg/max) = 4.474 | 4.474 | 4.474 Mbytes\n",
      "   Step         PotEng           Lx             Ly             Lz           Press         c_eatoms   \n",
      "         0  -26.835575      5.6568542      5.6568542      4              29590.11      -26.835575    \n",
      "        10  -26.878207      5.7134228      5.7134228      4.04           5853.9553     -26.878207    \n",
      "        16  -26.88          5.7275715      5.7275715      4.0500047      2.1489546e-10 -26.88        \n",
      "Loop time of 0.000599 on 1 procs for 16 steps with 8 atoms\n",
      "\n",
      "0.0% CPU use with 1 MPI tasks x 1 OpenMP threads\n",
      "\n",
      "Minimization stats:\n",
      "  Stopping criterion = energy tolerance\n",
      "  Energy initial, next-to-last, final = \n",
      "     -26.8355745932796  -26.8799999054704  -26.8799999054704\n",
      "  Force two-norm initial, final = 7.0919791 5.6952683e-14\n",
      "  Force max component initial, final = 7.0919791 5.2800639e-14\n",
      "  Final line search alpha, max atom move = 1 5.2800639e-14\n",
      "  Iterations, force evaluations = 16 20\n",
      "\n",
      "MPI task timing breakdown:\n",
      "Section |  min time  |  avg time  |  max time  |%varavg| %total\n",
      "---------------------------------------------------------------\n",
      "Pair    | 0.000244   | 0.000244   | 0.000244   |   0.0 | 40.73\n",
      "Neigh   | 0          | 0          | 0          |   0.0 |  0.00\n",
      "Comm    | 3.2e-05    | 3.2e-05    | 3.2e-05    |   0.0 |  5.34\n",
      "Output  | 5e-06      | 5e-06      | 5e-06      |   0.0 |  0.83\n",
      "Modify  | 0          | 0          | 0          |   0.0 |  0.00\n",
      "Other   |            | 0.000318   |            |       | 53.09\n",
      "\n",
      "Nlocal:              8 ave           8 max           8 min\n",
      "Histogram: 1 0 0 0 0 0 0 0 0 0\n",
      "Nghost:            606 ave         606 max         606 min\n",
      "Histogram: 1 0 0 0 0 0 0 0 0 0\n",
      "Neighs:            560 ave         560 max         560 min\n",
      "Histogram: 1 0 0 0 0 0 0 0 0 0\n",
      "\n",
      "Total # of neighbors = 560\n",
      "Ave neighs/atom = 70\n",
      "Neighbor list builds = 0\n",
      "Dangerous builds = 0\n",
      "Total energy (eV) = -26.8799999054703;\n",
      "Number of atoms = 8;\n",
      "Lattice constant (Angstoms) = 5.72757152037121;\n",
      "Cohesive energy (eV) = -3.35999998818379;\n",
      "All done!\n",
      "Total wall time: 0:00:00\n"
     ]
    }
   ],
   "source": [
    "!lmp -in calc_fcc.in"
   ]
  },
  {
   "cell_type": "code",
   "execution_count": null,
   "id": "cb19e142",
   "metadata": {},
   "outputs": [],
   "source": []
  }
 ],
 "metadata": {
  "kernelspec": {
   "display_name": "Python 3 (ipykernel)",
   "language": "python",
   "name": "python3"
  },
  "language_info": {
   "codemirror_mode": {
    "name": "ipython",
    "version": 3
   },
   "file_extension": ".py",
   "mimetype": "text/x-python",
   "name": "python",
   "nbconvert_exporter": "python",
   "pygments_lexer": "ipython3",
   "version": "3.11.4"
  }
 },
 "nbformat": 4,
 "nbformat_minor": 5
}
