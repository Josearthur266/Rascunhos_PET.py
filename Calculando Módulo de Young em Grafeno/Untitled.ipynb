{
 "cells": [
  {
   "cell_type": "markdown",
   "id": "a2e2de9b-d782-4f09-a02a-2907f1d58ab9",
   "metadata": {},
   "source": [
    "# Calculando Módulo de Young em Grafeno"
   ]
  },
  {
   "cell_type": "markdown",
   "id": "e03365da-2954-43b7-8b8b-414ad9c40be3",
   "metadata": {},
   "source": [
    "* PET - Física UFRN\n",
    "* Petiano: José Arthur de Luna Oliveira\n",
    "* Data: "
   ]
  },
  {
   "cell_type": "code",
   "execution_count": null,
   "id": "35a7d454-79c1-4375-bf41-a12896ce3298",
   "metadata": {},
   "outputs": [],
   "source": []
  }
 ],
 "metadata": {
  "kernelspec": {
   "display_name": "Python 3 (ipykernel)",
   "language": "python",
   "name": "python3"
  },
  "language_info": {
   "codemirror_mode": {
    "name": "ipython",
    "version": 3
   },
   "file_extension": ".py",
   "mimetype": "text/x-python",
   "name": "python",
   "nbconvert_exporter": "python",
   "pygments_lexer": "ipython3",
   "version": "3.11.9"
  }
 },
 "nbformat": 4,
 "nbformat_minor": 5
}
