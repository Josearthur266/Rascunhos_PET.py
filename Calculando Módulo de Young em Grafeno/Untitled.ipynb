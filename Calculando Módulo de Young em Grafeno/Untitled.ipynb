{
 "cells": [
  {
   "cell_type": "markdown",
   "id": "a2e2de9b-d782-4f09-a02a-2907f1d58ab9",
   "metadata": {},
   "source": [
    "# Calculando Módulo de Young em Grafeno"
   ]
  },
  {
   "cell_type": "code",
   "execution_count": null,
   "id": "f1cb642d-616b-4890-8f83-2d1992c76bd7",
   "metadata": {},
   "outputs": [],
   "source": []
  }
 ],
 "metadata": {
  "kernelspec": {
   "display_name": "Python 3 (ipykernel)",
   "language": "python",
   "name": "python3"
  },
  "language_info": {
   "codemirror_mode": {
    "name": "ipython",
    "version": 3
   },
   "file_extension": ".py",
   "mimetype": "text/x-python",
   "name": "python",
   "nbconvert_exporter": "python",
   "pygments_lexer": "ipython3",
   "version": "3.11.9"
  }
 },
 "nbformat": 4,
 "nbformat_minor": 5
}
