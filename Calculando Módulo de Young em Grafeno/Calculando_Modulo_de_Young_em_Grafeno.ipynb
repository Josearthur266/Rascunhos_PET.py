{
 "cells": [
  {
   "cell_type": "markdown",
   "id": "a2e2de9b-d782-4f09-a02a-2907f1d58ab9",
   "metadata": {},
   "source": [
    "# Calculando Módulo de Young em Grafeno"
   ]
  },
  {
   "cell_type": "markdown",
   "id": "e03365da-2954-43b7-8b8b-414ad9c40be3",
   "metadata": {},
   "source": [
    "* PET - Física UFRN\n",
    "* Petiano: José Arthur de Luna Oliveira\n",
    "* Data: "
   ]
  },
  {
   "cell_type": "markdown",
   "id": "3124e7de-ec8a-4cb6-9647-bbb925876de3",
   "metadata": {},
   "source": []
  },
  {
   "cell_type": "markdown",
   "id": "7a34fc9b-cabf-431b-b7bd-857896115c54",
   "metadata": {},
   "source": []
  },
  {
   "cell_type": "markdown",
   "id": "4237af05-82c0-4eba-9bed-55470bd2842c",
   "metadata": {},
   "source": []
  },
  {
   "cell_type": "markdown",
   "id": "e95e3e7f-7369-43dd-af96-c8dd98b3f0f3",
   "metadata": {},
   "source": [
    "## 1. Módulo de Young"
   ]
  },
  {
   "cell_type": "markdown",
   "id": "00859507-403a-49d0-bcc1-790a99cf2e58",
   "metadata": {},
   "source": [
    "$\\quad$ "
   ]
  },
  {
   "cell_type": "markdown",
   "id": "1a4d3039-dbb5-4c1d-9f19-91a4ea21a692",
   "metadata": {},
   "source": []
  },
  {
   "cell_type": "markdown",
   "id": "41c81cec-1322-4139-870c-d1b3040dd97d",
   "metadata": {},
   "source": []
  }
 ],
 "metadata": {
  "kernelspec": {
   "display_name": "Python 3 (ipykernel)",
   "language": "python",
   "name": "python3"
  },
  "language_info": {
   "codemirror_mode": {
    "name": "ipython",
    "version": 3
   },
   "file_extension": ".py",
   "mimetype": "text/x-python",
   "name": "python",
   "nbconvert_exporter": "python",
   "pygments_lexer": "ipython3",
   "version": "3.11.9"
  }
 },
 "nbformat": 4,
 "nbformat_minor": 5
}
