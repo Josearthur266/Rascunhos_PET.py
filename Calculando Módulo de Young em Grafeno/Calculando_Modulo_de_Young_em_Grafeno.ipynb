{
 "cells": [
  {
   "cell_type": "markdown",
   "id": "a2e2de9b-d782-4f09-a02a-2907f1d58ab9",
   "metadata": {},
   "source": [
    "# Calculando Módulo de Young em Grafeno"
   ]
  },
  {
   "cell_type": "markdown",
   "id": "e03365da-2954-43b7-8b8b-414ad9c40be3",
   "metadata": {},
   "source": [
    "* PET - Física UFRN\n",
    "* Petiano: José Arthur de Luna Oliveira\n",
    "* Data: "
   ]
  },
  {
   "cell_type": "markdown",
   "id": "3124e7de-ec8a-4cb6-9647-bbb925876de3",
   "metadata": {},
   "source": []
  },
  {
   "cell_type": "markdown",
   "id": "7a34fc9b-cabf-431b-b7bd-857896115c54",
   "metadata": {},
   "source": [
    "## Pré-requisitos"
   ]
  },
  {
   "cell_type": "markdown",
   "id": "4237af05-82c0-4eba-9bed-55470bd2842c",
   "metadata": {},
   "source": [
    "$\\quad$ Para o usuário acompanhar os códigos feitos neste Notebook é necessário ter o `LAMMPS` e o `VMD` instalado no computador. Logo abaixo estão listados os links para fazer o download dos programas:\n",
    "\n",
    "* [LAMMPS](https://docs.lammps.org/Install.html);\n",
    "\n",
    "* [VMD](https://www.ks.uiuc.edu/Development/Download/download.cgi?PackageName=VMD).\n",
    "\n",
    "Além disso, recomendo que o leitor já tenha lido o `Notebook` _Deformando Nanotubo De Carbono_ [1], onde já foi explicado como usar algumas ferramentas do `VMD` que precisaremos usar neste trabalho."
   ]
  },
  {
   "cell_type": "markdown",
   "id": "e95e3e7f-7369-43dd-af96-c8dd98b3f0f3",
   "metadata": {},
   "source": [
    "## 1. O Módulo de Young"
   ]
  },
  {
   "cell_type": "markdown",
   "id": "00859507-403a-49d0-bcc1-790a99cf2e58",
   "metadata": {},
   "source": [
    "$\\quad$ Antes de criamos o arquivo input, devemos saber o que é o módulo de Young e como determinamos essa propriedade. O módulo de Young é uma das propriedades mecânicas mais importantes para entendermos o comportamento elástico do material. Esta mede a rigidez de um material, em outras palavras, a capacidade do material deformar em uma dimensão e retornar à sua forma original [2, 3].\n",
    "\n",
    "$\\quad$ O módulo de Young é encontrada pela relação da tensão ou stress ($\\sigma$) causado no material pela deformação ($\\epsilon$) feita, essa como definida abaixo:"
   ]
  },
  {
   "cell_type": "markdown",
   "id": "4c679ffb-6047-44fd-92c9-3ca1f4524388",
   "metadata": {},
   "source": [
    "$$ E = \\frac{\\sigma}{\\epsilon} \\ ,$$"
   ]
  },
  {
   "cell_type": "markdown",
   "id": "b8eb636e-d2ac-4ee9-adc1-96a830deec0c",
   "metadata": {},
   "source": [
    "onde $E$ é o módulo de Young. Os outros termos devem ser determinados também, o stress é definido como está descrito abaixo"
   ]
  },
  {
   "cell_type": "markdown",
   "id": "eef6f7ac-ca36-43b2-bcf8-8b0eace3c182",
   "metadata": {},
   "source": [
    "$$ \\sigma = \\frac{F}{A} \\ ,$$"
   ]
  },
  {
   "cell_type": "markdown",
   "id": "e86f2496-12c5-41b9-b6bb-95c868691599",
   "metadata": {},
   "source": [
    "em que $F$ é a força que está deformando o material e $A$ é a área da seção transversal do material. Já a deformação deve ser determinada da seguinte forma"
   ]
  },
  {
   "cell_type": "markdown",
   "id": "f5765ccb-15e0-4de3-bc25-8ed01401000c",
   "metadata": {},
   "source": [
    "$$\\epsilon = \\frac{\\Delta L}{L_0} \\ ,$$"
   ]
  },
  {
   "cell_type": "markdown",
   "id": "25a448fc-ba75-4c13-bfc4-664322183aac",
   "metadata": {},
   "source": []
  },
  {
   "cell_type": "markdown",
   "id": "c58c0790-beff-4ab4-a9f4-f2548e11db72",
   "metadata": {},
   "source": []
  },
  {
   "cell_type": "markdown",
   "id": "da900653-7eb7-4e7f-854d-de21350c00d4",
   "metadata": {},
   "source": []
  },
  {
   "cell_type": "markdown",
   "id": "e883f3bd-5330-4709-a3cf-5a862d7b3edf",
   "metadata": {},
   "source": []
  },
  {
   "cell_type": "markdown",
   "id": "afb2e165-c367-4245-9fcb-3d1ac388f889",
   "metadata": {},
   "source": []
  },
  {
   "cell_type": "markdown",
   "id": "ccad71df-653b-461f-a1e6-0170ffa096cc",
   "metadata": {},
   "source": []
  },
  {
   "cell_type": "markdown",
   "id": "ff4a7869-b654-4b64-9d40-57176d4ca03d",
   "metadata": {},
   "source": []
  },
  {
   "cell_type": "markdown",
   "id": "e7d36dbb-e237-48cb-a9db-911ed5603ccf",
   "metadata": {},
   "source": []
  },
  {
   "cell_type": "markdown",
   "id": "3fe70170-f2ab-4f7c-b12c-11718bf0294e",
   "metadata": {},
   "source": []
  },
  {
   "cell_type": "markdown",
   "id": "213601ad-1b0f-459e-af4a-6bcc2193aaea",
   "metadata": {},
   "source": []
  },
  {
   "cell_type": "markdown",
   "id": "21ea740b-0ae1-498c-b27f-7cb10799d928",
   "metadata": {},
   "source": []
  },
  {
   "cell_type": "markdown",
   "id": "07522592-59f5-41e5-89fb-a50bf734ca3b",
   "metadata": {},
   "source": []
  },
  {
   "cell_type": "markdown",
   "id": "f5f6243f-2760-4468-88f4-9f8c61b10be6",
   "metadata": {},
   "source": []
  },
  {
   "cell_type": "markdown",
   "id": "8079d47d-11b8-43b2-9d64-a4974909987a",
   "metadata": {},
   "source": []
  },
  {
   "cell_type": "markdown",
   "id": "72a0dc1f-ac2a-4461-8d7c-643db888a0ae",
   "metadata": {},
   "source": []
  },
  {
   "cell_type": "markdown",
   "id": "1a4d3039-dbb5-4c1d-9f19-91a4ea21a692",
   "metadata": {},
   "source": [
    "## Referências"
   ]
  },
  {
   "cell_type": "markdown",
   "id": "41c81cec-1322-4139-870c-d1b3040dd97d",
   "metadata": {},
   "source": [
    "**[1]** OLIVEIRA, J. A. de L. Deformando Nanotubo De Carbono. GitHub. PET - Física, 2023. Disponível em: <https://github.com/PETfisicaUFRN/PET.py/blob/main/Notebooks/Deformando%20nanotubo%20de%20carbono.ipynb>. Acesso em: 29/jun./24.\n",
    "\n",
    "**[2]** COSTA, M. Da. Módulo De Elasticidade Ou Módulo De Young. Biopdi. 2023. Disponível em: <https://biopdi.com.br/artigos/modulo-de-elasticidade-ou-modulo-de-young/>. Acesso em: jun./29DC.\n",
    "\n",
    "**[3]** DARAEE, M.; HASSANI, S.; AZAR, S. An Overview of Determination of Young’s modulus by AFM in Various Fields. [s.l.]: [s.n.], [s.d.]. Acesso em: 29/jun./24.\n",
    "\n",
    "**[4]** THOMPSON, A. et al. LAMMPS - a Flexible Simulation Tool for particle-based Materials Modeling at the atomic, meso, and Continuum Scales. Computer Physics Communications, [s.l.], 2022. DOI: https://doi.org/10.1016/j.cpc.2021.108171."
   ]
  }
 ],
 "metadata": {
  "kernelspec": {
   "display_name": "Python 3 (ipykernel)",
   "language": "python",
   "name": "python3"
  },
  "language_info": {
   "codemirror_mode": {
    "name": "ipython",
    "version": 3
   },
   "file_extension": ".py",
   "mimetype": "text/x-python",
   "name": "python",
   "nbconvert_exporter": "python",
   "pygments_lexer": "ipython3",
   "version": "3.11.9"
  }
 },
 "nbformat": 4,
 "nbformat_minor": 5
}
